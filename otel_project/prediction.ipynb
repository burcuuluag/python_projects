{
 "cells": [
  {
   "cell_type": "code",
   "execution_count": 125,
   "metadata": {},
   "outputs": [],
   "source": [
    "import pandas as pd\n",
    "import numpy as np\n",
    "import matplotlib.pyplot as plt\n",
    "\n",
    "from sklearn import tree\n",
    "from sklearn.tree import DecisionTreeClassifier\n",
    "from sklearn.model_selection import train_test_split\n",
    "\n",
    "from sklearn.preprocessing import LabelEncoder, StandardScaler\n",
    "from sklearn.tree import DecisionTreeClassifier\n",
    "\n",
    "from sklearn import datasets, linear_model\n",
    "\n",
    "from sklearn.linear_model import LinearRegression\n",
    "from sklearn.preprocessing import PolynomialFeatures\n",
    "from sklearn.ensemble import RandomForestRegressor"
   ]
  },
  {
   "cell_type": "code",
   "execution_count": 126,
   "metadata": {},
   "outputs": [],
   "source": [
    "df=pd.read_csv(\"/home/buluag/msc/oda_onerisi.csv\", header= 0, encoding= 'unicode_escape')"
   ]
  },
  {
   "cell_type": "markdown",
   "metadata": {},
   "source": [
    "## Örnek veri"
   ]
  },
  {
   "cell_type": "code",
   "execution_count": 127,
   "metadata": {},
   "outputs": [
    {
     "data": {
      "text/html": [
       "<div>\n",
       "<style scoped>\n",
       "    .dataframe tbody tr th:only-of-type {\n",
       "        vertical-align: middle;\n",
       "    }\n",
       "\n",
       "    .dataframe tbody tr th {\n",
       "        vertical-align: top;\n",
       "    }\n",
       "\n",
       "    .dataframe thead th {\n",
       "        text-align: right;\n",
       "    }\n",
       "</style>\n",
       "<table border=\"1\" class=\"dataframe\">\n",
       "  <thead>\n",
       "    <tr style=\"text-align: right;\">\n",
       "      <th></th>\n",
       "      <th>gelir</th>\n",
       "      <th>egitim</th>\n",
       "      <th>evli_bekar</th>\n",
       "      <th>cocuk_sayisi</th>\n",
       "      <th>yas</th>\n",
       "      <th>cinsiyet</th>\n",
       "      <th>mevsim</th>\n",
       "      <th>yerli_yabanci</th>\n",
       "      <th>kalinan_gun_sayisi</th>\n",
       "      <th>oda_tipi</th>\n",
       "    </tr>\n",
       "  </thead>\n",
       "  <tbody>\n",
       "    <tr>\n",
       "      <th>0</th>\n",
       "      <td>10000</td>\n",
       "      <td>lisans</td>\n",
       "      <td>evli</td>\n",
       "      <td>2</td>\n",
       "      <td>35</td>\n",
       "      <td>kadin</td>\n",
       "      <td>yaz</td>\n",
       "      <td>yerli</td>\n",
       "      <td>1</td>\n",
       "      <td>standart</td>\n",
       "    </tr>\n",
       "    <tr>\n",
       "      <th>1</th>\n",
       "      <td>90000</td>\n",
       "      <td>lisans</td>\n",
       "      <td>bekar</td>\n",
       "      <td>0</td>\n",
       "      <td>18</td>\n",
       "      <td>erkek</td>\n",
       "      <td>ilkbahar</td>\n",
       "      <td>yerli</td>\n",
       "      <td>4</td>\n",
       "      <td>delux</td>\n",
       "    </tr>\n",
       "    <tr>\n",
       "      <th>2</th>\n",
       "      <td>15000</td>\n",
       "      <td>master</td>\n",
       "      <td>evli</td>\n",
       "      <td>1</td>\n",
       "      <td>45</td>\n",
       "      <td>kadin</td>\n",
       "      <td>yaz</td>\n",
       "      <td>yerli</td>\n",
       "      <td>7</td>\n",
       "      <td>suit</td>\n",
       "    </tr>\n",
       "    <tr>\n",
       "      <th>3</th>\n",
       "      <td>20000</td>\n",
       "      <td>lise</td>\n",
       "      <td>bekar</td>\n",
       "      <td>0</td>\n",
       "      <td>22</td>\n",
       "      <td>kadin</td>\n",
       "      <td>yaz</td>\n",
       "      <td>yabanci</td>\n",
       "      <td>7</td>\n",
       "      <td>suit</td>\n",
       "    </tr>\n",
       "    <tr>\n",
       "      <th>4</th>\n",
       "      <td>40000</td>\n",
       "      <td>lise</td>\n",
       "      <td>evli</td>\n",
       "      <td>2</td>\n",
       "      <td>27</td>\n",
       "      <td>erkek</td>\n",
       "      <td>yaz</td>\n",
       "      <td>yerli</td>\n",
       "      <td>14</td>\n",
       "      <td>suit</td>\n",
       "    </tr>\n",
       "  </tbody>\n",
       "</table>\n",
       "</div>"
      ],
      "text/plain": [
       "   gelir  egitim evli_bekar  cocuk_sayisi  yas cinsiyet    mevsim  \\\n",
       "0  10000  lisans       evli             2   35    kadin       yaz   \n",
       "1  90000  lisans      bekar             0   18    erkek  ilkbahar   \n",
       "2  15000  master       evli             1   45    kadin       yaz   \n",
       "3  20000    lise      bekar             0   22    kadin       yaz   \n",
       "4  40000    lise       evli             2   27    erkek       yaz   \n",
       "\n",
       "  yerli_yabanci  kalinan_gun_sayisi  oda_tipi  \n",
       "0         yerli                   1  standart  \n",
       "1         yerli                   4     delux  \n",
       "2         yerli                   7      suit  \n",
       "3       yabanci                   7      suit  \n",
       "4         yerli                  14      suit  "
      ]
     },
     "execution_count": 127,
     "metadata": {},
     "output_type": "execute_result"
    }
   ],
   "source": [
    "df.head()"
   ]
  },
  {
   "attachments": {},
   "cell_type": "markdown",
   "metadata": {},
   "source": [
    "## Tanımlayıcı İstatistikler\n",
    "\n",
    "Otelde kalan misafirlerin bilgilerine göre bazı istatistikler tutulmuştur. Örneğin misafirler otelde ortalama 8 gün konaklamaktadırlar. maksimum kalınan gün sayısı ise 21'dir. Otelde kalan misafirlerin gelir istatistikleri tutularak ise oda ve alınan hizmetler için fiyat belirlemesi yapılabilir. Otele gelen çocuk sayısı ve yaş ortalasına göre oteldeki aktiviteler belirlenebilir."
   ]
  },
  {
   "cell_type": "code",
   "execution_count": 128,
   "metadata": {},
   "outputs": [
    {
     "data": {
      "text/html": [
       "<div>\n",
       "<style scoped>\n",
       "    .dataframe tbody tr th:only-of-type {\n",
       "        vertical-align: middle;\n",
       "    }\n",
       "\n",
       "    .dataframe tbody tr th {\n",
       "        vertical-align: top;\n",
       "    }\n",
       "\n",
       "    .dataframe thead th {\n",
       "        text-align: right;\n",
       "    }\n",
       "</style>\n",
       "<table border=\"1\" class=\"dataframe\">\n",
       "  <thead>\n",
       "    <tr style=\"text-align: right;\">\n",
       "      <th></th>\n",
       "      <th>gelir</th>\n",
       "      <th>cocuk_sayisi</th>\n",
       "      <th>yas</th>\n",
       "      <th>kalinan_gun_sayisi</th>\n",
       "    </tr>\n",
       "  </thead>\n",
       "  <tbody>\n",
       "    <tr>\n",
       "      <th>count</th>\n",
       "      <td>30.000000</td>\n",
       "      <td>30.000000</td>\n",
       "      <td>30.000000</td>\n",
       "      <td>30.000000</td>\n",
       "    </tr>\n",
       "    <tr>\n",
       "      <th>mean</th>\n",
       "      <td>24135.866667</td>\n",
       "      <td>1.466667</td>\n",
       "      <td>37.333333</td>\n",
       "      <td>8.533333</td>\n",
       "    </tr>\n",
       "    <tr>\n",
       "      <th>std</th>\n",
       "      <td>17044.052818</td>\n",
       "      <td>1.613164</td>\n",
       "      <td>17.229352</td>\n",
       "      <td>4.446877</td>\n",
       "    </tr>\n",
       "    <tr>\n",
       "      <th>min</th>\n",
       "      <td>2000.000000</td>\n",
       "      <td>0.000000</td>\n",
       "      <td>18.000000</td>\n",
       "      <td>1.000000</td>\n",
       "    </tr>\n",
       "    <tr>\n",
       "      <th>25%</th>\n",
       "      <td>15002.000000</td>\n",
       "      <td>0.000000</td>\n",
       "      <td>24.000000</td>\n",
       "      <td>6.000000</td>\n",
       "    </tr>\n",
       "    <tr>\n",
       "      <th>50%</th>\n",
       "      <td>20000.000000</td>\n",
       "      <td>1.000000</td>\n",
       "      <td>34.000000</td>\n",
       "      <td>7.000000</td>\n",
       "    </tr>\n",
       "    <tr>\n",
       "      <th>75%</th>\n",
       "      <td>30339.000000</td>\n",
       "      <td>2.000000</td>\n",
       "      <td>46.500000</td>\n",
       "      <td>11.500000</td>\n",
       "    </tr>\n",
       "    <tr>\n",
       "      <th>max</th>\n",
       "      <td>90000.000000</td>\n",
       "      <td>5.000000</td>\n",
       "      <td>78.000000</td>\n",
       "      <td>21.000000</td>\n",
       "    </tr>\n",
       "  </tbody>\n",
       "</table>\n",
       "</div>"
      ],
      "text/plain": [
       "              gelir  cocuk_sayisi        yas  kalinan_gun_sayisi\n",
       "count     30.000000     30.000000  30.000000           30.000000\n",
       "mean   24135.866667      1.466667  37.333333            8.533333\n",
       "std    17044.052818      1.613164  17.229352            4.446877\n",
       "min     2000.000000      0.000000  18.000000            1.000000\n",
       "25%    15002.000000      0.000000  24.000000            6.000000\n",
       "50%    20000.000000      1.000000  34.000000            7.000000\n",
       "75%    30339.000000      2.000000  46.500000           11.500000\n",
       "max    90000.000000      5.000000  78.000000           21.000000"
      ]
     },
     "execution_count": 128,
     "metadata": {},
     "output_type": "execute_result"
    }
   ],
   "source": [
    "df.describe()"
   ]
  },
  {
   "cell_type": "code",
   "execution_count": 129,
   "metadata": {},
   "outputs": [
    {
     "name": "stdout",
     "output_type": "stream",
     "text": [
      "<class 'pandas.core.frame.DataFrame'>\n",
      "RangeIndex: 30 entries, 0 to 29\n",
      "Data columns (total 10 columns):\n",
      " #   Column              Non-Null Count  Dtype \n",
      "---  ------              --------------  ----- \n",
      " 0   gelir               30 non-null     int64 \n",
      " 1   egitim              30 non-null     object\n",
      " 2   evli_bekar          30 non-null     object\n",
      " 3   cocuk_sayisi        30 non-null     int64 \n",
      " 4   yas                 30 non-null     int64 \n",
      " 5   cinsiyet            30 non-null     object\n",
      " 6   mevsim              30 non-null     object\n",
      " 7   yerli_yabanci       30 non-null     object\n",
      " 8   kalinan_gun_sayisi  30 non-null     int64 \n",
      " 9   oda_tipi            30 non-null     object\n",
      "dtypes: int64(4), object(6)\n",
      "memory usage: 2.5+ KB\n",
      "None\n"
     ]
    }
   ],
   "source": [
    "print(df.info())"
   ]
  },
  {
   "cell_type": "code",
   "execution_count": 130,
   "metadata": {},
   "outputs": [
    {
     "data": {
      "text/html": [
       "<div>\n",
       "<style scoped>\n",
       "    .dataframe tbody tr th:only-of-type {\n",
       "        vertical-align: middle;\n",
       "    }\n",
       "\n",
       "    .dataframe tbody tr th {\n",
       "        vertical-align: top;\n",
       "    }\n",
       "\n",
       "    .dataframe thead th {\n",
       "        text-align: right;\n",
       "    }\n",
       "</style>\n",
       "<table border=\"1\" class=\"dataframe\">\n",
       "  <thead>\n",
       "    <tr style=\"text-align: right;\">\n",
       "      <th></th>\n",
       "      <th>gelir</th>\n",
       "      <th>egitim</th>\n",
       "      <th>evli_bekar</th>\n",
       "      <th>cocuk_sayisi</th>\n",
       "      <th>yas</th>\n",
       "      <th>cinsiyet</th>\n",
       "      <th>mevsim</th>\n",
       "      <th>yerli_yabanci</th>\n",
       "      <th>kalinan_gun_sayisi</th>\n",
       "    </tr>\n",
       "  </thead>\n",
       "  <tbody>\n",
       "    <tr>\n",
       "      <th>0</th>\n",
       "      <td>10000</td>\n",
       "      <td>lisans</td>\n",
       "      <td>evli</td>\n",
       "      <td>2</td>\n",
       "      <td>35</td>\n",
       "      <td>kadin</td>\n",
       "      <td>yaz</td>\n",
       "      <td>yerli</td>\n",
       "      <td>1</td>\n",
       "    </tr>\n",
       "    <tr>\n",
       "      <th>1</th>\n",
       "      <td>90000</td>\n",
       "      <td>lisans</td>\n",
       "      <td>bekar</td>\n",
       "      <td>0</td>\n",
       "      <td>18</td>\n",
       "      <td>erkek</td>\n",
       "      <td>ilkbahar</td>\n",
       "      <td>yerli</td>\n",
       "      <td>4</td>\n",
       "    </tr>\n",
       "    <tr>\n",
       "      <th>2</th>\n",
       "      <td>15000</td>\n",
       "      <td>master</td>\n",
       "      <td>evli</td>\n",
       "      <td>1</td>\n",
       "      <td>45</td>\n",
       "      <td>kadin</td>\n",
       "      <td>yaz</td>\n",
       "      <td>yerli</td>\n",
       "      <td>7</td>\n",
       "    </tr>\n",
       "    <tr>\n",
       "      <th>3</th>\n",
       "      <td>20000</td>\n",
       "      <td>lise</td>\n",
       "      <td>bekar</td>\n",
       "      <td>0</td>\n",
       "      <td>22</td>\n",
       "      <td>kadin</td>\n",
       "      <td>yaz</td>\n",
       "      <td>yabanci</td>\n",
       "      <td>7</td>\n",
       "    </tr>\n",
       "    <tr>\n",
       "      <th>4</th>\n",
       "      <td>40000</td>\n",
       "      <td>lise</td>\n",
       "      <td>evli</td>\n",
       "      <td>2</td>\n",
       "      <td>27</td>\n",
       "      <td>erkek</td>\n",
       "      <td>yaz</td>\n",
       "      <td>yerli</td>\n",
       "      <td>14</td>\n",
       "    </tr>\n",
       "  </tbody>\n",
       "</table>\n",
       "</div>"
      ],
      "text/plain": [
       "   gelir  egitim evli_bekar  cocuk_sayisi  yas cinsiyet    mevsim  \\\n",
       "0  10000  lisans       evli             2   35    kadin       yaz   \n",
       "1  90000  lisans      bekar             0   18    erkek  ilkbahar   \n",
       "2  15000  master       evli             1   45    kadin       yaz   \n",
       "3  20000    lise      bekar             0   22    kadin       yaz   \n",
       "4  40000    lise       evli             2   27    erkek       yaz   \n",
       "\n",
       "  yerli_yabanci  kalinan_gun_sayisi  \n",
       "0         yerli                   1  \n",
       "1         yerli                   4  \n",
       "2         yerli                   7  \n",
       "3       yabanci                   7  \n",
       "4         yerli                  14  "
      ]
     },
     "execution_count": 130,
     "metadata": {},
     "output_type": "execute_result"
    }
   ],
   "source": [
    "features=df[df.columns[:9]]\n",
    "features.head()"
   ]
  },
  {
   "cell_type": "code",
   "execution_count": 131,
   "metadata": {},
   "outputs": [
    {
     "data": {
      "text/plain": [
       "0    standart\n",
       "1       delux\n",
       "2        suit\n",
       "3        suit\n",
       "4        suit\n",
       "Name: oda_tipi, dtype: object"
      ]
     },
     "execution_count": 131,
     "metadata": {},
     "output_type": "execute_result"
    }
   ],
   "source": [
    "labels=df[df.columns[9]]\n",
    "labels.head()"
   ]
  },
  {
   "cell_type": "code",
   "execution_count": 132,
   "metadata": {},
   "outputs": [
    {
     "name": "stdout",
     "output_type": "stream",
     "text": [
      "gelir                  int64\n",
      "egitim                object\n",
      "evli_bekar            object\n",
      "cocuk_sayisi           int64\n",
      "yas                    int64\n",
      "cinsiyet              object\n",
      "mevsim                object\n",
      "yerli_yabanci         object\n",
      "kalinan_gun_sayisi     int64\n",
      "oda_tipi              object\n",
      "dtype: object\n"
     ]
    }
   ],
   "source": [
    "df = df.infer_objects()\n",
    "print(df.dtypes)"
   ]
  },
  {
   "cell_type": "code",
   "execution_count": 133,
   "metadata": {},
   "outputs": [
    {
     "name": "stdout",
     "output_type": "stream",
     "text": [
      "gelir                 float64\n",
      "egitim                 object\n",
      "evli_bekar               bool\n",
      "cocuk_sayisi            int64\n",
      "yas                     int64\n",
      "cinsiyet               object\n",
      "mevsim                 object\n",
      "yerli_yabanci          object\n",
      "kalinan_gun_sayisi      int64\n",
      "oda_tipi               object\n",
      "dtype: object\n"
     ]
    }
   ],
   "source": [
    "convert_dict = {\n",
    "    'gelir': float,\n",
    "    'egitim': object,\n",
    "    'evli_bekar': bool,\n",
    "    'cocuk_sayisi': int,\n",
    "    'yas': int,\n",
    "    'cinsiyet': object\n",
    "}\n",
    " \n",
    "d2 = df.astype(convert_dict)\n",
    "\n",
    "print(d2.dtypes)"
   ]
  },
  {
   "cell_type": "code",
   "execution_count": 134,
   "metadata": {},
   "outputs": [
    {
     "name": "stdout",
     "output_type": "stream",
     "text": [
      "[[10000 'lisans' 'evli' 2 35 'kadin' 'yaz' 'yerli' 1]\n",
      " [90000 'lisans' 'bekar' 0 18 'erkek' 'ilkbahar' 'yerli' 4]\n",
      " [15000 'master' 'evli' 1 45 'kadin' 'yaz' 'yerli' 7]\n",
      " [20000 'lise' 'bekar' 0 22 'kadin' 'yaz' 'yabanci' 7]\n",
      " [40000 'lise' 'evli' 2 27 'erkek' 'yaz' 'yerli' 14]\n",
      " [8500 'lisans' 'evli' 3 36 'erkek' 'yaz' 'yabanci' 4]\n",
      " [12747 'lisans' 'evli' 1 25 'erkek' 'sonbahar' 'yabanci' 10]\n",
      " [30000 'master' 'bekar' 0 21 'erkek' 'yaz' 'yerli' 12]\n",
      " [40050 'lisans' 'evli' 5 63 'kadin' 'yaz' 'yerli' 15]\n",
      " [22000 'lisans' 'bekar' 0 19 'erkek' 'yaz' 'yerli' 10]\n",
      " [50000 'lisans' 'bekar' 0 34 'erkek' 'yaz' 'yerli' 21]\n",
      " [9000 'lisans' 'bekar' 0 27 'kadin' 'sonbahar' 'yabanci' 5]\n",
      " [15000 'master' 'evli' 3 71 'kadin' 'yaz' 'yerli' 7]\n",
      " [15500 'lisans' 'bekar' 0 57 'erkek' 'yaz' 'yerli' 7]\n",
      " [15008 'master' 'evli' 2 20 'kadin' 'ilkbahar' 'yerli' 6]\n",
      " [30452 'lisans' 'bekar' 0 48 'erkek' 'yaz' 'yerli' 12]\n",
      " [2000 'lisans' 'evli' 3 47 'erkek' 'yaz' 'yerli' 14]\n",
      " [23847 'lisans' 'evli' 1 38 'kadin' 'yaz' 'yerli' 8]\n",
      " [32356 'lise' 'evli' 2 24 'erkek' 'yaz' 'yabanci' 14]\n",
      " [20000 'lise' 'evli' 3 34 'kadin' 'yaz' 'yerli' 6]\n",
      " [20000 'lisans' 'evli' 5 24 'erkek' 'yaz' 'yerli' 7]\n",
      " [4500 'lisans' 'evli' 1 22 'erkek' 'sonbahar' 'yerli' 6]\n",
      " [16000 'master' 'bekar' 0 45 'kadin' 'yaz' 'yerli' 2]\n",
      " [30000 'lisans' 'evli' 1 27 'kadin' 'yaz' 'yerli' 10]\n",
      " [38050 'lisans' 'bekar' 0 66 'erkek' 'yaz' 'yerli' 8]\n",
      " [22000 'lisans' 'bekar' 0 34 'kadin' 'yaz' 'yabanci' 7]\n",
      " [21000 'lisans' 'bekar' 0 78 'erkek' 'sonbahar' 'yerli' 7]\n",
      " [40050 'lisans' 'evli' 5 63 'kadin' 'yaz' 'yerli' 15]\n",
      " [15008 'master' 'evli' 2 20 'erkek' 'ilkbahar' 'yerli' 5]\n",
      " [16008 'lisans' 'evli' 2 30 'erkek' 'ilkbahar' 'yerli' 5]]\n",
      "['standart' 'delux' 'suit' 'suit' 'suit' 'delux' 'delux' 'delux'\n",
      " 'standart' 'suit' 'suit' 'standart' 'delux' 'delux' 'standart' 'delux'\n",
      " 'delux' 'delux' 'suit' 'delux' 'suit' 'standart' 'delux' 'delux' 'delux'\n",
      " 'suit' 'delux' 'suit' 'standart' 'standart']\n"
     ]
    }
   ],
   "source": [
    "X=df.values[:,0:9]\n",
    "Y=df.values[:,9]\n",
    "print(X)\n",
    "print(Y)"
   ]
  },
  {
   "cell_type": "code",
   "execution_count": 135,
   "metadata": {},
   "outputs": [],
   "source": [
    "df = pd.DataFrame(df)"
   ]
  },
  {
   "attachments": {},
   "cell_type": "markdown",
   "metadata": {},
   "source": [
    "LabelEncoder ile kategorik veriler numerik verilere dönüştürülüyor."
   ]
  },
  {
   "cell_type": "code",
   "execution_count": 136,
   "metadata": {},
   "outputs": [],
   "source": [
    "# Encode categorical data\n",
    "categorical_cols = ['egitim', 'evli_bekar', 'cinsiyet', 'mevsim', 'yerli_yabanci']\n",
    "le = LabelEncoder()\n",
    "for col in categorical_cols:\n",
    "    df[col] = le.fit_transform(df[col])\n"
   ]
  },
  {
   "cell_type": "code",
   "execution_count": 137,
   "metadata": {},
   "outputs": [],
   "source": [
    "# Scale the numerical data\n",
    "scaler = StandardScaler()\n",
    "numerical_cols = ['gelir','yas','kalinan_gun_sayisi']\n",
    "df[numerical_cols] = scaler.fit_transform(df[numerical_cols])"
   ]
  },
  {
   "cell_type": "code",
   "execution_count": 138,
   "metadata": {},
   "outputs": [],
   "source": [
    "# Split dataset into features and target\n",
    "X = df.drop('oda_tipi', axis=1)\n",
    "y = df['oda_tipi']"
   ]
  },
  {
   "cell_type": "code",
   "execution_count": 139,
   "metadata": {},
   "outputs": [],
   "source": [
    "# Create train and test datasets\n",
    "X_train, X_test, y_train, y_test = train_test_split(X, y, test_size=0.4, random_state=42)"
   ]
  },
  {
   "cell_type": "code",
   "execution_count": 140,
   "metadata": {},
   "outputs": [
    {
     "data": {
      "text/html": [
       "<style>#sk-container-id-10 {color: black;background-color: white;}#sk-container-id-10 pre{padding: 0;}#sk-container-id-10 div.sk-toggleable {background-color: white;}#sk-container-id-10 label.sk-toggleable__label {cursor: pointer;display: block;width: 100%;margin-bottom: 0;padding: 0.3em;box-sizing: border-box;text-align: center;}#sk-container-id-10 label.sk-toggleable__label-arrow:before {content: \"▸\";float: left;margin-right: 0.25em;color: #696969;}#sk-container-id-10 label.sk-toggleable__label-arrow:hover:before {color: black;}#sk-container-id-10 div.sk-estimator:hover label.sk-toggleable__label-arrow:before {color: black;}#sk-container-id-10 div.sk-toggleable__content {max-height: 0;max-width: 0;overflow: hidden;text-align: left;background-color: #f0f8ff;}#sk-container-id-10 div.sk-toggleable__content pre {margin: 0.2em;color: black;border-radius: 0.25em;background-color: #f0f8ff;}#sk-container-id-10 input.sk-toggleable__control:checked~div.sk-toggleable__content {max-height: 200px;max-width: 100%;overflow: auto;}#sk-container-id-10 input.sk-toggleable__control:checked~label.sk-toggleable__label-arrow:before {content: \"▾\";}#sk-container-id-10 div.sk-estimator input.sk-toggleable__control:checked~label.sk-toggleable__label {background-color: #d4ebff;}#sk-container-id-10 div.sk-label input.sk-toggleable__control:checked~label.sk-toggleable__label {background-color: #d4ebff;}#sk-container-id-10 input.sk-hidden--visually {border: 0;clip: rect(1px 1px 1px 1px);clip: rect(1px, 1px, 1px, 1px);height: 1px;margin: -1px;overflow: hidden;padding: 0;position: absolute;width: 1px;}#sk-container-id-10 div.sk-estimator {font-family: monospace;background-color: #f0f8ff;border: 1px dotted black;border-radius: 0.25em;box-sizing: border-box;margin-bottom: 0.5em;}#sk-container-id-10 div.sk-estimator:hover {background-color: #d4ebff;}#sk-container-id-10 div.sk-parallel-item::after {content: \"\";width: 100%;border-bottom: 1px solid gray;flex-grow: 1;}#sk-container-id-10 div.sk-label:hover label.sk-toggleable__label {background-color: #d4ebff;}#sk-container-id-10 div.sk-serial::before {content: \"\";position: absolute;border-left: 1px solid gray;box-sizing: border-box;top: 0;bottom: 0;left: 50%;z-index: 0;}#sk-container-id-10 div.sk-serial {display: flex;flex-direction: column;align-items: center;background-color: white;padding-right: 0.2em;padding-left: 0.2em;position: relative;}#sk-container-id-10 div.sk-item {position: relative;z-index: 1;}#sk-container-id-10 div.sk-parallel {display: flex;align-items: stretch;justify-content: center;background-color: white;position: relative;}#sk-container-id-10 div.sk-item::before, #sk-container-id-10 div.sk-parallel-item::before {content: \"\";position: absolute;border-left: 1px solid gray;box-sizing: border-box;top: 0;bottom: 0;left: 50%;z-index: -1;}#sk-container-id-10 div.sk-parallel-item {display: flex;flex-direction: column;z-index: 1;position: relative;background-color: white;}#sk-container-id-10 div.sk-parallel-item:first-child::after {align-self: flex-end;width: 50%;}#sk-container-id-10 div.sk-parallel-item:last-child::after {align-self: flex-start;width: 50%;}#sk-container-id-10 div.sk-parallel-item:only-child::after {width: 0;}#sk-container-id-10 div.sk-dashed-wrapped {border: 1px dashed gray;margin: 0 0.4em 0.5em 0.4em;box-sizing: border-box;padding-bottom: 0.4em;background-color: white;}#sk-container-id-10 div.sk-label label {font-family: monospace;font-weight: bold;display: inline-block;line-height: 1.2em;}#sk-container-id-10 div.sk-label-container {text-align: center;}#sk-container-id-10 div.sk-container {/* jupyter's `normalize.less` sets `[hidden] { display: none; }` but bootstrap.min.css set `[hidden] { display: none !important; }` so we also need the `!important` here to be able to override the default hidden behavior on the sphinx rendered scikit-learn.org. See: https://github.com/scikit-learn/scikit-learn/issues/21755 */display: inline-block !important;position: relative;}#sk-container-id-10 div.sk-text-repr-fallback {display: none;}</style><div id=\"sk-container-id-10\" class=\"sk-top-container\"><div class=\"sk-text-repr-fallback\"><pre>DecisionTreeClassifier()</pre><b>In a Jupyter environment, please rerun this cell to show the HTML representation or trust the notebook. <br />On GitHub, the HTML representation is unable to render, please try loading this page with nbviewer.org.</b></div><div class=\"sk-container\" hidden><div class=\"sk-item\"><div class=\"sk-estimator sk-toggleable\"><input class=\"sk-toggleable__control sk-hidden--visually\" id=\"sk-estimator-id-10\" type=\"checkbox\" checked><label for=\"sk-estimator-id-10\" class=\"sk-toggleable__label sk-toggleable__label-arrow\">DecisionTreeClassifier</label><div class=\"sk-toggleable__content\"><pre>DecisionTreeClassifier()</pre></div></div></div></div></div>"
      ],
      "text/plain": [
       "DecisionTreeClassifier()"
      ]
     },
     "execution_count": 140,
     "metadata": {},
     "output_type": "execute_result"
    }
   ],
   "source": [
    "# Create and train the decision tree classifier\n",
    "clf = DecisionTreeClassifier()\n",
    "clf.fit(X_train, y_train)"
   ]
  },
  {
   "cell_type": "code",
   "execution_count": 141,
   "metadata": {},
   "outputs": [
    {
     "name": "stdout",
     "output_type": "stream",
     "text": [
      "['delux' 'delux']\n"
     ]
    }
   ],
   "source": [
    "data = {'gelir': [60000, 40000], \n",
    "        'egitim': ['lisans', 'lise'], \n",
    "        'evli_bekar': ['bekar', 'evli'], \n",
    "        'cocuk_sayisi': [3, 2], \n",
    "        'yas': [35, 42], \n",
    "        'cinsiyet': ['kadin', 'erkek'], \n",
    "        'mevsim': ['yaz', 'yaz'], \n",
    "        'yerli_yabanci': ['yerli', 'yabanci'], \n",
    "        'kalinan_gun_sayisi': [5, 7], \n",
    "        }\n",
    "\n",
    "input = pd.DataFrame(data)\n",
    "\n",
    "for col in categorical_cols:\n",
    "    input[col] = le.fit_transform(input[col])\n",
    "\n",
    "input[numerical_cols] = scaler.fit_transform(input[numerical_cols])\n",
    "\n",
    "predictions = clf.predict(input)\n",
    "print(predictions)"
   ]
  },
  {
   "attachments": {},
   "cell_type": "markdown",
   "metadata": {},
   "source": [
    "### Model, birinci misafire standart odayı, ikinci misafire ise delux odayı tavsiye etmiştir. "
   ]
  },
  {
   "attachments": {},
   "cell_type": "markdown",
   "metadata": {},
   "source": [
    "## Lineer Regresyon"
   ]
  },
  {
   "cell_type": "code",
   "execution_count": 142,
   "metadata": {},
   "outputs": [],
   "source": [
    "df=pd.read_csv(\"/home/buluag/msc/oda_onerisi.csv\")"
   ]
  },
  {
   "cell_type": "code",
   "execution_count": 143,
   "metadata": {},
   "outputs": [
    {
     "data": {
      "text/plain": [
       "(30, 10)"
      ]
     },
     "execution_count": 143,
     "metadata": {},
     "output_type": "execute_result"
    }
   ],
   "source": [
    "df.shape"
   ]
  },
  {
   "cell_type": "code",
   "execution_count": 144,
   "metadata": {},
   "outputs": [
    {
     "data": {
      "image/png": "[encoded data removed]",
      "text/plain": [
       "<Figure size 640x480 with 1 Axes>"
      ]
     },
     "metadata": {},
     "output_type": "display_data"
    }
   ],
   "source": [
    "df.plot(kind='scatter', x='gelir', y='kalinan_gun_sayisi')\n",
    "plt.show()"
   ]
  },
  {
   "cell_type": "code",
   "execution_count": 145,
   "metadata": {},
   "outputs": [
    {
     "data": {
      "image/png": "[encoded data removed]",
      "text/plain": [
       "<Figure size 640x480 with 1 Axes>"
      ]
     },
     "metadata": {},
     "output_type": "display_data"
    }
   ],
   "source": [
    "df.plot(kind='box', x='gelir', y='kalinan_gun_sayisi')\n",
    "plt.show()"
   ]
  },
  {
   "cell_type": "code",
   "execution_count": 146,
   "metadata": {},
   "outputs": [
    {
     "name": "stdout",
     "output_type": "stream",
     "text": [
      "0.3432225365418049\n"
     ]
    }
   ],
   "source": [
    "print(df['gelir'].corr(df['kalinan_gun_sayisi']))"
   ]
  },
  {
   "attachments": {},
   "cell_type": "markdown",
   "metadata": {},
   "source": [
    "Yorum: gelir ile kalinan gün arasında zayıf bir ilişki vardır."
   ]
  },
  {
   "attachments": {},
   "cell_type": "markdown",
   "metadata": {},
   "source": [
    "lineer regresyon modelinin kurulması:"
   ]
  },
  {
   "cell_type": "code",
   "execution_count": 147,
   "metadata": {},
   "outputs": [
    {
     "data": {
      "text/html": [
       "<div>\n",
       "<style scoped>\n",
       "    .dataframe tbody tr th:only-of-type {\n",
       "        vertical-align: middle;\n",
       "    }\n",
       "\n",
       "    .dataframe tbody tr th {\n",
       "        vertical-align: top;\n",
       "    }\n",
       "\n",
       "    .dataframe thead th {\n",
       "        text-align: right;\n",
       "    }\n",
       "</style>\n",
       "<table border=\"1\" class=\"dataframe\">\n",
       "  <thead>\n",
       "    <tr style=\"text-align: right;\">\n",
       "      <th></th>\n",
       "      <th>gelir</th>\n",
       "    </tr>\n",
       "  </thead>\n",
       "  <tbody>\n",
       "    <tr>\n",
       "      <th>0</th>\n",
       "      <td>10000</td>\n",
       "    </tr>\n",
       "    <tr>\n",
       "      <th>1</th>\n",
       "      <td>90000</td>\n",
       "    </tr>\n",
       "    <tr>\n",
       "      <th>2</th>\n",
       "      <td>15000</td>\n",
       "    </tr>\n",
       "    <tr>\n",
       "      <th>3</th>\n",
       "      <td>20000</td>\n",
       "    </tr>\n",
       "    <tr>\n",
       "      <th>4</th>\n",
       "      <td>40000</td>\n",
       "    </tr>\n",
       "    <tr>\n",
       "      <th>5</th>\n",
       "      <td>8500</td>\n",
       "    </tr>\n",
       "    <tr>\n",
       "      <th>6</th>\n",
       "      <td>12747</td>\n",
       "    </tr>\n",
       "    <tr>\n",
       "      <th>7</th>\n",
       "      <td>30000</td>\n",
       "    </tr>\n",
       "    <tr>\n",
       "      <th>8</th>\n",
       "      <td>40050</td>\n",
       "    </tr>\n",
       "    <tr>\n",
       "      <th>9</th>\n",
       "      <td>22000</td>\n",
       "    </tr>\n",
       "    <tr>\n",
       "      <th>10</th>\n",
       "      <td>50000</td>\n",
       "    </tr>\n",
       "    <tr>\n",
       "      <th>11</th>\n",
       "      <td>9000</td>\n",
       "    </tr>\n",
       "    <tr>\n",
       "      <th>12</th>\n",
       "      <td>15000</td>\n",
       "    </tr>\n",
       "    <tr>\n",
       "      <th>13</th>\n",
       "      <td>15500</td>\n",
       "    </tr>\n",
       "    <tr>\n",
       "      <th>14</th>\n",
       "      <td>15008</td>\n",
       "    </tr>\n",
       "    <tr>\n",
       "      <th>15</th>\n",
       "      <td>30452</td>\n",
       "    </tr>\n",
       "    <tr>\n",
       "      <th>16</th>\n",
       "      <td>2000</td>\n",
       "    </tr>\n",
       "    <tr>\n",
       "      <th>17</th>\n",
       "      <td>23847</td>\n",
       "    </tr>\n",
       "    <tr>\n",
       "      <th>18</th>\n",
       "      <td>32356</td>\n",
       "    </tr>\n",
       "    <tr>\n",
       "      <th>19</th>\n",
       "      <td>20000</td>\n",
       "    </tr>\n",
       "    <tr>\n",
       "      <th>20</th>\n",
       "      <td>20000</td>\n",
       "    </tr>\n",
       "    <tr>\n",
       "      <th>21</th>\n",
       "      <td>4500</td>\n",
       "    </tr>\n",
       "    <tr>\n",
       "      <th>22</th>\n",
       "      <td>16000</td>\n",
       "    </tr>\n",
       "    <tr>\n",
       "      <th>23</th>\n",
       "      <td>30000</td>\n",
       "    </tr>\n",
       "    <tr>\n",
       "      <th>24</th>\n",
       "      <td>38050</td>\n",
       "    </tr>\n",
       "    <tr>\n",
       "      <th>25</th>\n",
       "      <td>22000</td>\n",
       "    </tr>\n",
       "    <tr>\n",
       "      <th>26</th>\n",
       "      <td>21000</td>\n",
       "    </tr>\n",
       "    <tr>\n",
       "      <th>27</th>\n",
       "      <td>40050</td>\n",
       "    </tr>\n",
       "    <tr>\n",
       "      <th>28</th>\n",
       "      <td>15008</td>\n",
       "    </tr>\n",
       "    <tr>\n",
       "      <th>29</th>\n",
       "      <td>16008</td>\n",
       "    </tr>\n",
       "  </tbody>\n",
       "</table>\n",
       "</div>"
      ],
      "text/plain": [
       "    gelir\n",
       "0   10000\n",
       "1   90000\n",
       "2   15000\n",
       "3   20000\n",
       "4   40000\n",
       "5    8500\n",
       "6   12747\n",
       "7   30000\n",
       "8   40050\n",
       "9   22000\n",
       "10  50000\n",
       "11   9000\n",
       "12  15000\n",
       "13  15500\n",
       "14  15008\n",
       "15  30452\n",
       "16   2000\n",
       "17  23847\n",
       "18  32356\n",
       "19  20000\n",
       "20  20000\n",
       "21   4500\n",
       "22  16000\n",
       "23  30000\n",
       "24  38050\n",
       "25  22000\n",
       "26  21000\n",
       "27  40050\n",
       "28  15008\n",
       "29  16008"
      ]
     },
     "execution_count": 147,
     "metadata": {},
     "output_type": "execute_result"
    }
   ],
   "source": [
    "gelir = pd.DataFrame(df['gelir'])\n",
    "kalinan_gun_sayisi = pd.DataFrame(df['kalinan_gun_sayisi'])\n",
    "gelir"
   ]
  },
  {
   "cell_type": "code",
   "execution_count": 148,
   "metadata": {},
   "outputs": [
    {
     "data": {
      "text/html": [
       "<div>\n",
       "<style scoped>\n",
       "    .dataframe tbody tr th:only-of-type {\n",
       "        vertical-align: middle;\n",
       "    }\n",
       "\n",
       "    .dataframe tbody tr th {\n",
       "        vertical-align: top;\n",
       "    }\n",
       "\n",
       "    .dataframe thead th {\n",
       "        text-align: right;\n",
       "    }\n",
       "</style>\n",
       "<table border=\"1\" class=\"dataframe\">\n",
       "  <thead>\n",
       "    <tr style=\"text-align: right;\">\n",
       "      <th></th>\n",
       "      <th>kalinan_gun_sayisi</th>\n",
       "    </tr>\n",
       "  </thead>\n",
       "  <tbody>\n",
       "    <tr>\n",
       "      <th>0</th>\n",
       "      <td>1</td>\n",
       "    </tr>\n",
       "    <tr>\n",
       "      <th>1</th>\n",
       "      <td>4</td>\n",
       "    </tr>\n",
       "    <tr>\n",
       "      <th>2</th>\n",
       "      <td>7</td>\n",
       "    </tr>\n",
       "    <tr>\n",
       "      <th>3</th>\n",
       "      <td>7</td>\n",
       "    </tr>\n",
       "    <tr>\n",
       "      <th>4</th>\n",
       "      <td>14</td>\n",
       "    </tr>\n",
       "    <tr>\n",
       "      <th>5</th>\n",
       "      <td>4</td>\n",
       "    </tr>\n",
       "    <tr>\n",
       "      <th>6</th>\n",
       "      <td>10</td>\n",
       "    </tr>\n",
       "    <tr>\n",
       "      <th>7</th>\n",
       "      <td>12</td>\n",
       "    </tr>\n",
       "    <tr>\n",
       "      <th>8</th>\n",
       "      <td>15</td>\n",
       "    </tr>\n",
       "    <tr>\n",
       "      <th>9</th>\n",
       "      <td>10</td>\n",
       "    </tr>\n",
       "    <tr>\n",
       "      <th>10</th>\n",
       "      <td>21</td>\n",
       "    </tr>\n",
       "    <tr>\n",
       "      <th>11</th>\n",
       "      <td>5</td>\n",
       "    </tr>\n",
       "    <tr>\n",
       "      <th>12</th>\n",
       "      <td>7</td>\n",
       "    </tr>\n",
       "    <tr>\n",
       "      <th>13</th>\n",
       "      <td>7</td>\n",
       "    </tr>\n",
       "    <tr>\n",
       "      <th>14</th>\n",
       "      <td>6</td>\n",
       "    </tr>\n",
       "    <tr>\n",
       "      <th>15</th>\n",
       "      <td>12</td>\n",
       "    </tr>\n",
       "    <tr>\n",
       "      <th>16</th>\n",
       "      <td>14</td>\n",
       "    </tr>\n",
       "    <tr>\n",
       "      <th>17</th>\n",
       "      <td>8</td>\n",
       "    </tr>\n",
       "    <tr>\n",
       "      <th>18</th>\n",
       "      <td>14</td>\n",
       "    </tr>\n",
       "    <tr>\n",
       "      <th>19</th>\n",
       "      <td>6</td>\n",
       "    </tr>\n",
       "    <tr>\n",
       "      <th>20</th>\n",
       "      <td>7</td>\n",
       "    </tr>\n",
       "    <tr>\n",
       "      <th>21</th>\n",
       "      <td>6</td>\n",
       "    </tr>\n",
       "    <tr>\n",
       "      <th>22</th>\n",
       "      <td>2</td>\n",
       "    </tr>\n",
       "    <tr>\n",
       "      <th>23</th>\n",
       "      <td>10</td>\n",
       "    </tr>\n",
       "    <tr>\n",
       "      <th>24</th>\n",
       "      <td>8</td>\n",
       "    </tr>\n",
       "    <tr>\n",
       "      <th>25</th>\n",
       "      <td>7</td>\n",
       "    </tr>\n",
       "    <tr>\n",
       "      <th>26</th>\n",
       "      <td>7</td>\n",
       "    </tr>\n",
       "    <tr>\n",
       "      <th>27</th>\n",
       "      <td>15</td>\n",
       "    </tr>\n",
       "    <tr>\n",
       "      <th>28</th>\n",
       "      <td>5</td>\n",
       "    </tr>\n",
       "    <tr>\n",
       "      <th>29</th>\n",
       "      <td>5</td>\n",
       "    </tr>\n",
       "  </tbody>\n",
       "</table>\n",
       "</div>"
      ],
      "text/plain": [
       "    kalinan_gun_sayisi\n",
       "0                    1\n",
       "1                    4\n",
       "2                    7\n",
       "3                    7\n",
       "4                   14\n",
       "5                    4\n",
       "6                   10\n",
       "7                   12\n",
       "8                   15\n",
       "9                   10\n",
       "10                  21\n",
       "11                   5\n",
       "12                   7\n",
       "13                   7\n",
       "14                   6\n",
       "15                  12\n",
       "16                  14\n",
       "17                   8\n",
       "18                  14\n",
       "19                   6\n",
       "20                   7\n",
       "21                   6\n",
       "22                   2\n",
       "23                  10\n",
       "24                   8\n",
       "25                   7\n",
       "26                   7\n",
       "27                  15\n",
       "28                   5\n",
       "29                   5"
      ]
     },
     "execution_count": 148,
     "metadata": {},
     "output_type": "execute_result"
    }
   ],
   "source": [
    "kalinan_gun_sayisi"
   ]
  },
  {
   "cell_type": "code",
   "execution_count": 149,
   "metadata": {},
   "outputs": [
    {
     "data": {
      "text/plain": [
       "array([[8.95484382e-05]])"
      ]
     },
     "execution_count": 149,
     "metadata": {},
     "output_type": "execute_result"
    }
   ],
   "source": [
    "lm = linear_model.LinearRegression()\n",
    "model = lm.fit(gelir, kalinan_gun_sayisi)\n",
    "model.coef_"
   ]
  },
  {
   "cell_type": "code",
   "execution_count": 150,
   "metadata": {},
   "outputs": [
    {
     "data": {
      "text/plain": [
       "array([6.37200417])"
      ]
     },
     "execution_count": 150,
     "metadata": {},
     "output_type": "execute_result"
    }
   ],
   "source": [
    "model.intercept_"
   ]
  },
  {
   "cell_type": "code",
   "execution_count": 151,
   "metadata": {},
   "outputs": [
    {
     "data": {
      "text/plain": [
       "0.11780170959019043"
      ]
     },
     "execution_count": 151,
     "metadata": {},
     "output_type": "execute_result"
    }
   ],
   "source": [
    "model.score(gelir, kalinan_gun_sayisi)"
   ]
  },
  {
   "cell_type": "code",
   "execution_count": 152,
   "metadata": {},
   "outputs": [
    {
     "name": "stdout",
     "output_type": "stream",
     "text": [
      "Lineer Regresyon:  [[9.9539417]]\n"
     ]
    }
   ],
   "source": [
    "#predict new value of kalinan_gun_sayisi\n",
    "gelir_yeni = {'gelir': [40000]}\n",
    "gelir_yeni = pd.DataFrame(gelir_yeni)\n",
    "kalinan_gun_sayisi_tahmini = model.predict(gelir_yeni)\n",
    "print('Lineer Regresyon: ',kalinan_gun_sayisi_tahmini)"
   ]
  },
  {
   "attachments": {},
   "cell_type": "markdown",
   "metadata": {},
   "source": [
    "#### lineer regresyon modeline göre misafirin kalacağı gün sayısı 9 olarak tahminlenmiştir."
   ]
  },
  {
   "cell_type": "code",
   "execution_count": 153,
   "metadata": {},
   "outputs": [
    {
     "data": {
      "text/html": [
       "<div>\n",
       "<style scoped>\n",
       "    .dataframe tbody tr th:only-of-type {\n",
       "        vertical-align: middle;\n",
       "    }\n",
       "\n",
       "    .dataframe tbody tr th {\n",
       "        vertical-align: top;\n",
       "    }\n",
       "\n",
       "    .dataframe thead tr th {\n",
       "        text-align: left;\n",
       "    }\n",
       "</style>\n",
       "<table border=\"1\" class=\"dataframe\">\n",
       "  <thead>\n",
       "    <tr>\n",
       "      <th></th>\n",
       "      <th>gelir_yeni</th>\n",
       "      <th>kalinan_gun_sayisi_yeni</th>\n",
       "    </tr>\n",
       "    <tr>\n",
       "      <th></th>\n",
       "      <th>gelir</th>\n",
       "      <th>0</th>\n",
       "    </tr>\n",
       "  </thead>\n",
       "  <tbody>\n",
       "    <tr>\n",
       "      <th>0</th>\n",
       "      <td>23000</td>\n",
       "      <td>8.431618</td>\n",
       "    </tr>\n",
       "    <tr>\n",
       "      <th>1</th>\n",
       "      <td>37000</td>\n",
       "      <td>9.685296</td>\n",
       "    </tr>\n",
       "    <tr>\n",
       "      <th>2</th>\n",
       "      <td>4000</td>\n",
       "      <td>6.730198</td>\n",
       "    </tr>\n",
       "  </tbody>\n",
       "</table>\n",
       "</div>"
      ],
      "text/plain": [
       "  gelir_yeni kalinan_gun_sayisi_yeni\n",
       "       gelir                       0\n",
       "0      23000                8.431618\n",
       "1      37000                9.685296\n",
       "2       4000                6.730198"
      ]
     },
     "metadata": {},
     "output_type": "display_data"
    }
   ],
   "source": [
    "#predict more values of kalinan_gun_sayisi\n",
    "A = {'gelir': [23000, 37000, 4000]}\n",
    "A = pd.DataFrame(A)\n",
    "B = model.predict(A)\n",
    "B = pd.DataFrame(B)\n",
    "df_new = pd.concat([A, B], axis=1, keys=['gelir_yeni', 'kalinan_gun_sayisi_yeni'])\n",
    "display(df_new)"
   ]
  },
  {
   "cell_type": "code",
   "execution_count": 154,
   "metadata": {},
   "outputs": [
    {
     "data": {
      "image/png": "[encoded data removed]",
      "text/plain": [
       "<Figure size 640x480 with 1 Axes>"
      ]
     },
     "metadata": {},
     "output_type": "display_data"
    }
   ],
   "source": [
    "#visualize the result\n",
    "df.plot(kind='scatter', x='gelir', y='kalinan_gun_sayisi')\n",
    "#plotting the Regression line\n",
    "plt.plot(gelir, model.predict(gelir), color='red', linewidth=2)\n",
    "plt.show()"
   ]
  },
  {
   "attachments": {},
   "cell_type": "markdown",
   "metadata": {},
   "source": [
    "## Polinomial Regresyon"
   ]
  },
  {
   "cell_type": "code",
   "execution_count": 155,
   "metadata": {},
   "outputs": [
    {
     "data": {
      "text/html": [
       "<div>\n",
       "<style scoped>\n",
       "    .dataframe tbody tr th:only-of-type {\n",
       "        vertical-align: middle;\n",
       "    }\n",
       "\n",
       "    .dataframe tbody tr th {\n",
       "        vertical-align: top;\n",
       "    }\n",
       "\n",
       "    .dataframe thead th {\n",
       "        text-align: right;\n",
       "    }\n",
       "</style>\n",
       "<table border=\"1\" class=\"dataframe\">\n",
       "  <thead>\n",
       "    <tr style=\"text-align: right;\">\n",
       "      <th></th>\n",
       "      <th>gelir</th>\n",
       "      <th>egitim</th>\n",
       "      <th>evli_bekar</th>\n",
       "      <th>cocuk_sayisi</th>\n",
       "      <th>yas</th>\n",
       "      <th>cinsiyet</th>\n",
       "      <th>mevsim</th>\n",
       "      <th>yerli_yabanci</th>\n",
       "      <th>kalinan_gun_sayisi</th>\n",
       "      <th>oda_tipi</th>\n",
       "    </tr>\n",
       "  </thead>\n",
       "  <tbody>\n",
       "    <tr>\n",
       "      <th>0</th>\n",
       "      <td>10000</td>\n",
       "      <td>lisans</td>\n",
       "      <td>evli</td>\n",
       "      <td>2</td>\n",
       "      <td>35</td>\n",
       "      <td>kadin</td>\n",
       "      <td>yaz</td>\n",
       "      <td>yerli</td>\n",
       "      <td>1</td>\n",
       "      <td>standart</td>\n",
       "    </tr>\n",
       "    <tr>\n",
       "      <th>1</th>\n",
       "      <td>90000</td>\n",
       "      <td>lisans</td>\n",
       "      <td>bekar</td>\n",
       "      <td>0</td>\n",
       "      <td>18</td>\n",
       "      <td>erkek</td>\n",
       "      <td>ilkbahar</td>\n",
       "      <td>yerli</td>\n",
       "      <td>4</td>\n",
       "      <td>delux</td>\n",
       "    </tr>\n",
       "    <tr>\n",
       "      <th>2</th>\n",
       "      <td>15000</td>\n",
       "      <td>master</td>\n",
       "      <td>evli</td>\n",
       "      <td>1</td>\n",
       "      <td>45</td>\n",
       "      <td>kadin</td>\n",
       "      <td>yaz</td>\n",
       "      <td>yerli</td>\n",
       "      <td>7</td>\n",
       "      <td>suit</td>\n",
       "    </tr>\n",
       "    <tr>\n",
       "      <th>3</th>\n",
       "      <td>20000</td>\n",
       "      <td>lise</td>\n",
       "      <td>bekar</td>\n",
       "      <td>0</td>\n",
       "      <td>22</td>\n",
       "      <td>kadin</td>\n",
       "      <td>yaz</td>\n",
       "      <td>yabanci</td>\n",
       "      <td>7</td>\n",
       "      <td>suit</td>\n",
       "    </tr>\n",
       "    <tr>\n",
       "      <th>4</th>\n",
       "      <td>40000</td>\n",
       "      <td>lise</td>\n",
       "      <td>evli</td>\n",
       "      <td>2</td>\n",
       "      <td>27</td>\n",
       "      <td>erkek</td>\n",
       "      <td>yaz</td>\n",
       "      <td>yerli</td>\n",
       "      <td>14</td>\n",
       "      <td>suit</td>\n",
       "    </tr>\n",
       "  </tbody>\n",
       "</table>\n",
       "</div>"
      ],
      "text/plain": [
       "   gelir  egitim evli_bekar  cocuk_sayisi  yas cinsiyet    mevsim  \\\n",
       "0  10000  lisans       evli             2   35    kadin       yaz   \n",
       "1  90000  lisans      bekar             0   18    erkek  ilkbahar   \n",
       "2  15000  master       evli             1   45    kadin       yaz   \n",
       "3  20000    lise      bekar             0   22    kadin       yaz   \n",
       "4  40000    lise       evli             2   27    erkek       yaz   \n",
       "\n",
       "  yerli_yabanci  kalinan_gun_sayisi  oda_tipi  \n",
       "0         yerli                   1  standart  \n",
       "1         yerli                   4     delux  \n",
       "2         yerli                   7      suit  \n",
       "3       yabanci                   7      suit  \n",
       "4         yerli                  14      suit  "
      ]
     },
     "execution_count": 155,
     "metadata": {},
     "output_type": "execute_result"
    }
   ],
   "source": [
    "df=pd.read_csv(\"/home/buluag/msc/oda_onerisi.csv\")\n",
    "df.head()"
   ]
  },
  {
   "cell_type": "code",
   "execution_count": 156,
   "metadata": {},
   "outputs": [
    {
     "data": {
      "text/html": [
       "<style>#sk-container-id-11 {color: black;background-color: white;}#sk-container-id-11 pre{padding: 0;}#sk-container-id-11 div.sk-toggleable {background-color: white;}#sk-container-id-11 label.sk-toggleable__label {cursor: pointer;display: block;width: 100%;margin-bottom: 0;padding: 0.3em;box-sizing: border-box;text-align: center;}#sk-container-id-11 label.sk-toggleable__label-arrow:before {content: \"▸\";float: left;margin-right: 0.25em;color: #696969;}#sk-container-id-11 label.sk-toggleable__label-arrow:hover:before {color: black;}#sk-container-id-11 div.sk-estimator:hover label.sk-toggleable__label-arrow:before {color: black;}#sk-container-id-11 div.sk-toggleable__content {max-height: 0;max-width: 0;overflow: hidden;text-align: left;background-color: #f0f8ff;}#sk-container-id-11 div.sk-toggleable__content pre {margin: 0.2em;color: black;border-radius: 0.25em;background-color: #f0f8ff;}#sk-container-id-11 input.sk-toggleable__control:checked~div.sk-toggleable__content {max-height: 200px;max-width: 100%;overflow: auto;}#sk-container-id-11 input.sk-toggleable__control:checked~label.sk-toggleable__label-arrow:before {content: \"▾\";}#sk-container-id-11 div.sk-estimator input.sk-toggleable__control:checked~label.sk-toggleable__label {background-color: #d4ebff;}#sk-container-id-11 div.sk-label input.sk-toggleable__control:checked~label.sk-toggleable__label {background-color: #d4ebff;}#sk-container-id-11 input.sk-hidden--visually {border: 0;clip: rect(1px 1px 1px 1px);clip: rect(1px, 1px, 1px, 1px);height: 1px;margin: -1px;overflow: hidden;padding: 0;position: absolute;width: 1px;}#sk-container-id-11 div.sk-estimator {font-family: monospace;background-color: #f0f8ff;border: 1px dotted black;border-radius: 0.25em;box-sizing: border-box;margin-bottom: 0.5em;}#sk-container-id-11 div.sk-estimator:hover {background-color: #d4ebff;}#sk-container-id-11 div.sk-parallel-item::after {content: \"\";width: 100%;border-bottom: 1px solid gray;flex-grow: 1;}#sk-container-id-11 div.sk-label:hover label.sk-toggleable__label {background-color: #d4ebff;}#sk-container-id-11 div.sk-serial::before {content: \"\";position: absolute;border-left: 1px solid gray;box-sizing: border-box;top: 0;bottom: 0;left: 50%;z-index: 0;}#sk-container-id-11 div.sk-serial {display: flex;flex-direction: column;align-items: center;background-color: white;padding-right: 0.2em;padding-left: 0.2em;position: relative;}#sk-container-id-11 div.sk-item {position: relative;z-index: 1;}#sk-container-id-11 div.sk-parallel {display: flex;align-items: stretch;justify-content: center;background-color: white;position: relative;}#sk-container-id-11 div.sk-item::before, #sk-container-id-11 div.sk-parallel-item::before {content: \"\";position: absolute;border-left: 1px solid gray;box-sizing: border-box;top: 0;bottom: 0;left: 50%;z-index: -1;}#sk-container-id-11 div.sk-parallel-item {display: flex;flex-direction: column;z-index: 1;position: relative;background-color: white;}#sk-container-id-11 div.sk-parallel-item:first-child::after {align-self: flex-end;width: 50%;}#sk-container-id-11 div.sk-parallel-item:last-child::after {align-self: flex-start;width: 50%;}#sk-container-id-11 div.sk-parallel-item:only-child::after {width: 0;}#sk-container-id-11 div.sk-dashed-wrapped {border: 1px dashed gray;margin: 0 0.4em 0.5em 0.4em;box-sizing: border-box;padding-bottom: 0.4em;background-color: white;}#sk-container-id-11 div.sk-label label {font-family: monospace;font-weight: bold;display: inline-block;line-height: 1.2em;}#sk-container-id-11 div.sk-label-container {text-align: center;}#sk-container-id-11 div.sk-container {/* jupyter's `normalize.less` sets `[hidden] { display: none; }` but bootstrap.min.css set `[hidden] { display: none !important; }` so we also need the `!important` here to be able to override the default hidden behavior on the sphinx rendered scikit-learn.org. See: https://github.com/scikit-learn/scikit-learn/issues/21755 */display: inline-block !important;position: relative;}#sk-container-id-11 div.sk-text-repr-fallback {display: none;}</style><div id=\"sk-container-id-11\" class=\"sk-top-container\"><div class=\"sk-text-repr-fallback\"><pre>LinearRegression()</pre><b>In a Jupyter environment, please rerun this cell to show the HTML representation or trust the notebook. <br />On GitHub, the HTML representation is unable to render, please try loading this page with nbviewer.org.</b></div><div class=\"sk-container\" hidden><div class=\"sk-item\"><div class=\"sk-estimator sk-toggleable\"><input class=\"sk-toggleable__control sk-hidden--visually\" id=\"sk-estimator-id-11\" type=\"checkbox\" checked><label for=\"sk-estimator-id-11\" class=\"sk-toggleable__label sk-toggleable__label-arrow\">LinearRegression</label><div class=\"sk-toggleable__content\"><pre>LinearRegression()</pre></div></div></div></div></div>"
      ],
      "text/plain": [
       "LinearRegression()"
      ]
     },
     "execution_count": 156,
     "metadata": {},
     "output_type": "execute_result"
    }
   ],
   "source": [
    "gelir = pd.DataFrame(df['gelir'])\n",
    "kalinan_gun_sayisi = pd.DataFrame(df['kalinan_gun_sayisi'])\n",
    "\n",
    "# Fitting Linear Regression to the dataset\n",
    "lin = LinearRegression()\n",
    "lin.fit(gelir, kalinan_gun_sayisi)"
   ]
  },
  {
   "cell_type": "code",
   "execution_count": 157,
   "metadata": {},
   "outputs": [
    {
     "data": {
      "text/html": [
       "<style>#sk-container-id-12 {color: black;background-color: white;}#sk-container-id-12 pre{padding: 0;}#sk-container-id-12 div.sk-toggleable {background-color: white;}#sk-container-id-12 label.sk-toggleable__label {cursor: pointer;display: block;width: 100%;margin-bottom: 0;padding: 0.3em;box-sizing: border-box;text-align: center;}#sk-container-id-12 label.sk-toggleable__label-arrow:before {content: \"▸\";float: left;margin-right: 0.25em;color: #696969;}#sk-container-id-12 label.sk-toggleable__label-arrow:hover:before {color: black;}#sk-container-id-12 div.sk-estimator:hover label.sk-toggleable__label-arrow:before {color: black;}#sk-container-id-12 div.sk-toggleable__content {max-height: 0;max-width: 0;overflow: hidden;text-align: left;background-color: #f0f8ff;}#sk-container-id-12 div.sk-toggleable__content pre {margin: 0.2em;color: black;border-radius: 0.25em;background-color: #f0f8ff;}#sk-container-id-12 input.sk-toggleable__control:checked~div.sk-toggleable__content {max-height: 200px;max-width: 100%;overflow: auto;}#sk-container-id-12 input.sk-toggleable__control:checked~label.sk-toggleable__label-arrow:before {content: \"▾\";}#sk-container-id-12 div.sk-estimator input.sk-toggleable__control:checked~label.sk-toggleable__label {background-color: #d4ebff;}#sk-container-id-12 div.sk-label input.sk-toggleable__control:checked~label.sk-toggleable__label {background-color: #d4ebff;}#sk-container-id-12 input.sk-hidden--visually {border: 0;clip: rect(1px 1px 1px 1px);clip: rect(1px, 1px, 1px, 1px);height: 1px;margin: -1px;overflow: hidden;padding: 0;position: absolute;width: 1px;}#sk-container-id-12 div.sk-estimator {font-family: monospace;background-color: #f0f8ff;border: 1px dotted black;border-radius: 0.25em;box-sizing: border-box;margin-bottom: 0.5em;}#sk-container-id-12 div.sk-estimator:hover {background-color: #d4ebff;}#sk-container-id-12 div.sk-parallel-item::after {content: \"\";width: 100%;border-bottom: 1px solid gray;flex-grow: 1;}#sk-container-id-12 div.sk-label:hover label.sk-toggleable__label {background-color: #d4ebff;}#sk-container-id-12 div.sk-serial::before {content: \"\";position: absolute;border-left: 1px solid gray;box-sizing: border-box;top: 0;bottom: 0;left: 50%;z-index: 0;}#sk-container-id-12 div.sk-serial {display: flex;flex-direction: column;align-items: center;background-color: white;padding-right: 0.2em;padding-left: 0.2em;position: relative;}#sk-container-id-12 div.sk-item {position: relative;z-index: 1;}#sk-container-id-12 div.sk-parallel {display: flex;align-items: stretch;justify-content: center;background-color: white;position: relative;}#sk-container-id-12 div.sk-item::before, #sk-container-id-12 div.sk-parallel-item::before {content: \"\";position: absolute;border-left: 1px solid gray;box-sizing: border-box;top: 0;bottom: 0;left: 50%;z-index: -1;}#sk-container-id-12 div.sk-parallel-item {display: flex;flex-direction: column;z-index: 1;position: relative;background-color: white;}#sk-container-id-12 div.sk-parallel-item:first-child::after {align-self: flex-end;width: 50%;}#sk-container-id-12 div.sk-parallel-item:last-child::after {align-self: flex-start;width: 50%;}#sk-container-id-12 div.sk-parallel-item:only-child::after {width: 0;}#sk-container-id-12 div.sk-dashed-wrapped {border: 1px dashed gray;margin: 0 0.4em 0.5em 0.4em;box-sizing: border-box;padding-bottom: 0.4em;background-color: white;}#sk-container-id-12 div.sk-label label {font-family: monospace;font-weight: bold;display: inline-block;line-height: 1.2em;}#sk-container-id-12 div.sk-label-container {text-align: center;}#sk-container-id-12 div.sk-container {/* jupyter's `normalize.less` sets `[hidden] { display: none; }` but bootstrap.min.css set `[hidden] { display: none !important; }` so we also need the `!important` here to be able to override the default hidden behavior on the sphinx rendered scikit-learn.org. See: https://github.com/scikit-learn/scikit-learn/issues/21755 */display: inline-block !important;position: relative;}#sk-container-id-12 div.sk-text-repr-fallback {display: none;}</style><div id=\"sk-container-id-12\" class=\"sk-top-container\"><div class=\"sk-text-repr-fallback\"><pre>LinearRegression()</pre><b>In a Jupyter environment, please rerun this cell to show the HTML representation or trust the notebook. <br />On GitHub, the HTML representation is unable to render, please try loading this page with nbviewer.org.</b></div><div class=\"sk-container\" hidden><div class=\"sk-item\"><div class=\"sk-estimator sk-toggleable\"><input class=\"sk-toggleable__control sk-hidden--visually\" id=\"sk-estimator-id-12\" type=\"checkbox\" checked><label for=\"sk-estimator-id-12\" class=\"sk-toggleable__label sk-toggleable__label-arrow\">LinearRegression</label><div class=\"sk-toggleable__content\"><pre>LinearRegression()</pre></div></div></div></div></div>"
      ],
      "text/plain": [
       "LinearRegression()"
      ]
     },
     "execution_count": 157,
     "metadata": {},
     "output_type": "execute_result"
    }
   ],
   "source": [
    "# Fitting Polynomial Regression to the dataset\n",
    "poly = PolynomialFeatures(degree = 4)\n",
    "X_poly = poly.fit_transform(gelir)\n",
    "\n",
    "poly.fit(X_poly, kalinan_gun_sayisi)\n",
    "lin2 = LinearRegression()\n",
    "lin2.fit(X_poly, kalinan_gun_sayisi)"
   ]
  },
  {
   "cell_type": "code",
   "execution_count": 158,
   "metadata": {},
   "outputs": [
    {
     "data": {
      "text/plain": [
       "array([[14.58197663]])"
      ]
     },
     "execution_count": 158,
     "metadata": {},
     "output_type": "execute_result"
    }
   ],
   "source": [
    "# Predicting a new result with Linear Regression after converting predict variable to 2D array\n",
    "gelir = 40000\n",
    "predarray = np.array([[gelir]])\n",
    "lin2.predict(poly.fit_transform(predarray))"
   ]
  },
  {
   "attachments": {},
   "cell_type": "markdown",
   "metadata": {},
   "source": [
    "## Random Forest Regression"
   ]
  },
  {
   "cell_type": "code",
   "execution_count": 159,
   "metadata": {},
   "outputs": [],
   "source": [
    "df=pd.read_csv(\"/home/buluag/msc/oda_onerisi.csv\", header= 0, encoding= 'unicode_escape')"
   ]
  },
  {
   "cell_type": "code",
   "execution_count": 160,
   "metadata": {},
   "outputs": [
    {
     "name": "stdout",
     "output_type": "stream",
     "text": [
      "Random Forest regresyon [12.4]\n"
     ]
    }
   ],
   "source": [
    "xVal = df.gelir.values.reshape(-1,1)\n",
    "yVal = df.kalinan_gun_sayisi.values.reshape(-1,1)\n",
    "\n",
    "rf = RandomForestRegressor(n_estimators=5, random_state=0)\n",
    "yVal = yVal.ravel()\n",
    "rf.fit(xVal, yVal)\n",
    "print('Random Forest regresyon',rf.predict(kalinan_gun_sayisi_tahmini))"
   ]
  },
  {
   "attachments": {},
   "cell_type": "markdown",
   "metadata": {},
   "source": [
    "#### Random forest regresyon modeline göre ise kalinan gün sayısı tahmini 12'dir."
   ]
  },
  {
   "cell_type": "code",
   "execution_count": 161,
   "metadata": {},
   "outputs": [
    {
     "data": {
      "text/plain": [
       "array([ 2.4 ,  7.4 ,  6.8 ,  6.5 , 14.2 ,  3.6 ,  8.8 , 11.32, 14.6 ,\n",
       "        9.46, 19.8 ,  4.  ,  6.8 ,  6.7 ,  5.8 , 12.  , 12.4 ,  8.5 ,\n",
       "       12.8 ,  6.5 ,  6.5 ,  6.  ,  3.6 , 11.32, 10.6 ,  9.46,  6.8 ,\n",
       "       14.6 ,  5.8 ,  3.6 ])"
      ]
     },
     "execution_count": 161,
     "metadata": {},
     "output_type": "execute_result"
    }
   ],
   "source": [
    "yhead=rf.predict(xVal)\n",
    "yhead"
   ]
  }
 ],
 "metadata": {
  "kernelspec": {
   "display_name": "Python 3.10.8 64-bit",
   "language": "python",
   "name": "python3"
  },
  "language_info": {
   "codemirror_mode": {
    "name": "ipython",
    "version": 3
   },
   "file_extension": ".py",
   "mimetype": "text/x-python",
   "name": "python",
   "nbconvert_exporter": "python",
   "pygments_lexer": "ipython3",
   "version": "3.10.8 (main, Nov 14 2022, 00:00:00) [GCC 11.3.1 20220421 (Red Hat 11.3.1-3)]"
  },
  "orig_nbformat": 4,
  "vscode": {
   "interpreter": {
    "hash": "e7370f93d1d0cde622a1f8e1c04877d8463912d04d973331ad4851f04de6915a"
   }
  }
 },
 "nbformat": 4,
 "nbformat_minor": 2
}
