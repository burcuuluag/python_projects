{
 "cells": [
  {
   "cell_type": "code",
   "execution_count": 8,
   "metadata": {},
   "outputs": [
    {
     "name": "stdout",
     "output_type": "stream",
     "text": [
      "Burcu\n",
      "İnci\n"
     ]
    }
   ],
   "source": [
    "my_info = [{'name': 'Burcu', 'surname': 'Uluag', 'age': 29},\n",
    "           {'name': 'İnci', 'surname': 'Goktas', 'age': 60}]\n",
    "\n",
    "for item in my_info:\n",
    "    name = item[\"name\"]\n",
    "    print(name)\n",
    "\n",
    "#dictionary comprehension\n",
    "#name = [item[\"name\"] for item in my_info]\n",
    "#print(name)"
   ]
  },
  {
   "cell_type": "code",
   "execution_count": 9,
   "metadata": {},
   "outputs": [
    {
     "name": "stdout",
     "output_type": "stream",
     "text": [
      "Uluag\n",
      "Goktas\n",
      "Bahar\n"
     ]
    }
   ],
   "source": [
    "my_info = [{'name': 'Burcu', 'surname': 'Uluag', 'age': 29},\n",
    "           {'name': 'İnci', 'surname': 'Goktas', 'age': 60},\n",
    "           {'name': 'Gizem', 'surname': 'Bahar', 'age': 26}]\n",
    "\n",
    "for i in my_info:\n",
    "    surnames = i[\"surname\"]\n",
    "    print(surnames)"
   ]
  },
  {
   "cell_type": "code",
   "execution_count": 15,
   "metadata": {},
   "outputs": [
    {
     "name": "stdout",
     "output_type": "stream",
     "text": [
      "Uluag\n"
     ]
    }
   ],
   "source": [
    "my_info = [{'name': 'Burcu', 'surname': 'Uluag', 'age': 29},\n",
    "           {'name': 'İnci', 'surname': 'Goktas', 'age': 60},\n",
    "           {'name': 'Gizem', 'surname': 'Bahar', 'age': 26}]\n",
    "\n",
    "for i in my_info:\n",
    "    if i[\"surname\"] == \"Uluag\":\n",
    "        print(i[\"surname\"])"
   ]
  },
  {
   "cell_type": "code",
   "execution_count": 12,
   "metadata": {},
   "outputs": [
    {
     "name": "stdout",
     "output_type": "stream",
     "text": [
      "['Uluag']\n"
     ]
    }
   ],
   "source": [
    "my_info = [{'name': 'Burcu', 'surname': 'Uluag', 'age': 29},\n",
    "           {'name': 'İnci', 'surname': 'Goktas', 'age': 60},\n",
    "           {'name': 'Deniz', 'surname': 'Yilmaz', 'age': 26}]\n",
    "\n",
    "surname = [i[\"surname\"] for i in my_info if i[\"surname\"] == \"Uluag\"]\n",
    "print(surname)"
   ]
  },
  {
   "cell_type": "code",
   "execution_count": 16,
   "metadata": {},
   "outputs": [
    {
     "name": "stdout",
     "output_type": "stream",
     "text": [
      "26\n"
     ]
    }
   ],
   "source": [
    "my_info = [{'name': 'Burcu', 'surname': 'Uluag', 'age': 29},\n",
    "           {'name': 'İnci', 'surname': 'Goktas', 'age': 60},\n",
    "           {'name': 'Deniz', 'surname': 'Yilmaz', 'age': 26}]\n",
    "\n",
    "for item in my_info:\n",
    "    if item[\"age\"] == 26:\n",
    "        print(item[\"age\"])"
   ]
  },
  {
   "cell_type": "code",
   "execution_count": 21,
   "metadata": {},
   "outputs": [
    {
     "name": "stdout",
     "output_type": "stream",
     "text": [
      "{'name': 'Burcu', 'age': 29}\n"
     ]
    }
   ],
   "source": [
    "my_info = [{'name': 'Burcu', 'surname': 'Uluag', 'age': 29},\n",
    "           {'name': 'İnci', 'surname': 'Goktas', 'age': 60},\n",
    "           {'name': 'Burcu', 'surname': 'Yilmaz', 'age': 26}]\n",
    "\n",
    "for item in my_info:\n",
    "    if item[\"name\"] == \"Burcu\" and item[\"age\"] == 29:\n",
    "        print({'name': item['name'], 'age': item['age']})\n"
   ]
  },
  {
   "cell_type": "code",
   "execution_count": 27,
   "metadata": {},
   "outputs": [
    {
     "name": "stdout",
     "output_type": "stream",
     "text": [
      "Ankara: 5\n",
      "İstanbul: 15\n",
      "İzmir: 8\n"
     ]
    }
   ],
   "source": [
    "city_dict = {'Ankara': 5, 'İstanbul': 15, 'İzmir': 8}\n",
    "\n",
    "for city, population in city_dict.items():\n",
    "    msg = f\"{city}: {population}\"\n",
    "    print(msg)"
   ]
  },
  {
   "cell_type": "code",
   "execution_count": 30,
   "metadata": {},
   "outputs": [
    {
     "name": "stdout",
     "output_type": "stream",
     "text": [
      "emp1: {'ad': 'Ahmet', 'soyad': 'Yılmaz', 'pozisyon': 'Mühendis', 'maaş': 7500}\n",
      "emp2: {'ad': 'Ayşe', 'soyad': 'Kara', 'pozisyon': 'Pazarlama Uzmanı', 'maaş': 9000}\n",
      "emp3: {'ad': 'Mehmet', 'soyad': 'Aydın', 'pozisyon': 'Yazılım Geliştirici', 'maaş': 8500}\n"
     ]
    }
   ],
   "source": [
    "company_employees = {\n",
    "    'emp1': {'ad': 'Ahmet', 'soyad': 'Yılmaz', 'pozisyon': 'Mühendis', 'maaş': 7500},\n",
    "    'emp2': {'ad': 'Ayşe', 'soyad': 'Kara', 'pozisyon': 'Pazarlama Uzmanı', 'maaş': 9000},\n",
    "    'emp3': {'ad': 'Mehmet', 'soyad': 'Aydın', 'pozisyon': 'Yazılım Geliştirici', 'maaş': 8500}\n",
    "}\n",
    "\n",
    "for info, value in company_employees.items():\n",
    "    msg = f\"{info}: {value}\"\n",
    "    print(msg)\n"
   ]
  },
  {
   "cell_type": "code",
   "execution_count": 35,
   "metadata": {},
   "outputs": [
    {
     "name": "stdout",
     "output_type": "stream",
     "text": [
      "emp2: {'ad': 'Ayşe', 'soyad': 'Kara', 'pozisyon': 'Pazarlama Uzmanı', 'maaş': 9000}\n"
     ]
    }
   ],
   "source": [
    "for emp, info in company_employees.items():\n",
    "    for item in info.values():\n",
    "        if item == \"Kara\":\n",
    "            print(f\"{emp}: {info}\")\n"
   ]
  },
  {
   "cell_type": "code",
   "execution_count": 45,
   "metadata": {},
   "outputs": [
    {
     "name": "stdout",
     "output_type": "stream",
     "text": [
      "emp2: {'ad': 'Ayşe', 'soyad': 'Kara', 'pozisyon': 'Pazarlama Uzmanı', 'maaş': 9000}\n"
     ]
    }
   ],
   "source": [
    "company_employees = {\n",
    "    'emp1': {'ad': 'Ahmet', 'soyad': 'Yılmaz', 'pozisyon': 'Mühendis', 'maaş': 7500},\n",
    "    'emp2': {'ad': 'Ayşe', 'soyad': 'Kara', 'pozisyon': 'Pazarlama Uzmanı', 'maaş': 9000},\n",
    "    'emp3': {'ad': 'Mehmet', 'soyad': 'Aydın', 'pozisyon': 'Yazılım Geliştirici', 'maaş': 8500},\n",
    "    'emp4': {'ad': 'Ayşe', 'soyad': 'Kara', 'pozisyon': 'yazilimci', 'maaş': 15000},\n",
    "}\n",
    "\n",
    "\n",
    "for emp, info in company_employees.items():\n",
    "        if info[\"ad\"] == \"Ayşe\" and info[\"soyad\"] == \"Kara\":\n",
    "            print(f\"{emp}: {info}\")\n",
    "            break\n",
    "\n",
    "        #break 1 kez print yaptıkdan sonra döngüden çıkmayı sağlıyor. yani emp4 bu yüzden yazdırılmadı"
   ]
  },
  {
   "cell_type": "code",
   "execution_count": 46,
   "metadata": {},
   "outputs": [
    {
     "name": "stdout",
     "output_type": "stream",
     "text": [
      "{'emp1': {'ad': 'Ahmet', 'soyad': 'Yılmaz', 'pozisyon': 'Mühendis', 'maaş': 7500}, 'emp2': {'ad': 'Ayşe', 'soyad': 'Kara', 'pozisyon': 'Pazarlama Uzmanı', 'maaş': 9000}, 'emp3': {'ad': 'Mehmet', 'soyad': 'Aydın', 'pozisyon': 'Yazılım Geliştirici', 'maaş': 8500}, 'emp4': {'ad': 'Ayşe', 'soyad': 'Kara', 'pozisyon': 'yazilimci', 'maaş': 15000}, 'emp5': {'ad': 'Fatma', 'soyad': 'Boyacı', 'pozisyon': 'muhasebeci', 'maaş': 7000}}\n"
     ]
    }
   ],
   "source": [
    "company_employees = {\n",
    "    'emp1': {'ad': 'Ahmet', 'soyad': 'Yılmaz', 'pozisyon': 'Mühendis', 'maaş': 7500},\n",
    "    'emp2': {'ad': 'Ayşe', 'soyad': 'Kara', 'pozisyon': 'Pazarlama Uzmanı', 'maaş': 9000},\n",
    "    'emp3': {'ad': 'Mehmet', 'soyad': 'Aydın', 'pozisyon': 'Yazılım Geliştirici', 'maaş': 8500},\n",
    "    'emp4': {'ad': 'Ayşe', 'soyad': 'Kara', 'pozisyon': 'yazilimci', 'maaş': 15000},\n",
    "}\n",
    "\n",
    "company_employees.update({'emp5': {'ad': 'Fatma', 'soyad': 'Boyacı', 'pozisyon': 'muhasebeci', 'maaş': 7000}})\n",
    "print(company_employees)"
   ]
  },
  {
   "cell_type": "code",
   "execution_count": 1,
   "metadata": {},
   "outputs": [
    {
     "name": "stdout",
     "output_type": "stream",
     "text": [
      "{'emp1': {'ad': 'Ahmet', 'soyad': 'Yılmaz', 'pozisyon': 'Mühendis', 'maaş': 7500}, 'emp2': {'ad': 'Ayşe', 'soyad': 'Kara', 'pozisyon': 'Pazarlama Uzmanı', 'maaş': 11000}, 'emp3': {'ad': 'Mehmet', 'soyad': 'Aydın', 'pozisyon': 'Yazılım Geliştirici', 'maaş': 8500}}\n"
     ]
    }
   ],
   "source": [
    "company_employees = {\n",
    "    'emp1': {'ad': 'Ahmet', 'soyad': 'Yılmaz', 'pozisyon': 'Mühendis', 'maaş': 7500},\n",
    "    'emp2': {'ad': 'Ayşe', 'soyad': 'Kara', 'pozisyon': 'Pazarlama Uzmanı', 'maaş': 9000},\n",
    "    'emp3': {'ad': 'Mehmet', 'soyad': 'Aydın', 'pozisyon': 'Yazılım Geliştirici', 'maaş': 8500}\n",
    "}\n",
    "\n",
    "for emp, info in company_employees.items():\n",
    "    if info['ad'] == \"Ayşe\" and info[\"soyad\"] == \"Kara\":\n",
    "        info['maaş'] = 11000\n",
    "        print(company_employees)"
   ]
  }
 ],
 "metadata": {
  "kernelspec": {
   "display_name": "work_env",
   "language": "python",
   "name": "python3"
  },
  "language_info": {
   "codemirror_mode": {
    "name": "ipython",
    "version": 3
   },
   "file_extension": ".py",
   "mimetype": "text/x-python",
   "name": "python",
   "nbconvert_exporter": "python",
   "pygments_lexer": "ipython3",
   "version": "3.11.6"
  }
 },
 "nbformat": 4,
 "nbformat_minor": 2
}
