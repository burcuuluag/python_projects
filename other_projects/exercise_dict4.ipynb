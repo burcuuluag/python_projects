{
 "cells": [
  {
   "cell_type": "code",
   "execution_count": 9,
   "metadata": {},
   "outputs": [
    {
     "name": "stdout",
     "output_type": "stream",
     "text": [
      "Ayşe Kara\n"
     ]
    }
   ],
   "source": [
    "# En yaşlı çalışanın adını ve soyadını bulun:\n",
    "\n",
    "company_data = {\n",
    "    'employees': {\n",
    "        'emp1': {'ad': 'Ahmet', 'soyad': 'Yılmaz', 'pozisyon': 'Mühendis', 'maaş': 7500, 'yaş': 28},\n",
    "        'emp2': {'ad': 'Ayşe', 'soyad': 'Kara', 'pozisyon': 'Pazarlama Uzmanı', 'maaş': 9000, 'yaş': 35},\n",
    "        'emp3': {'ad': 'Mehmet', 'soyad': 'Aydın', 'pozisyon': 'Yazılım Geliştirici', 'maaş': 8500, 'yaş': 30}\n",
    "    },\n",
    "    'projects': [\n",
    "        {'proje_adı': 'ProjeA', 'departman': 'Bilgi Teknolojileri', 'başlangıç_tarihi': '2023-01-01'},\n",
    "        {'proje_adı': 'ProjeB', 'departman': 'Pazarlama', 'başlangıç_tarihi': '2023-02-15'}\n",
    "    ],\n",
    "    'departments': ['Bilgi Teknolojileri', 'Pazarlama', 'İnsan Kaynakları']\n",
    "}\n",
    "\n",
    "max_yas = 0\n",
    "max_yasindaki_kisi_adi = None\n",
    "max_yasindaki_kisi_soyadi = None\n",
    "\n",
    "for key, value in company_data['employees'].items():\n",
    "    if value[\"yaş\"] > max_yas:\n",
    "        max_yas = value[\"yaş\"]\n",
    "        max_yasindaki_kisi_adi = value[\"ad\"]\n",
    "        max_yasindaki_kisi_soyadi = value[\"soyad\"]\n",
    "\n",
    "print(max_yasindaki_kisi_adi, max_yasindaki_kisi_soyadi)\n"
   ]
  },
  {
   "cell_type": "code",
   "execution_count": 11,
   "metadata": {},
   "outputs": [
    {
     "name": "stdout",
     "output_type": "stream",
     "text": [
      "inf\n",
      "Ahmet Yılmaz\n"
     ]
    }
   ],
   "source": [
    "# En genç çalışanın adını ve soyadını bulun:\n",
    "\n",
    "company_data = {\n",
    "    'employees': {\n",
    "        'emp1': {'ad': 'Ahmet', 'soyad': 'Yılmaz', 'pozisyon': 'Mühendis', 'maaş': 7500, 'yaş': 28},\n",
    "        'emp2': {'ad': 'Ayşe', 'soyad': 'Kara', 'pozisyon': 'Pazarlama Uzmanı', 'maaş': 9000, 'yaş': 35},\n",
    "        'emp3': {'ad': 'Mehmet', 'soyad': 'Aydın', 'pozisyon': 'Yazılım Geliştirici', 'maaş': 8500, 'yaş': 30}\n",
    "    },\n",
    "    'projects': [\n",
    "        {'proje_adı': 'ProjeA', 'departman': 'Bilgi Teknolojileri', 'başlangıç_tarihi': '2023-01-01'},\n",
    "        {'proje_adı': 'ProjeB', 'departman': 'Pazarlama', 'başlangıç_tarihi': '2023-02-15'}\n",
    "    ],\n",
    "    'departments': ['Bilgi Teknolojileri', 'Pazarlama', 'İnsan Kaynakları']\n",
    "}\n",
    "\n",
    "max_yas = float(\"inf\")\n",
    "min_yasindaki_kisi_adi = None\n",
    "min_yasindaki_kisi_soyadi = None\n",
    "\n",
    "for key, value in company_data['employees'].items():\n",
    "    if value[\"yaş\"] < max_yas:\n",
    "        max_yas = value[\"yaş\"]\n",
    "        min_yasindaki_kisi_adi = value[\"ad\"]\n",
    "        min_yasindaki_kisi_soyadi = value[\"soyad\"]\n",
    "\n",
    "print(min_yasindaki_kisi_adi, min_yasindaki_kisi_soyadi)\n"
   ]
  }
 ],
 "metadata": {
  "kernelspec": {
   "display_name": "work_env",
   "language": "python",
   "name": "python3"
  },
  "language_info": {
   "codemirror_mode": {
    "name": "ipython",
    "version": 3
   },
   "file_extension": ".py",
   "mimetype": "text/x-python",
   "name": "python",
   "nbconvert_exporter": "python",
   "pygments_lexer": "ipython3",
   "version": "3.11.6"
  }
 },
 "nbformat": 4,
 "nbformat_minor": 2
}
