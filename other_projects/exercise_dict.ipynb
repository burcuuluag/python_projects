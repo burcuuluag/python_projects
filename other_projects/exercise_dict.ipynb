{
 "cells": [
  {
   "cell_type": "code",
   "execution_count": 2,
   "metadata": {},
   "outputs": [
    {
     "name": "stdout",
     "output_type": "stream",
     "text": [
      "{'name': 'Burcu', 'surname': 'Uluag', 'age': 29}\n"
     ]
    }
   ],
   "source": [
    "my_info = {}\n",
    "\n",
    "my_info[\"name\"] = \"Burcu\"\n",
    "my_info[\"surname\"] = \"Uluag\"\n",
    "my_info[\"age\"] = 29\n",
    "\n",
    "print(my_info)"
   ]
  },
  {
   "cell_type": "code",
   "execution_count": 3,
   "metadata": {},
   "outputs": [
    {
     "name": "stdout",
     "output_type": "stream",
     "text": [
      "{'name': 'Onur', 'surname': 'Uluag', 'age': 36}\n"
     ]
    }
   ],
   "source": [
    "my_brother_info = dict(name= \"Onur\", surname= \"Uluag\", age=36)\n",
    "print(my_brother_info)"
   ]
  },
  {
   "cell_type": "code",
   "execution_count": 6,
   "metadata": {},
   "outputs": [
    {
     "name": "stdout",
     "output_type": "stream",
     "text": [
      "{'name': 'Ayse', 'surname': 'Yilmaz', 'age': 22}\n"
     ]
    }
   ],
   "source": [
    "keys = [\"name\", \"surname\", \"age\"]\n",
    "value = [\"Ayse\", \"Yilmaz\", 22]\n",
    "print(dict(zip(keys, value)))\n"
   ]
  },
  {
   "cell_type": "code",
   "execution_count": 8,
   "metadata": {},
   "outputs": [
    {
     "name": "stdout",
     "output_type": "stream",
     "text": [
      "Bilgisayar\n",
      "Hafıza\n"
     ]
    }
   ],
   "source": [
    "sozluk ={\"Computer\":\"Bilgisayar\",\n",
    "\"Driver\":\"Sürücü\",\n",
    "\"Memory\":\"Hafıza\",\n",
    "\"Output\":\"Çıktı\",\n",
    "\"Software\":\"Yazılım\",\n",
    "\"Printer\":\"Yazıcı\"}\n",
    "\n",
    "print(sozluk[\"Computer\"])\n",
    "\n",
    "# Or\n",
    "\n",
    "memory = sozluk[\"Memory\"]\n",
    "print(memory)"
   ]
  },
  {
   "cell_type": "code",
   "execution_count": 9,
   "metadata": {},
   "outputs": [
    {
     "name": "stdout",
     "output_type": "stream",
     "text": [
      "dict_keys(['name', 'surname', 'age'])\n"
     ]
    }
   ],
   "source": [
    "my_info = {'name': 'Burcu', 'surname': 'Uluag', 'age': 29}\n",
    "\n",
    "print(my_info.keys())"
   ]
  },
  {
   "cell_type": "code",
   "execution_count": 10,
   "metadata": {},
   "outputs": [
    {
     "name": "stdout",
     "output_type": "stream",
     "text": [
      "dict_values(['Burcu', 'Uluag', 29])\n"
     ]
    }
   ],
   "source": [
    "my_info = {'name': 'Burcu', 'surname': 'Uluag', 'age': 29}\n",
    "\n",
    "print(my_info.values())"
   ]
  },
  {
   "cell_type": "code",
   "execution_count": 14,
   "metadata": {},
   "outputs": [
    {
     "name": "stdout",
     "output_type": "stream",
     "text": [
      "dict_items([('name', 'Burcu'), ('surname', 'Uluag'), ('age', 29)])\n"
     ]
    }
   ],
   "source": [
    "my_info = {'name': 'Burcu', 'surname': 'Uluag', 'age': 29}\n",
    "\n",
    "print(my_info.items())"
   ]
  },
  {
   "cell_type": "code",
   "execution_count": 15,
   "metadata": {},
   "outputs": [
    {
     "name": "stdout",
     "output_type": "stream",
     "text": [
      "('age', 29)\n"
     ]
    }
   ],
   "source": [
    "my_info = {'name': 'Burcu', 'surname': 'Uluag', 'age': 29}\n",
    "\n",
    "print(my_info.popitem())"
   ]
  },
  {
   "cell_type": "code",
   "execution_count": 20,
   "metadata": {},
   "outputs": [
    {
     "name": "stdout",
     "output_type": "stream",
     "text": [
      "Uluag\n"
     ]
    }
   ],
   "source": [
    "my_info = {'name': 'Burcu', 'surname': 'Uluag', 'age': 29}\n",
    "\n",
    "print(my_info.pop(\"surname\"))\n",
    "#surname'i sildi ve sildiği ogeyi ekrana yazdirdi"
   ]
  },
  {
   "cell_type": "code",
   "execution_count": 22,
   "metadata": {},
   "outputs": [
    {
     "name": "stdout",
     "output_type": "stream",
     "text": [
      "DEU\n",
      "{'name': 'Burcu', 'surname': 'Uluag', 'age': 29, 'univercity': 'DEU'}\n"
     ]
    }
   ],
   "source": [
    "my_info = {'name': 'Burcu', 'surname': 'Uluag', 'age': 29}\n",
    "\n",
    "print(my_info.setdefault(\"univercity\", \"DEU\"))\n",
    "print(my_info)"
   ]
  }
 ],
 "metadata": {
  "kernelspec": {
   "display_name": "work_env",
   "language": "python",
   "name": "python3"
  },
  "language_info": {
   "codemirror_mode": {
    "name": "ipython",
    "version": 3
   },
   "file_extension": ".py",
   "mimetype": "text/x-python",
   "name": "python",
   "nbconvert_exporter": "python",
   "pygments_lexer": "ipython3",
   "version": "3.11.6"
  }
 },
 "nbformat": 4,
 "nbformat_minor": 2
}
