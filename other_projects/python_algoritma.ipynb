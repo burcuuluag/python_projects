{
 "cells": [
  {
   "cell_type": "code",
   "execution_count": 7,
   "metadata": {},
   "outputs": [
    {
     "name": "stdout",
     "output_type": "stream",
     "text": [
      "[9, 8]\n"
     ]
    }
   ],
   "source": [
    "## Verilen bir listedeki en büyük iki sayıyı bulan bir Python fonksiyonu yazın. Fonksiyonunuz, en büyük iki sayıyı içeren bir tuple veya liste dönmelidir.\n",
    "\n",
    "def find_big_numbers(my_list):\n",
    "    big_numbers = []\n",
    "    my_list.sort(reverse=True)\n",
    "    for i in my_list:\n",
    "        if len(big_numbers) < 2:\n",
    "            big_numbers.append(i)\n",
    "        else:\n",
    "            break\n",
    "\n",
    "    print(big_numbers)\n",
    "\n",
    "\n",
    "if __name__ == '__main__':\n",
    "    my_list = [1,4,3,8,9]\n",
    "    find_big_numbers(my_list)"
   ]
  },
  {
   "cell_type": "code",
   "execution_count": 8,
   "metadata": {},
   "outputs": [
    {
     "name": "stdout",
     "output_type": "stream",
     "text": [
      "!aynud ,abahreM\n"
     ]
    }
   ],
   "source": [
    "# Verilen bir metni tersine çeviren bir Python fonksiyonu yazın.\n",
    "\n",
    "def reverse_text(text):\n",
    "    converted = \"\"\n",
    "    for i in text[::-1]:\n",
    "        converted += i\n",
    "    return converted\n",
    "\n",
    "if __name__ == '__main__':\n",
    "    text = \"Merhaba, dunya!\"\n",
    "    result = reverse_text(text)\n",
    "    print(result)"
   ]
  },
  {
   "cell_type": "code",
   "execution_count": 17,
   "metadata": {},
   "outputs": [
    {
     "name": "stdout",
     "output_type": "stream",
     "text": [
      "False\n"
     ]
    }
   ],
   "source": [
    "# Verilen bir metni veya cümleyi palindrom olup olmadığını kontrol eden bir Python fonksiyonu yazın. Palindrom, tersten okunduğunda da aynı olan bir sözcük veya cümledir.\n",
    "\n",
    "def is_palindrome(text1):\n",
    "    text1 = text1.lower()\n",
    "    return text1 == text1[::-1]\n",
    "\n",
    "if __name__ == '__main__':\n",
    "    text1 = \"hello\"\n",
    "    result = is_palindrome(text1)\n",
    "    print(result)\n"
   ]
  },
  {
   "cell_type": "code",
   "execution_count": null,
   "metadata": {},
   "outputs": [],
   "source": [
    "## Verilen bir listede (örneğin, [1, 2, 3, 4, 5]), liste elemanlarını toplamadan oluşan yeni bir liste oluşturun. Yani, her eleman, önceki elemanların toplamına eşit olmalıdır.\n",
    "\n",
    "def cumulative_sum(input_list):\n",
    "    my_list = [1]\n",
    "    new_item = my_list[-1] + my_list[-2]\n",
    "    \n",
    "    \n",
    "\n",
    "if __name__ == '__main__':\n",
    "    input_list = [1, 2, 3, 4, 5]\n",
    "    result = cumulative_sum(input_list)\n",
    "    print(result)"
   ]
  }
 ],
 "metadata": {
  "kernelspec": {
   "display_name": "work_env",
   "language": "python",
   "name": "python3"
  },
  "language_info": {
   "codemirror_mode": {
    "name": "ipython",
    "version": 3
   },
   "file_extension": ".py",
   "mimetype": "text/x-python",
   "name": "python",
   "nbconvert_exporter": "python",
   "pygments_lexer": "ipython3",
   "version": "3.11.6"
  }
 },
 "nbformat": 4,
 "nbformat_minor": 2
}
