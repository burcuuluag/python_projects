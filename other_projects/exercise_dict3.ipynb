{
 "cells": [
  {
   "cell_type": "markdown",
   "metadata": {},
   "source": [
    "## Nested Dict:"
   ]
  },
  {
   "cell_type": "code",
   "execution_count": 17,
   "metadata": {},
   "outputs": [
    {
     "name": "stdout",
     "output_type": "stream",
     "text": [
      "3\n"
     ]
    }
   ],
   "source": [
    "# Şirkette kaç tane departman olduğunu bulun\n",
    "\n",
    "company_data = {\n",
    "    'employees': {\n",
    "        'emp1': {'ad': 'Ahmet', 'soyad': 'Yılmaz', 'pozisyon': 'Mühendis', 'maaş': 7500},\n",
    "        'emp2': {'ad': 'Ayşe', 'soyad': 'Kara', 'pozisyon': 'Pazarlama Uzmanı', 'maaş': 9000},\n",
    "        'emp3': {'ad': 'Mehmet', 'soyad': 'Aydın', 'pozisyon': 'Yazılım Geliştirici', 'maaş': 8500}\n",
    "    },\n",
    "    'projects': [\n",
    "        {'proje_adı': 'ProjeA', 'departman': 'Bilgi Teknolojileri', 'başlangıç_tarihi': '2023-01-01'},\n",
    "        {'proje_adı': 'ProjeB', 'departman': 'Pazarlama', 'başlangıç_tarihi': '2023-02-15'}\n",
    "    ],\n",
    "    'departments': ['Bilgi Teknolojileri', 'Pazarlama', 'İnsan Kaynakları']\n",
    "}\n",
    "\n",
    "len_departments = len(company_data['departments'])\n",
    "print(len_departments)"
   ]
  },
  {
   "cell_type": "code",
   "execution_count": 20,
   "metadata": {},
   "outputs": [
    {
     "name": "stdout",
     "output_type": "stream",
     "text": [
      "ProjeA'nin baslangic tarihi: 2023-01-01\n"
     ]
    }
   ],
   "source": [
    "# ProjeA\" adlı projenin başlangıç tarihini bulun.\n",
    "\n",
    "for i in company_data[\"projects\"]:\n",
    "    if i[\"proje_adı\"] == \"ProjeA\":\n",
    "        print(\"ProjeA'nin baslangic tarihi:\", i[\"başlangıç_tarihi\"])"
   ]
  },
  {
   "cell_type": "code",
   "execution_count": 21,
   "metadata": {},
   "outputs": [
    {
     "name": "stdout",
     "output_type": "stream",
     "text": [
      "ProjeB'nin bulundugu departman: Pazarlama\n"
     ]
    }
   ],
   "source": [
    "# \"ProjeB\" adlı projenin bulunduğu departmanı bulun.\n",
    "\n",
    "for i in company_data[\"projects\"]:\n",
    "    if i[\"proje_adı\"] == \"ProjeB\":\n",
    "        print(\"ProjeB'nin bulundugu departman:\", i[\"departman\"])"
   ]
  },
  {
   "cell_type": "code",
   "execution_count": 27,
   "metadata": {},
   "outputs": [
    {
     "name": "stdout",
     "output_type": "stream",
     "text": [
      "Mühendis 7500\n"
     ]
    }
   ],
   "source": [
    "# \"Yılmaz\" soyadına sahip olan çalışanın pozisyonunu ve maaşını bulun.\n",
    "\n",
    "company_data = {\n",
    "    'employees': {\n",
    "        'emp1': {'ad': 'Ahmet', 'soyad': 'Yılmaz', 'pozisyon': 'Mühendis', 'maaş': 7500},\n",
    "        'emp2': {'ad': 'Ayşe', 'soyad': 'Kara', 'pozisyon': 'Pazarlama Uzmanı', 'maaş': 9000},\n",
    "        'emp3': {'ad': 'Mehmet', 'soyad': 'Aydın', 'pozisyon': 'Yazılım Geliştirici', 'maaş': 8500}\n",
    "    },\n",
    "    'projects': [\n",
    "        {'proje_adı': 'ProjeA', 'departman': 'Bilgi Teknolojileri', 'başlangıç_tarihi': '2023-01-01'},\n",
    "        {'proje_adı': 'ProjeB', 'departman': 'Pazarlama', 'başlangıç_tarihi': '2023-02-15'}\n",
    "    ],\n",
    "    'departments': ['Bilgi Teknolojileri', 'Pazarlama', 'İnsan Kaynakları']\n",
    "}\n",
    "\n",
    "for key, value in company_data['employees'].items():\n",
    "    if value[\"soyad\"] == \"Yılmaz\":\n",
    "        print(value[\"pozisyon\"], value[\"maaş\"])"
   ]
  },
  {
   "cell_type": "code",
   "execution_count": 28,
   "metadata": {},
   "outputs": [
    {
     "name": "stdout",
     "output_type": "stream",
     "text": [
      "['Ahmet']\n"
     ]
    }
   ],
   "source": [
    "# \"Mühendis\" pozisyonundaki tüm çalışanların isimlerini bir listeye ekleyin.\n",
    "\n",
    "emp_list = []\n",
    "\n",
    "for key, value in company_data[\"employees\"].items():\n",
    "    if value[\"pozisyon\"] == \"Mühendis\":\n",
    "        emp_list.append(value[\"ad\"])\n",
    "print(emp_list)"
   ]
  },
  {
   "cell_type": "code",
   "execution_count": 55,
   "metadata": {},
   "outputs": [
    {
     "name": "stdout",
     "output_type": "stream",
     "text": [
      "En yüksek maaşı alan kişinin bilgileri:\n",
      "Ad: Ayşe\n",
      "Soyad: Kara\n",
      "Pozisyon: Pazarlama Uzmanı\n",
      "Maaş: 9000\n"
     ]
    }
   ],
   "source": [
    "# En yüksek maaşı kim alıyor ve bu kişinin tüm bilgilerini bulun.\n",
    "\n",
    "company_data = {\n",
    "    'employees': {\n",
    "        'emp1': {'ad': 'Ahmet', 'soyad': 'Yılmaz', 'pozisyon': 'Mühendis', 'maaş': 7500},\n",
    "        'emp2': {'ad': 'Ayşe', 'soyad': 'Kara', 'pozisyon': 'Pazarlama Uzmanı', 'maaş': 9000},\n",
    "        'emp3': {'ad': 'Mehmet', 'soyad': 'Aydın', 'pozisyon': 'Yazılım Geliştirici', 'maaş': 8500}\n",
    "    },\n",
    "    'projects': [\n",
    "        {'proje_adı': 'ProjeA', 'departman': 'Bilgi Teknolojileri', 'başlangıç_tarihi': '2023-01-01'},\n",
    "        {'proje_adı': 'ProjeB', 'departman': 'Pazarlama', 'başlangıç_tarihi': '2023-02-15'}\n",
    "    ],\n",
    "    'departments': ['Bilgi Teknolojileri', 'Pazarlama', 'İnsan Kaynakları']\n",
    "}\n",
    "\n",
    "max_maas = 0\n",
    "max_maas_emp = None\n",
    "\n",
    "for key, value in company_data[\"employees\"].items():\n",
    "    if value[\"maaş\"] > max_maas:\n",
    "        max_maas = value[\"maaş\"]\n",
    "        max_maas_emp = value\n",
    "\n",
    "if max_maas_emp:\n",
    "    print(\"En yüksek maaşı alan kişinin bilgileri:\")\n",
    "    print(\"Ad:\", max_maas_emp[\"ad\"])\n",
    "    print(\"Soyad:\", max_maas_emp[\"soyad\"])\n",
    "    print(\"Pozisyon:\", max_maas_emp[\"pozisyon\"])\n",
    "    print(\"Maaş:\", max_maas_emp[\"maaş\"])\n",
    "else:\n",
    "    print(\"Şirkette hiç çalışan yok.\")\n"
   ]
  }
 ],
 "metadata": {
  "kernelspec": {
   "display_name": "work_env",
   "language": "python",
   "name": "python3"
  },
  "language_info": {
   "codemirror_mode": {
    "name": "ipython",
    "version": 3
   },
   "file_extension": ".py",
   "mimetype": "text/x-python",
   "name": "python",
   "nbconvert_exporter": "python",
   "pygments_lexer": "ipython3",
   "version": "3.11.6"
  }
 },
 "nbformat": 4,
 "nbformat_minor": 2
}
