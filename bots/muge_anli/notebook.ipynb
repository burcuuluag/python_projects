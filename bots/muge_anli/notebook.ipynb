{
 "cells": [
  {
   "cell_type": "code",
   "execution_count": 2,
   "metadata": {},
   "outputs": [],
   "source": [
    "import pandas as pd\n",
    "import feedparser\n",
    "import requests\n",
    "from pandas.io.json import json_normalize"
   ]
  },
  {
   "cell_type": "code",
   "execution_count": null,
   "metadata": {},
   "outputs": [],
   "source": [
    "rss_url = \"https://news.google.com/rss/topics/CAAqJAgKIh5DQkFTRUFvS0wyMHZNSFl3YUhRM2NoSUNaVzRvQUFQAQ?hl=tr-TR&gl=TR&ceid=TR%3Atr\"\n",
    "news_feed = feedparser.parse(rss_url)\n",
    "news_feed"
   ]
  },
  {
   "cell_type": "code",
   "execution_count": null,
   "metadata": {},
   "outputs": [],
   "source": [
    "for item in news_feed.entries:\n",
    "    print(item.published_parsed)\n"
   ]
  },
  {
   "cell_type": "code",
   "execution_count": null,
   "metadata": {},
   "outputs": [],
   "source": [
    "news_feed.entries"
   ]
  },
  {
   "cell_type": "code",
   "execution_count": 5,
   "metadata": {},
   "outputs": [
    {
     "data": {
      "text/plain": [
       "dict_keys(['bozo', 'entries', 'feed', 'headers', 'href', 'status', 'encoding', 'version', 'namespaces'])"
      ]
     },
     "execution_count": 5,
     "metadata": {},
     "output_type": "execute_result"
    }
   ],
   "source": [
    "news_feed.keys()"
   ]
  },
  {
   "cell_type": "code",
   "execution_count": null,
   "metadata": {},
   "outputs": [],
   "source": [
    "news_feed.feed"
   ]
  },
  {
   "cell_type": "code",
   "execution_count": null,
   "metadata": {},
   "outputs": [],
   "source": [
    "for entry in news_feed.entries:\n",
    "    print('title: ',entry.title)\n",
    "    print('link: ',entry.link)\n",
    "    print('up: ',entry.update)"
   ]
  },
  {
   "cell_type": "code",
   "execution_count": 8,
   "metadata": {},
   "outputs": [
    {
     "data": {
      "text/plain": [
       "'Müge Anlı’da milyonlar tek yürek! Deprem için toplanan yardım miktarı açıklandı - Sabah'"
      ]
     },
     "execution_count": 8,
     "metadata": {},
     "output_type": "execute_result"
    }
   ],
   "source": [
    "news_feed.entries[0].title"
   ]
  },
  {
   "cell_type": "code",
   "execution_count": 9,
   "metadata": {},
   "outputs": [
    {
     "data": {
      "text/plain": [
       "'https://news.google.com/rss/articles/CBMidWh0dHBzOi8vd3d3LnNhYmFoLmNvbS50ci9nYWxlcmkvbWFnYXppbi9tdWdlLWFubGlkYS1taWx5b25sYXItdGVrLXl1cmVrLWRlcHJlbS1pY2luLXRvcGxhbmFuLXlhcmRpbS1taWt0YXJpLWFjaWtsYW5kadIBd2h0dHBzOi8vbS5zYWJhaC5jb20udHIvZ2FsZXJpL21hZ2F6aW4vbXVnZS1hbmxpZGEtbWlseW9ubGFyLXRlay15dXJlay1kZXByZW0taWNpbi10b3BsYW5hbi15YXJkaW0tbWlrdGFyaS1hY2lrbGFuZGkvYW1w?oc=5'"
      ]
     },
     "execution_count": 9,
     "metadata": {},
     "output_type": "execute_result"
    }
   ],
   "source": [
    "news_feed.entries[0].link"
   ]
  },
  {
   "cell_type": "code",
   "execution_count": 10,
   "metadata": {},
   "outputs": [
    {
     "name": "stdout",
     "output_type": "stream",
     "text": [
      "48\n"
     ]
    }
   ],
   "source": [
    "length_entries = len(news_feed.entries)\n",
    "print(length_entries)"
   ]
  },
  {
   "cell_type": "code",
   "execution_count": null,
   "metadata": {},
   "outputs": [],
   "source": [
    "for x in range(length_entries):\n",
    "    news_content = news_feed.entries[x]\n",
    "\n",
    "    print(\"\\n-------------------------\\n\")\n",
    "    print(\"title: \", news_content.title)\n",
    "    print(\"link: \", news_content.link)\n",
    "    print(\"id: \", news_content.guid)"
   ]
  },
  {
   "cell_type": "code",
   "execution_count": 12,
   "metadata": {},
   "outputs": [
    {
     "data": {
      "text/plain": [
       "'rss'"
      ]
     },
     "execution_count": 12,
     "metadata": {},
     "output_type": "execute_result"
    }
   ],
   "source": [
    "import xml.etree.ElementTree as ET\n",
    "\n",
    "tree = ET.parse(\"/home/buluag/gh/python_projects/feed.xml\")\n",
    "root = tree.getroot()\n",
    "\n",
    "root.tag"
   ]
  },
  {
   "cell_type": "code",
   "execution_count": 13,
   "metadata": {},
   "outputs": [
    {
     "data": {
      "text/plain": [
       "{}"
      ]
     },
     "execution_count": 13,
     "metadata": {},
     "output_type": "execute_result"
    }
   ],
   "source": [
    "root.attrib"
   ]
  },
  {
   "cell_type": "code",
   "execution_count": 14,
   "metadata": {},
   "outputs": [
    {
     "name": "stdout",
     "output_type": "stream",
     "text": [
      "channel {}\n"
     ]
    }
   ],
   "source": [
    "for x in root:\n",
    "    print(x.tag, x.attrib)"
   ]
  },
  {
   "cell_type": "code",
   "execution_count": null,
   "metadata": {},
   "outputs": [],
   "source": [
    "[elem.tag for elem in root.iter()]"
   ]
  },
  {
   "cell_type": "code",
   "execution_count": null,
   "metadata": {},
   "outputs": [],
   "source": [
    "print(ET.tostring(root, encoding=\"utf8\").decode(\"utf8\"))"
   ]
  },
  {
   "cell_type": "code",
   "execution_count": null,
   "metadata": {},
   "outputs": [],
   "source": [
    "for description in root.iter(\"description\"):\n",
    "    print(description.text)"
   ]
  }
 ],
 "metadata": {
  "kernelspec": {
   "display_name": "work_env",
   "language": "python",
   "name": "python3"
  },
  "language_info": {
   "codemirror_mode": {
    "name": "ipython",
    "version": 3
   },
   "file_extension": ".py",
   "mimetype": "text/x-python",
   "name": "python",
   "nbconvert_exporter": "python",
   "pygments_lexer": "ipython3",
   "version": "3.10.8"
  },
  "orig_nbformat": 4,
  "vscode": {
   "interpreter": {
    "hash": "b4b0c2aa047d52c894a67cf526f88213ff80160b32ffec79df59d2e926646cd9"
   }
  }
 },
 "nbformat": 4,
 "nbformat_minor": 2
}
