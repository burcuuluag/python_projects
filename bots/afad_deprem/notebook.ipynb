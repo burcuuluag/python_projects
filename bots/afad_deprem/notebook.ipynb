{
 "cells": [
  {
   "cell_type": "code",
   "execution_count": 2,
   "metadata": {},
   "outputs": [],
   "source": [
    "import requests\n",
    "import xml.etree.ElementTree as ET"
   ]
  },
  {
   "cell_type": "code",
   "execution_count": null,
   "metadata": {},
   "outputs": [],
   "source": [
    "url = \"https://deprem.afad.gov.tr/apiv2/event/filter?minlat=36&maxlat=42&minlon=26&maxlon=45&start=2023-01-01%2010:00:00&end=2025-09-16%2010:00:00&minmag=4&format=xml\"\n",
    "response = requests.get(url)\n",
    "print(response.text)"
   ]
  },
  {
   "cell_type": "code",
   "execution_count": 32,
   "metadata": {},
   "outputs": [
    {
     "name": "stdout",
     "output_type": "stream",
     "text": [
      "['__attrs__', '__bool__', '__class__', '__delattr__', '__dict__', '__dir__', '__doc__', '__enter__', '__eq__', '__exit__', '__format__', '__ge__', '__getattribute__', '__getstate__', '__gt__', '__hash__', '__init__', '__init_subclass__', '__iter__', '__le__', '__lt__', '__module__', '__ne__', '__new__', '__nonzero__', '__reduce__', '__reduce_ex__', '__repr__', '__setattr__', '__setstate__', '__sizeof__', '__str__', '__subclasshook__', '__weakref__', '_content', '_content_consumed', '_next', 'apparent_encoding', 'close', 'connection', 'content', 'cookies', 'elapsed', 'encoding', 'headers', 'history', 'is_permanent_redirect', 'is_redirect', 'iter_content', 'iter_lines', 'json', 'links', 'next', 'ok', 'raise_for_status', 'raw', 'reason', 'request', 'status_code', 'text', 'url']\n"
     ]
    }
   ],
   "source": [
    "print(dir(response))"
   ]
  },
  {
   "cell_type": "code",
   "execution_count": 34,
   "metadata": {},
   "outputs": [
    {
     "name": "stdout",
     "output_type": "stream",
     "text": [
      "{'Server': 'nginx/1.18.0 (Ubuntu)', 'Date': 'Mon, 13 Feb 2023 08:10:09 GMT', 'Content-Type': 'text/xml; charset=utf-8', 'ntCoent-Length': '147079', 'Connection': 'keep-alive', 'Set-Cookie': 'NSC_ESNS=1b797500-f061-13e9-9678-00e0ede4b251_2211919660_1801936566_00000000009050616605; Path=/; Expires=Mon, 13-Feb-2023 08:10:24 GMT', 'Cache-Control': 'private', 'Content-Encoding': 'gzip', 'Transfer-Encoding': 'chunked'}\n"
     ]
    }
   ],
   "source": [
    "print(response.headers)"
   ]
  },
  {
   "cell_type": "code",
   "execution_count": 27,
   "metadata": {},
   "outputs": [
    {
     "name": "stdout",
     "output_type": "stream",
     "text": [
      "{http://schemas.datacontract.org/2004/07/EventAPIv2.Model}ArrayOfEarthquake\n",
      "{http://schemas.datacontract.org/2004/07/EventAPIv2.Model}Earthquake\n",
      "{}\n",
      "{http://schemas.datacontract.org/2004/07/EventAPIv2.Model}Country {}\n",
      "{http://schemas.datacontract.org/2004/07/EventAPIv2.Model}Date {}\n",
      "{http://schemas.datacontract.org/2004/07/EventAPIv2.Model}Depth {}\n",
      "{http://schemas.datacontract.org/2004/07/EventAPIv2.Model}District {'{http://www.w3.org/2001/XMLSchema-instance}nil': 'true'}\n",
      "{http://schemas.datacontract.org/2004/07/EventAPIv2.Model}EventID {}\n",
      "{http://schemas.datacontract.org/2004/07/EventAPIv2.Model}Latitude {}\n",
      "{http://schemas.datacontract.org/2004/07/EventAPIv2.Model}Location {}\n",
      "{http://schemas.datacontract.org/2004/07/EventAPIv2.Model}Longitude {}\n",
      "{http://schemas.datacontract.org/2004/07/EventAPIv2.Model}Magnitude {}\n",
      "{http://schemas.datacontract.org/2004/07/EventAPIv2.Model}Neighborhood {'{http://www.w3.org/2001/XMLSchema-instance}nil': 'true'}\n",
      "{http://schemas.datacontract.org/2004/07/EventAPIv2.Model}Province {'{http://www.w3.org/2001/XMLSchema-instance}nil': 'true'}\n",
      "{http://schemas.datacontract.org/2004/07/EventAPIv2.Model}Rms {}\n",
      "{http://schemas.datacontract.org/2004/07/EventAPIv2.Model}Type {}\n",
      "{http://schemas.datacontract.org/2004/07/EventAPIv2.Model}isEventUpdate {}\n",
      "{http://schemas.datacontract.org/2004/07/EventAPIv2.Model}lastUpdateDate {'{http://www.w3.org/2001/XMLSchema-instance}nil': 'true'}\n"
     ]
    }
   ],
   "source": [
    "mytree = ET.parse('./filter.xml')\n",
    "myroot = mytree.getroot()\n",
    "print(myroot.tag)\n",
    "print(myroot[0].tag)\n",
    "print(myroot[0].attrib)\n",
    "for x in myroot[0]:\n",
    "    print(x.tag, x.attrib)\n",
    "\n"
   ]
  },
  {
   "cell_type": "code",
   "execution_count": 29,
   "metadata": {},
   "outputs": [
    {
     "name": "stdout",
     "output_type": "stream",
     "text": [
      "{http://schemas.datacontract.org/2004/07/EventAPIv2.Model}Country İran\n",
      "{http://schemas.datacontract.org/2004/07/EventAPIv2.Model}Date 2023-01-28T18:14:46\n",
      "{http://schemas.datacontract.org/2004/07/EventAPIv2.Model}Depth 6.49\n",
      "{http://schemas.datacontract.org/2004/07/EventAPIv2.Model}District None\n",
      "{http://schemas.datacontract.org/2004/07/EventAPIv2.Model}EventID 542779\n",
      "{http://schemas.datacontract.org/2004/07/EventAPIv2.Model}Latitude 38.553\n",
      "{http://schemas.datacontract.org/2004/07/EventAPIv2.Model}Location Khoy, West Azarbaijan (İran) - [45.51 km] Başkale (Van)\n",
      "{http://schemas.datacontract.org/2004/07/EventAPIv2.Model}Longitude 44.881\n",
      "{http://schemas.datacontract.org/2004/07/EventAPIv2.Model}Magnitude 5.8\n",
      "{http://schemas.datacontract.org/2004/07/EventAPIv2.Model}Neighborhood None\n",
      "{http://schemas.datacontract.org/2004/07/EventAPIv2.Model}Province None\n",
      "{http://schemas.datacontract.org/2004/07/EventAPIv2.Model}Rms 0.69\n",
      "{http://schemas.datacontract.org/2004/07/EventAPIv2.Model}Type MW\n",
      "{http://schemas.datacontract.org/2004/07/EventAPIv2.Model}isEventUpdate false\n",
      "{http://schemas.datacontract.org/2004/07/EventAPIv2.Model}lastUpdateDate None\n"
     ]
    }
   ],
   "source": [
    "for x in myroot[0]:\n",
    "    print(x.tag, x.text)"
   ]
  },
  {
   "cell_type": "code",
   "execution_count": 31,
   "metadata": {},
   "outputs": [
    {
     "name": "stdout",
     "output_type": "stream",
     "text": [
      "İran\n",
      "Türkiye\n",
      "Türkiye\n",
      "Türkiye\n",
      "Türkiye\n",
      "Türkiye\n",
      "Türkiye\n",
      "Türkiye\n",
      "Türkiye\n",
      "Türkiye\n",
      "Türkiye\n",
      "Türkiye\n",
      "Türkiye\n",
      "Türkiye\n",
      "Türkiye\n",
      "Türkiye\n",
      "Türkiye\n",
      "Türkiye\n",
      "Türkiye\n",
      "Türkiye\n",
      "Türkiye\n",
      "Türkiye\n",
      "Türkiye\n",
      "Türkiye\n",
      "Türkiye\n",
      "Türkiye\n",
      "Türkiye\n",
      "Türkiye\n",
      "Türkiye\n",
      "Türkiye\n",
      "Türkiye\n",
      "Türkiye\n"
     ]
    }
   ],
   "source": [
    "namespace = \"{http://schemas.datacontract.org/2004/07/EventAPIv2.Model}\"\n",
    "for x in myroot.findall(f\"{namespace}Earthquake\"):\n",
    "    country = x.find(f\"{namespace}Country\").text\n",
    "    print(country)\n"
   ]
  },
  {
   "cell_type": "code",
   "execution_count": 22,
   "metadata": {},
   "outputs": [],
   "source": [
    "for x in myroot.findall('Earthquake'):\n",
    "    country = x.find(\"Country\").text\n",
    "    print(country)\n"
   ]
  },
  {
   "cell_type": "code",
   "execution_count": null,
   "metadata": {},
   "outputs": [],
   "source": [
    "#örnek data:\n",
    "\n",
    "data = [{'country': 'Türkiye', 'date': '2023-01-07T01:52:57', 'eventid': '540341', 'location': 'Ege Denizi, Midilli Adası (Lesvos) - [14.09 km] Ayvacık (Çanakkale)', 'magnitude ': '5', 'province': 'Çanakkale'},\n",
    "{'country': 'Türkiye', 'date': '2023-01-07T06:39:29', 'eventid': '540374', 'location': 'Ege Denizi, Midilli Adası (Lesvos) - [13.92 km] Ayvacık (Çanakkale)', 'magnitude ': '4.8', 'province': 'Çanakkale'},\n",
    "{'country': 'Türkiye', 'date': '2023-01-09T10:56:35', 'eventid': '540675', 'location': 'Ege Denizi, Midilli Adası (Lesvos) - [15.17 km] Ayvacık (Çanakkale)', 'magnitude ': '4.1', 'province': 'Çanakkale'},\n",
    "{'country': 'Türkiye', 'date': '2023-01-15T03:36:26', 'eventid': '541513', 'location': 'Sivrice (Elazığ)', 'magnitude ': '4.9', 'province': 'Elazığ'},\n",
    "{'country': 'İran', 'date': '2023-01-18T14:55:51', 'eventid': '541916', 'location': 'Khoy, West Azarbaijan (İran) - [38.72 km] Başkale (Van)', 'magnitude ': '4.5', 'province': None},\n",
    "{'country': 'İran', 'date': '2023-01-28T18:14:46', 'eventid': '542779', 'location': 'Khoy, West Azarbaijan (İran) - [45.51 km] Başkale (Van)', 'magnitude ': '5.8', 'province': None},\n",
    "{'country': 'İran', 'date': '2023-01-29T14:41:11', 'eventid': '542847', 'location': 'Khoy, West Azarbaijan (İran) - [47.63 km] Başkale (Van)', 'magnitude ': '4.7', 'province': None},\n",
    "{'country': 'Türkiye', 'date': '2023-01-15T03:36:26', 'eventid': '541513', 'location': 'Sivrice (Elazığ)', 'magnitude ': '4.9', 'province': 'Elazığ'}]"
   ]
  }
 ],
 "metadata": {
  "kernelspec": {
   "display_name": "work_env",
   "language": "python",
   "name": "python3"
  },
  "language_info": {
   "codemirror_mode": {
    "name": "ipython",
    "version": 3
   },
   "file_extension": ".py",
   "mimetype": "text/x-python",
   "name": "python",
   "nbconvert_exporter": "python",
   "pygments_lexer": "ipython3",
   "version": "3.10.8"
  },
  "orig_nbformat": 4,
  "vscode": {
   "interpreter": {
    "hash": "b4b0c2aa047d52c894a67cf526f88213ff80160b32ffec79df59d2e926646cd9"
   }
  }
 },
 "nbformat": 4,
 "nbformat_minor": 2
}
