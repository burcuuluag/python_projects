{
 "cells": [
  {
   "cell_type": "code",
   "execution_count": 1,
   "metadata": {},
   "outputs": [],
   "source": [
    "import numpy as np"
   ]
  },
  {
   "attachments": {},
   "cell_type": "markdown",
   "metadata": {},
   "source": [
    "Aşağıdaki kodda X adlı bir numpy array oluşturulmuştur. Bu X array'ı 3 satır ve 6 sütundan oluşmaktadır."
   ]
  },
  {
   "cell_type": "code",
   "execution_count": 2,
   "metadata": {},
   "outputs": [
    {
     "data": {
      "text/plain": [
       "array([[ 1,  2,  3, -1, -3, -4],\n",
       "       [ 4,  5,  7, -6, -5, -7],\n",
       "       [ 7,  8,  9,  2,  4,  6]])"
      ]
     },
     "execution_count": 2,
     "metadata": {},
     "output_type": "execute_result"
    }
   ],
   "source": [
    "X = np.array([[1,2,3,-1,-3,-4],[4,5,7,-6,-5,-7],[7,8,9,2,4,6]])\n",
    "X"
   ]
  },
  {
   "attachments": {},
   "cell_type": "markdown",
   "metadata": {},
   "source": [
    "Aşağıdaki kodda a adlı bir numpy array oluşturulmuştur. 1 satır ve 6 sütundan oluşmaktadır."
   ]
  },
  {
   "cell_type": "code",
   "execution_count": 3,
   "metadata": {},
   "outputs": [
    {
     "data": {
      "text/plain": [
       "array([0, 1, 1, 0, 1, 1])"
      ]
     },
     "execution_count": 3,
     "metadata": {},
     "output_type": "execute_result"
    }
   ],
   "source": [
    "a = np.array([0,1,1,0,1,1])\n",
    "a"
   ]
  },
  {
   "attachments": {},
   "cell_type": "markdown",
   "metadata": {},
   "source": [
    "Exercise (a)\n",
    "\n",
    "np.where() NumPy kütüphanesindeki bir fonksiyondur ve belirli bir koşulu sağlayan öğelerin konumlarını (indekslerini) döndürür.\n",
    "\n",
    "Aşağıdaki kodda a numpy array'ındeki elemanlardan sadece 0 olan elemanların indekslerini döndürmek için kullanılır. inx0 yine bir numpy array döndürür ve a dizisinde birinci ve dördüncü itemların 0 olduğunu bize söyler. (sıfırıncı ve üçüncü itemlar)"
   ]
  },
  {
   "cell_type": "code",
   "execution_count": 4,
   "metadata": {},
   "outputs": [
    {
     "data": {
      "text/plain": [
       "array([0, 3])"
      ]
     },
     "execution_count": 4,
     "metadata": {},
     "output_type": "execute_result"
    }
   ],
   "source": [
    "idx0 = np.where(a==0)[0]\n",
    "idx0"
   ]
  },
  {
   "attachments": {},
   "cell_type": "markdown",
   "metadata": {},
   "source": [
    "Exercise (b)\n",
    "\n",
    "X array'indeki tüm satırları ve a array'indeki sadece 0 olan elemanların indekslerine karşılık gelen sütunları seçmek için X[:, idx0] ifadesi kullanılır. Bu kod, X dizisinin tüm satırlarını ve idx0 array'ındeki sütunları içeren yeni bir numpy dizisi olan Y'yi oluşturur."
   ]
  },
  {
   "cell_type": "code",
   "execution_count": 5,
   "metadata": {},
   "outputs": [
    {
     "data": {
      "text/plain": [
       "array([[ 1, -1],\n",
       "       [ 4, -6],\n",
       "       [ 7,  2]])"
      ]
     },
     "execution_count": 5,
     "metadata": {},
     "output_type": "execute_result"
    }
   ],
   "source": [
    "Y = X[:,idx0]\n",
    "Y"
   ]
  },
  {
   "attachments": {},
   "cell_type": "markdown",
   "metadata": {},
   "source": [
    "Exercise (c)\n",
    "\n",
    "mean() fonksiyonu ortalama hesaplamak için kullanılır.\n",
    "axis=1 her saturun ortalamasının alınacağını belirtir.\n",
    "keepdims=True fonksiyonun sonucunun 2D bir numpy array'ıne dönüştürülmesini sağlar.\n",
    "Kısacası bu kodda Y array'inin ortalaması mean0 numpy dizisine aktarılıyor."
   ]
  },
  {
   "cell_type": "code",
   "execution_count": 6,
   "metadata": {},
   "outputs": [
    {
     "data": {
      "text/plain": [
       "array([[ 0. ],\n",
       "       [-1. ],\n",
       "       [ 4.5]])"
      ]
     },
     "execution_count": 6,
     "metadata": {},
     "output_type": "execute_result"
    }
   ],
   "source": [
    "mean0 = np.mean(Y,axis=1,keepdims=True)\n",
    "mean0"
   ]
  },
  {
   "attachments": {},
   "cell_type": "markdown",
   "metadata": {},
   "source": [
    "Exercise (d)\n",
    "\n",
    "a arrayinde item'ı 1 olanları idx1 numpy dizisine dönüştürülmiştür."
   ]
  },
  {
   "cell_type": "code",
   "execution_count": 7,
   "metadata": {},
   "outputs": [
    {
     "data": {
      "text/plain": [
       "array([1, 2, 4, 5])"
      ]
     },
     "execution_count": 7,
     "metadata": {},
     "output_type": "execute_result"
    }
   ],
   "source": [
    "idx1 = np.where(a==1)[0]\n",
    "idx1"
   ]
  },
  {
   "attachments": {},
   "cell_type": "markdown",
   "metadata": {},
   "source": [
    "Exercise (e)\n",
    "\n",
    "a vektöründe 1 olan elemanların indekslerine karşılık gelen sütunları seçmek için X[:, idx1] işlemi kullanılır. Bu, X matrisindeki tüm satırları ve idx1 listesindeki sütunları içeren bir alt matrisi oluşturur.\n",
    "\n"
   ]
  },
  {
   "cell_type": "code",
   "execution_count": 8,
   "metadata": {},
   "outputs": [
    {
     "data": {
      "text/plain": [
       "array([[ 2,  3, -3, -4],\n",
       "       [ 5,  7, -5, -7],\n",
       "       [ 8,  9,  4,  6]])"
      ]
     },
     "execution_count": 8,
     "metadata": {},
     "output_type": "execute_result"
    }
   ],
   "source": [
    "Z = X[:,idx1]\n",
    "Z"
   ]
  },
  {
   "attachments": {},
   "cell_type": "markdown",
   "metadata": {},
   "source": [
    "Exercise (f)\n",
    "\n",
    "Z arrayindeki her satırın ortalaması alınır ve keepdims=True parametresi, döndürülen matrisin boyutlarını orijinal matrisle aynı tutar. Yapılan bu işlem mean1 numpy arrayine atılır."
   ]
  },
  {
   "cell_type": "code",
   "execution_count": 9,
   "metadata": {},
   "outputs": [
    {
     "data": {
      "text/plain": [
       "array([[-0.5 ],\n",
       "       [ 0.  ],\n",
       "       [ 6.75]])"
      ]
     },
     "execution_count": 9,
     "metadata": {},
     "output_type": "execute_result"
    }
   ],
   "source": [
    "mean1 = np.mean(Z,axis=1,keepdims=True)\n",
    "mean1"
   ]
  }
 ],
 "metadata": {
  "kernelspec": {
   "display_name": "work_env",
   "language": "python",
   "name": "python3"
  },
  "language_info": {
   "codemirror_mode": {
    "name": "ipython",
    "version": 3
   },
   "file_extension": ".py",
   "mimetype": "text/x-python",
   "name": "python",
   "nbconvert_exporter": "python",
   "pygments_lexer": "ipython3",
   "version": "3.10.8"
  },
  "orig_nbformat": 4
 },
 "nbformat": 4,
 "nbformat_minor": 2
}
