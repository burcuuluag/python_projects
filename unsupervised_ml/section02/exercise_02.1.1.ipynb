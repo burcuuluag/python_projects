{
 "cells": [
  {
   "attachments": {},
   "cell_type": "markdown",
   "metadata": {},
   "source": [
    "Aşağıda numpy array oluşturma ve bu arraylerle toplama çarpma gibi 4 işlem yapabilmek \n",
    "için bazı kodlar yazılmıştır."
   ]
  },
  {
   "cell_type": "code",
   "execution_count": 1,
   "metadata": {},
   "outputs": [],
   "source": [
    "import numpy as np"
   ]
  },
  {
   "attachments": {},
   "cell_type": "markdown",
   "metadata": {},
   "source": [
    "exercise(a):\n",
    "\n",
    "burada, X adında numpy dizisi oluşturulmuştur. 2 satır ve 3 sütündan oluşmaktadır. Aynı şekilde \n",
    "X numpy array'ı oluşturulmuştur ve 1 satırdan oluşmaktadır. Z numpy array'ı ise 3 satır \n",
    "2 sütündan oluşmaktadır."
   ]
  },
  {
   "cell_type": "code",
   "execution_count": 2,
   "metadata": {},
   "outputs": [
    {
     "data": {
      "text/plain": [
       "array([[ 1,  2,  4],\n",
       "       [-2, -5, -8]])"
      ]
     },
     "execution_count": 2,
     "metadata": {},
     "output_type": "execute_result"
    }
   ],
   "source": [
    "X = np.array([[1, 2, 4], [-2, -5, -8]])\n",
    "X"
   ]
  },
  {
   "cell_type": "code",
   "execution_count": 3,
   "metadata": {},
   "outputs": [
    {
     "data": {
      "text/plain": [
       "array([[1, 2, 3]])"
      ]
     },
     "execution_count": 3,
     "metadata": {},
     "output_type": "execute_result"
    }
   ],
   "source": [
    "Y = np.array([[1, 2, 3]])\n",
    "Y"
   ]
  },
  {
   "cell_type": "code",
   "execution_count": 4,
   "metadata": {},
   "outputs": [
    {
     "data": {
      "text/plain": [
       "array([[1, 2],\n",
       "       [3, 4],\n",
       "       [5, 7]])"
      ]
     },
     "execution_count": 4,
     "metadata": {},
     "output_type": "execute_result"
    }
   ],
   "source": [
    "Z = np.array([[1, 2], [3, 4], [5,7]])\n",
    "Z"
   ]
  },
  {
   "attachments": {},
   "cell_type": "markdown",
   "metadata": {},
   "source": [
    "Exercise (b)\n",
    "\n",
    "**np.concatenate()** fonksiyonu 2 veya daha fazla numpy dizisini birleştirmek için \n",
    "kullanılır. Birleştirme işlemi, iki dizinin birleştirileceği eksen (satır veya sütun) \n",
    "belirtilerek yapılır. axis=0 ise iki dizi satır bazında birleştirilir eğer axis=1 ise \n",
    "iki dizi sütun bazında birleştirilir. Bu yüzden iki dizinin aynı \n",
    "satır sayısına sahip olması gerekir.\n",
    "\n",
    "aşağıdaki kodda, X ve Y arrayleri kullanılarak XYrow adlı bir numpy dizisi oluşturulmuştur. \n",
    "ve yeni oluşturulan XYrow dizisi 3 satır ve 3 sütundan oluşmaktadır.\n"
   ]
  },
  {
   "cell_type": "code",
   "execution_count": 5,
   "metadata": {},
   "outputs": [
    {
     "data": {
      "text/plain": [
       "array([[ 1,  2,  4],\n",
       "       [-2, -5, -8],\n",
       "       [ 1,  2,  3]])"
      ]
     },
     "execution_count": 5,
     "metadata": {},
     "output_type": "execute_result"
    }
   ],
   "source": [
    "XYrow = np.concatenate((X, Y), axis=0)\n",
    "XYrow"
   ]
  },
  {
   "attachments": {},
   "cell_type": "markdown",
   "metadata": {},
   "source": [
    "Exercise (c)\n",
    "\n",
    "**np.reshape()** fonksiyonu, numpy dizilerinin boyutunu yeniden şekillendirmek \n",
    "için kullanılır. Bu fonksiyon, orijinal dizi elemanlarının birbirleriyle aynı \n",
    "sırayla yeniden düzenlenerek yeni bir dizi oluşturur. Bu işlem sırasında, \n",
    "orijinal dizi eleman sayısı ve yeni şekle uyumlu bir eleman sayısı olması gerekmektedir. \n",
    "Bu fonksiyon özellikle makine öğrenmesi gibi veri bilimi uygulamalarında, verilerin \n",
    "işlenmesinde sıkça kullanılır.\n",
    "\n",
    "aşağıdaki kodda, np.reshape() fonksiyonu kullanılarak, Z numpy array'ı yeniden \n",
    "şekillendirilmiştir. İlk parametre olarak Z verilmiştir. İkinci parametre (2,3) \n",
    "tuple'ı belirtilerek 2 satır 3 sütundan oluşan bi array'e dönüştürülmüştür. \n",
    "Ve yapılan bu işlem Zreshape olarak adlandırılmuştır."
   ]
  },
  {
   "cell_type": "code",
   "execution_count": 6,
   "metadata": {},
   "outputs": [
    {
     "data": {
      "text/plain": [
       "array([[1, 2, 3],\n",
       "       [4, 5, 7]])"
      ]
     },
     "execution_count": 6,
     "metadata": {},
     "output_type": "execute_result"
    }
   ],
   "source": [
    "Zreshape = np.reshape(Z,(2,3))\n",
    "Zreshape"
   ]
  },
  {
   "attachments": {},
   "cell_type": "markdown",
   "metadata": {},
   "source": [
    "Exercise (d)\n",
    "\n",
    "Yukarıda elde edilen X, Y ve Zreshape numpy arrayleri toplanarak yeni bir array \n",
    "oluşturulmuştur (Answer). Y numpy arrayinin 3 katı alınmıştır ve X, Zreshape ile \n",
    "toplanmıştır."
   ]
  },
  {
   "cell_type": "code",
   "execution_count": 7,
   "metadata": {},
   "outputs": [
    {
     "data": {
      "text/plain": [
       "array([[ 5, 10, 16],\n",
       "       [ 5,  6,  8]])"
      ]
     },
     "execution_count": 7,
     "metadata": {},
     "output_type": "execute_result"
    }
   ],
   "source": [
    "Answer = X + 3*Y + Zreshape\n",
    "Answer"
   ]
  },
  {
   "attachments": {},
   "cell_type": "markdown",
   "metadata": {},
   "source": [
    "Exercise (e)"
   ]
  },
  {
   "attachments": {},
   "cell_type": "markdown",
   "metadata": {},
   "source": [
    "Aşağıdaki kodda, X ve Y numpy arrayleri çarpılmıştır ve yeni oluşturulan Answer \n",
    "numpy array'ı 2 satır ve 3 sütundan oluşmaktadır."
   ]
  },
  {
   "cell_type": "code",
   "execution_count": 8,
   "metadata": {},
   "outputs": [
    {
     "data": {
      "text/plain": [
       "array([[  1,   4,  12],\n",
       "       [ -2, -10, -24]])"
      ]
     },
     "execution_count": 8,
     "metadata": {},
     "output_type": "execute_result"
    }
   ],
   "source": [
    "Answer = X*Y\n",
    "Answer"
   ]
  }
 ],
 "metadata": {
  "kernelspec": {
   "display_name": "work_env",
   "language": "python",
   "name": "python3"
  },
  "language_info": {
   "codemirror_mode": {
    "name": "ipython",
    "version": 3
   },
   "file_extension": ".py",
   "mimetype": "text/x-python",
   "name": "python",
   "nbconvert_exporter": "python",
   "pygments_lexer": "ipython3",
   "version": "3.10.8"
  },
  "orig_nbformat": 4
 },
 "nbformat": 4,
 "nbformat_minor": 2
}
