{
 "cells": [
  {
   "cell_type": "code",
   "execution_count": 3,
   "metadata": {},
   "outputs": [],
   "source": [
    "import pandas as pd\n",
    "import numpy as np\n",
    "import matplotlib.pyplot as plt\n",
    "from sklearn.ensemble import RandomForestRegressor"
   ]
  },
  {
   "cell_type": "code",
   "execution_count": 4,
   "metadata": {},
   "outputs": [
    {
     "name": "stdout",
     "output_type": "stream",
     "text": [
      "7.8 seviyesinde fiyatin ne kadar olduğu:  [22.7]\n"
     ]
    }
   ],
   "source": [
    "df = pd.read_csv(\"random_forest_dataset.csv\", sep = \";\", header = None)\n",
    "\n",
    "x = df.iloc[:,0].values.reshape(-1,1)\n",
    "y = df.iloc[:,1].values\n",
    "\n",
    "#n_estimators: ağaç sayısı\n",
    "#random_state: alınan sample'ları sabitler. random_state belirlenmezse default None olur.\n",
    "rf = RandomForestRegressor(n_estimators = 100, random_state = 42)\n",
    "rf.fit(x,y)\n",
    "\n",
    "print(\"7.8 seviyesinde fiyatin ne kadar olduğu: \", rf.predict([[7.8]]))\n",
    "\n",
    "x_ = np.arange(min(x),max(x),0.01).reshape(-1,1)\n",
    "y_head = rf.predict(x_)"
   ]
  },
  {
   "cell_type": "code",
   "execution_count": 5,
   "metadata": {},
   "outputs": [
    {
     "data": {
      "image/png": "[encoded data removed]",
      "text/plain": [
       "<Figure size 640x480 with 1 Axes>"
      ]
     },
     "metadata": {},
     "output_type": "display_data"
    }
   ],
   "source": [
    "plt.scatter(x,y,color=\"red\")\n",
    "plt.plot(x_,y_head,color=\"green\")\n",
    "plt.xlabel(\"tribun level\")\n",
    "plt.ylabel(\"ucret\")\n",
    "plt.show()"
   ]
  },
  {
   "attachments": {},
   "cell_type": "markdown",
   "metadata": {},
   "source": [
    "# r square with random forest "
   ]
  },
  {
   "cell_type": "code",
   "execution_count": 7,
   "metadata": {},
   "outputs": [],
   "source": [
    "from sklearn.metrics import r2_score"
   ]
  },
  {
   "cell_type": "code",
   "execution_count": 9,
   "metadata": {},
   "outputs": [
    {
     "name": "stdout",
     "output_type": "stream",
     "text": [
      "r2_score 0.9798724794092587\n"
     ]
    }
   ],
   "source": [
    "df = pd.read_csv(\"random_forest_dataset.csv\", sep = \";\", header = None)\n",
    "\n",
    "x = df.iloc[:,0].values.reshape(-1,1)\n",
    "y = df.iloc[:,1].values\n",
    "\n",
    "#n_estimators: ağaç sayısı\n",
    "#random_state: alınan sample'ları sabitler. random_state belirlenmezse default None olur.\n",
    "rf = RandomForestRegressor(n_estimators = 100, random_state = 42)\n",
    "rf.fit(x,y)\n",
    "\n",
    "y_head = rf.predict(x)\n",
    "\n",
    "print(\"r2_score\", r2_score(y, y_head))"
   ]
  },
  {
   "attachments": {},
   "cell_type": "markdown",
   "metadata": {},
   "source": [
    "yorum = r^2 değeri 0.97 yani 1 e yakın çıktığı için random forest modelimizin performansı iyidir."
   ]
  }
 ],
 "metadata": {
  "kernelspec": {
   "display_name": "work_env",
   "language": "python",
   "name": "python3"
  },
  "language_info": {
   "codemirror_mode": {
    "name": "ipython",
    "version": 3
   },
   "file_extension": ".py",
   "mimetype": "text/x-python",
   "name": "python",
   "nbconvert_exporter": "python",
   "pygments_lexer": "ipython3",
   "version": "3.10.8"
  },
  "orig_nbformat": 4,
  "vscode": {
   "interpreter": {
    "hash": "73adfbaefb57cf7dea6057cbc0a87b4c5d004c5ae63d897d6e2b880bd7f80cc6"
   }
  }
 },
 "nbformat": 4,
 "nbformat_minor": 2
}
