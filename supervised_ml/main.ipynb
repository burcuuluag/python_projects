{
 "cells": [
  {
   "attachments": {},
   "cell_type": "markdown",
   "metadata": {},
   "source": [
    "Burcu Uluağ\n",
    "\n",
    "2022800104\n",
    "\n",
    "Denetimli Öğrenme Final Sınavı"
   ]
  },
  {
   "attachments": {},
   "cell_type": "markdown",
   "metadata": {},
   "source": [
    "Veri seti link: https://archive.ics.uci.edu/dataset/242/energy+efficiency"
   ]
  },
  {
   "attachments": {},
   "cell_type": "markdown",
   "metadata": {},
   "source": [
    "## Energy efficiency\n",
    "\n",
    "Veri setinin özellikleri:\n",
    "\n",
    "* Relative Compactness (Nispi Kompaktlık): Binanın nispi kompaktlık değeri. \n",
    "\n",
    "* Surface Area (Yüzey Alanı): Binanın yüzey alanı. (m² cinsinden)\n",
    "\n",
    "* Wall Area (Duvar Alanı): Binanın duvar alanı. (m² cinsinden)\n",
    "\n",
    "* Roof Area (Çatı Alanı): Binanın çatı alanı. (m² cinsinden)\n",
    "\n",
    "* Overall Height (Genel Yükseklik): Binanın genel yüksekliği. (m cinsinden)\n",
    "\n",
    "* Orientation (Yön): Binanın yönlendirme değeri. (2, 3, 4, 5 olarak kodlanmış)\n",
    "\n",
    "* Glazing Area (Camlama Alanı): Binanın camlama alanı. (0.0 ile 0.4 arasında bir değer alır)\n",
    "\n",
    "* Glazing Area Distribution (Camlama Alanı Dağılımı): Binanın camlama alanının dağılımı. (0, 1, 2, 3 olarak kodlanmış)\n",
    "\n",
    "* Heating Load (Isıtma Yükü): Binanın ısıtma yükü. (kWh/m² cinsinden)\n",
    "\n",
    "* Cooling Load (Soğutma Yükü): Binanın soğutma yükü. (kWh/m² cinsinden)\n"
   ]
  },
  {
   "cell_type": "code",
   "execution_count": 55,
   "metadata": {},
   "outputs": [],
   "source": [
    "import pandas as pd\n"
   ]
  },
  {
   "cell_type": "code",
   "execution_count": 56,
   "metadata": {},
   "outputs": [
    {
     "name": "stdout",
     "output_type": "stream",
     "text": [
      "   Relative_Compactness  Surface_Area  Wall_Area  Roof_Area  Overall_Height  \\\n",
      "0                  0.98         514.5      294.0     110.25             7.0   \n",
      "1                  0.98         514.5      294.0     110.25             7.0   \n",
      "2                  0.98         514.5      294.0     110.25             7.0   \n",
      "3                  0.98         514.5      294.0     110.25             7.0   \n",
      "4                  0.90         563.5      318.5     122.50             7.0   \n",
      "\n",
      "   Orientation  Glazing_Area  Glazing_Area_Distribution  Heating_Load  \\\n",
      "0            2           0.0                          0         15.55   \n",
      "1            3           0.0                          0         15.55   \n",
      "2            4           0.0                          0         15.55   \n",
      "3            5           0.0                          0         15.55   \n",
      "4            2           0.0                          0         20.84   \n",
      "\n",
      "   Cooling_Load  \n",
      "0         21.33  \n",
      "1         21.33  \n",
      "2         21.33  \n",
      "3         21.33  \n",
      "4         28.28  \n"
     ]
    }
   ],
   "source": [
    "# Veri setinin URL'si\n",
    "url = 'https://archive.ics.uci.edu/ml/machine-learning-databases/00242/ENB2012_data.xlsx'\n",
    "\n",
    "# Veri setini okuma\n",
    "data = pd.read_excel(url)\n",
    "\n",
    "# Sütun isimleri\n",
    "column_names = ['Relative_Compactness', 'Surface_Area', 'Wall_Area', \n",
    "                'Roof_Area', 'Overall_Height', 'Orientation', \n",
    "                'Glazing_Area', 'Glazing_Area_Distribution',\n",
    "                'Heating_Load', 'Cooling_Load']\n",
    "\n",
    "# Sütunlara isimleri ekleme\n",
    "data.columns = column_names\n",
    "\n",
    "# Veri setini görüntüleme\n",
    "print(data.head())\n"
   ]
  },
  {
   "attachments": {},
   "cell_type": "markdown",
   "metadata": {},
   "source": [
    "Energy efficiency veri seti 768 satır, 10 özellikten oluşmaktadır.\n"
   ]
  },
  {
   "cell_type": "code",
   "execution_count": 57,
   "metadata": {},
   "outputs": [
    {
     "data": {
      "text/plain": [
       "(768, 10)"
      ]
     },
     "execution_count": 57,
     "metadata": {},
     "output_type": "execute_result"
    }
   ],
   "source": [
    "data.shape\n"
   ]
  },
  {
   "attachments": {},
   "cell_type": "markdown",
   "metadata": {},
   "source": [
    "Veri setinin bellek kullanımı yaklaşık 60.1 KB'dır. Değişkenlerin veri tipler float64 ve int64'tür. Veri setinizde herhangi bir eksik (non-null) değer bulunmamaktadır,"
   ]
  },
  {
   "cell_type": "code",
   "execution_count": 58,
   "metadata": {},
   "outputs": [
    {
     "name": "stdout",
     "output_type": "stream",
     "text": [
      "<class 'pandas.core.frame.DataFrame'>\n",
      "RangeIndex: 768 entries, 0 to 767\n",
      "Data columns (total 10 columns):\n",
      " #   Column                     Non-Null Count  Dtype  \n",
      "---  ------                     --------------  -----  \n",
      " 0   Relative_Compactness       768 non-null    float64\n",
      " 1   Surface_Area               768 non-null    float64\n",
      " 2   Wall_Area                  768 non-null    float64\n",
      " 3   Roof_Area                  768 non-null    float64\n",
      " 4   Overall_Height             768 non-null    float64\n",
      " 5   Orientation                768 non-null    int64  \n",
      " 6   Glazing_Area               768 non-null    float64\n",
      " 7   Glazing_Area_Distribution  768 non-null    int64  \n",
      " 8   Heating_Load               768 non-null    float64\n",
      " 9   Cooling_Load               768 non-null    float64\n",
      "dtypes: float64(8), int64(2)\n",
      "memory usage: 60.1 KB\n"
     ]
    }
   ],
   "source": [
    "data.info()\n"
   ]
  },
  {
   "attachments": {},
   "cell_type": "markdown",
   "metadata": {},
   "source": [
    "describe() metoduyla her özelliğin sayısını, ortalamasını, standart sapmasını, kartillerini, minimum ve maksimum değerlerini görüp veri setini daha iyi tanıyabiliriz."
   ]
  },
  {
   "cell_type": "code",
   "execution_count": 59,
   "metadata": {},
   "outputs": [
    {
     "data": {
      "text/html": [
       "<div>\n",
       "<style scoped>\n",
       "    .dataframe tbody tr th:only-of-type {\n",
       "        vertical-align: middle;\n",
       "    }\n",
       "\n",
       "    .dataframe tbody tr th {\n",
       "        vertical-align: top;\n",
       "    }\n",
       "\n",
       "    .dataframe thead th {\n",
       "        text-align: right;\n",
       "    }\n",
       "</style>\n",
       "<table border=\"1\" class=\"dataframe\">\n",
       "  <thead>\n",
       "    <tr style=\"text-align: right;\">\n",
       "      <th></th>\n",
       "      <th>Relative_Compactness</th>\n",
       "      <th>Surface_Area</th>\n",
       "      <th>Wall_Area</th>\n",
       "      <th>Roof_Area</th>\n",
       "      <th>Overall_Height</th>\n",
       "      <th>Orientation</th>\n",
       "      <th>Glazing_Area</th>\n",
       "      <th>Glazing_Area_Distribution</th>\n",
       "      <th>Heating_Load</th>\n",
       "      <th>Cooling_Load</th>\n",
       "    </tr>\n",
       "  </thead>\n",
       "  <tbody>\n",
       "    <tr>\n",
       "      <th>count</th>\n",
       "      <td>768.000000</td>\n",
       "      <td>768.000000</td>\n",
       "      <td>768.000000</td>\n",
       "      <td>768.000000</td>\n",
       "      <td>768.00000</td>\n",
       "      <td>768.000000</td>\n",
       "      <td>768.000000</td>\n",
       "      <td>768.00000</td>\n",
       "      <td>768.000000</td>\n",
       "      <td>768.000000</td>\n",
       "    </tr>\n",
       "    <tr>\n",
       "      <th>mean</th>\n",
       "      <td>0.764167</td>\n",
       "      <td>671.708333</td>\n",
       "      <td>318.500000</td>\n",
       "      <td>176.604167</td>\n",
       "      <td>5.25000</td>\n",
       "      <td>3.500000</td>\n",
       "      <td>0.234375</td>\n",
       "      <td>2.81250</td>\n",
       "      <td>22.307195</td>\n",
       "      <td>24.587760</td>\n",
       "    </tr>\n",
       "    <tr>\n",
       "      <th>std</th>\n",
       "      <td>0.105777</td>\n",
       "      <td>88.086116</td>\n",
       "      <td>43.626481</td>\n",
       "      <td>45.165950</td>\n",
       "      <td>1.75114</td>\n",
       "      <td>1.118763</td>\n",
       "      <td>0.133221</td>\n",
       "      <td>1.55096</td>\n",
       "      <td>10.090204</td>\n",
       "      <td>9.513306</td>\n",
       "    </tr>\n",
       "    <tr>\n",
       "      <th>min</th>\n",
       "      <td>0.620000</td>\n",
       "      <td>514.500000</td>\n",
       "      <td>245.000000</td>\n",
       "      <td>110.250000</td>\n",
       "      <td>3.50000</td>\n",
       "      <td>2.000000</td>\n",
       "      <td>0.000000</td>\n",
       "      <td>0.00000</td>\n",
       "      <td>6.010000</td>\n",
       "      <td>10.900000</td>\n",
       "    </tr>\n",
       "    <tr>\n",
       "      <th>25%</th>\n",
       "      <td>0.682500</td>\n",
       "      <td>606.375000</td>\n",
       "      <td>294.000000</td>\n",
       "      <td>140.875000</td>\n",
       "      <td>3.50000</td>\n",
       "      <td>2.750000</td>\n",
       "      <td>0.100000</td>\n",
       "      <td>1.75000</td>\n",
       "      <td>12.992500</td>\n",
       "      <td>15.620000</td>\n",
       "    </tr>\n",
       "    <tr>\n",
       "      <th>50%</th>\n",
       "      <td>0.750000</td>\n",
       "      <td>673.750000</td>\n",
       "      <td>318.500000</td>\n",
       "      <td>183.750000</td>\n",
       "      <td>5.25000</td>\n",
       "      <td>3.500000</td>\n",
       "      <td>0.250000</td>\n",
       "      <td>3.00000</td>\n",
       "      <td>18.950000</td>\n",
       "      <td>22.080000</td>\n",
       "    </tr>\n",
       "    <tr>\n",
       "      <th>75%</th>\n",
       "      <td>0.830000</td>\n",
       "      <td>741.125000</td>\n",
       "      <td>343.000000</td>\n",
       "      <td>220.500000</td>\n",
       "      <td>7.00000</td>\n",
       "      <td>4.250000</td>\n",
       "      <td>0.400000</td>\n",
       "      <td>4.00000</td>\n",
       "      <td>31.667500</td>\n",
       "      <td>33.132500</td>\n",
       "    </tr>\n",
       "    <tr>\n",
       "      <th>max</th>\n",
       "      <td>0.980000</td>\n",
       "      <td>808.500000</td>\n",
       "      <td>416.500000</td>\n",
       "      <td>220.500000</td>\n",
       "      <td>7.00000</td>\n",
       "      <td>5.000000</td>\n",
       "      <td>0.400000</td>\n",
       "      <td>5.00000</td>\n",
       "      <td>43.100000</td>\n",
       "      <td>48.030000</td>\n",
       "    </tr>\n",
       "  </tbody>\n",
       "</table>\n",
       "</div>"
      ],
      "text/plain": [
       "       Relative_Compactness  Surface_Area   Wall_Area   Roof_Area  \\\n",
       "count            768.000000    768.000000  768.000000  768.000000   \n",
       "mean               0.764167    671.708333  318.500000  176.604167   \n",
       "std                0.105777     88.086116   43.626481   45.165950   \n",
       "min                0.620000    514.500000  245.000000  110.250000   \n",
       "25%                0.682500    606.375000  294.000000  140.875000   \n",
       "50%                0.750000    673.750000  318.500000  183.750000   \n",
       "75%                0.830000    741.125000  343.000000  220.500000   \n",
       "max                0.980000    808.500000  416.500000  220.500000   \n",
       "\n",
       "       Overall_Height  Orientation  Glazing_Area  Glazing_Area_Distribution  \\\n",
       "count       768.00000   768.000000    768.000000                  768.00000   \n",
       "mean          5.25000     3.500000      0.234375                    2.81250   \n",
       "std           1.75114     1.118763      0.133221                    1.55096   \n",
       "min           3.50000     2.000000      0.000000                    0.00000   \n",
       "25%           3.50000     2.750000      0.100000                    1.75000   \n",
       "50%           5.25000     3.500000      0.250000                    3.00000   \n",
       "75%           7.00000     4.250000      0.400000                    4.00000   \n",
       "max           7.00000     5.000000      0.400000                    5.00000   \n",
       "\n",
       "       Heating_Load  Cooling_Load  \n",
       "count    768.000000    768.000000  \n",
       "mean      22.307195     24.587760  \n",
       "std       10.090204      9.513306  \n",
       "min        6.010000     10.900000  \n",
       "25%       12.992500     15.620000  \n",
       "50%       18.950000     22.080000  \n",
       "75%       31.667500     33.132500  \n",
       "max       43.100000     48.030000  "
      ]
     },
     "execution_count": 59,
     "metadata": {},
     "output_type": "execute_result"
    }
   ],
   "source": [
    "data.describe()\n"
   ]
  },
  {
   "attachments": {},
   "cell_type": "markdown",
   "metadata": {},
   "source": [
    "Veri setinde hiç eksik değer yoktur."
   ]
  },
  {
   "cell_type": "code",
   "execution_count": 60,
   "metadata": {},
   "outputs": [
    {
     "data": {
      "text/plain": [
       "Relative_Compactness         0\n",
       "Surface_Area                 0\n",
       "Wall_Area                    0\n",
       "Roof_Area                    0\n",
       "Overall_Height               0\n",
       "Orientation                  0\n",
       "Glazing_Area                 0\n",
       "Glazing_Area_Distribution    0\n",
       "Heating_Load                 0\n",
       "Cooling_Load                 0\n",
       "dtype: int64"
      ]
     },
     "execution_count": 60,
     "metadata": {},
     "output_type": "execute_result"
    }
   ],
   "source": [
    "data.isnull().sum()\n"
   ]
  },
  {
   "attachments": {},
   "cell_type": "markdown",
   "metadata": {},
   "source": [
    "## support vector machine"
   ]
  },
  {
   "cell_type": "code",
   "execution_count": 61,
   "metadata": {},
   "outputs": [
    {
     "name": "stdout",
     "output_type": "stream",
     "text": [
      "Support Vector Machine Performans Ölçütleri:\n",
      "MAE: 0.7146399832123361\n",
      "RMSE: 1.1651074459165325\n",
      "Açıklanabilirlik (Explained Variance): 0.9869879787491709\n",
      "MAPE: 0.02974715606735675\n",
      "R-kare (R-squared): 0.9869764560765389\n",
      "En iyi modelin hiperparametreleri: {'C': 10, 'degree': 2, 'kernel': 'rbf'}\n"
     ]
    }
   ],
   "source": [
    "from sklearn.model_selection import train_test_split, GridSearchCV\n",
    "from sklearn.preprocessing import StandardScaler\n",
    "from sklearn.svm import SVR\n",
    "from sklearn.metrics import (mean_absolute_error, mean_squared_error, \n",
    "                             explained_variance_score, mean_absolute_percentage_error, \n",
    "                             r2_score)\n",
    "\n",
    "# Bağımsız ve bağımlı değişkenleri belirleme\n",
    "X = data.drop(\"Heating_Load\", axis=1)\n",
    "y = data[\"Heating_Load\"]\n",
    "\n",
    "# Veriyi test ve eğitim setlerine ayırma\n",
    "X_train, X_test, y_train, y_test = train_test_split(\n",
    "    X, y, test_size=0.2, random_state=42)\n",
    "\n",
    "# standart ölçeklendirme\n",
    "scaler = StandardScaler()\n",
    "X_train_scaled = scaler.fit_transform(X_train)\n",
    "X_test_scaled = scaler.transform(X_test)\n",
    "\n",
    "# SVM modelini oluşturma\n",
    "model = SVR()\n",
    "\n",
    "# Hiperparametrelerin olası değerleri\n",
    "param_grid = {\n",
    "    'C': [0.1, 1, 10],\n",
    "    'kernel': ['linear', 'rbf', 'poly'],\n",
    "    'degree': [2, 3, 4]\n",
    "}\n",
    "\n",
    "# K-fold ile hiperparametre optimizasyonu yapma\n",
    "grid_search = GridSearchCV(model, param_grid, cv=5,\n",
    "                           scoring='neg_mean_squared_error')\n",
    "grid_search.fit(X_train_scaled, y_train)\n",
    "\n",
    "# En iyi modeli seçme\n",
    "best_model = grid_search.best_estimator_\n",
    "\n",
    "# Test seti üzerinde performans ölçütlerini hesaplama\n",
    "y_pred = best_model.predict(X_test_scaled)\n",
    "mae = mean_absolute_error(y_test, y_pred)\n",
    "rmse = mean_squared_error(y_test, y_pred, squared=False)\n",
    "explained_variance = explained_variance_score(y_test, y_pred)\n",
    "mape = mean_absolute_percentage_error(y_test, y_pred)\n",
    "r2 = r2_score(y_test, y_pred)\n",
    "\n",
    "# Performans ölçütlerini ekrana yazdırma\n",
    "print(\"Support Vector Machine Performans Ölçütleri:\")\n",
    "print(\"MAE:\", mae)\n",
    "print(\"RMSE:\", rmse)\n",
    "print(\"Açıklanabilirlik (Explained Variance):\", explained_variance)\n",
    "print(\"MAPE:\", mape)\n",
    "print(\"R-kare (R-squared):\", r2)\n",
    "\n",
    "# En iyi modelin hiperparametrelerini yazdırma\n",
    "print(\"En iyi modelin hiperparametreleri:\", grid_search.best_params_)\n"
   ]
  },
  {
   "attachments": {},
   "cell_type": "markdown",
   "metadata": {},
   "source": [
    "## Decision Tree"
   ]
  },
  {
   "cell_type": "code",
   "execution_count": 62,
   "metadata": {},
   "outputs": [
    {
     "name": "stdout",
     "output_type": "stream",
     "text": [
      "Decision Tree Performans Ölçütleri:\n",
      "MAE: 0.42450649350649367\n",
      "RMSE: 1.0845027467886872\n",
      "Açıklanabilirlik (Explained Variance): 0.988716675552025\n",
      "MAPE: 0.019204758003694727\n",
      "R-kare (R-squared): 0.9887161179915547\n",
      "En iyi modelin hiperparametreleri: {'max_depth': None, 'min_samples_leaf': 1, 'min_samples_split': 2}\n"
     ]
    }
   ],
   "source": [
    "from sklearn.tree import DecisionTreeRegressor\n",
    "\n",
    "# Decision Tree modelini oluşturma\n",
    "model = DecisionTreeRegressor()\n",
    "\n",
    "# Hiperparametrelerin olası değerleri\n",
    "param_grid = {\n",
    "    'max_depth': [None, 5, 10],\n",
    "    'min_samples_split': [2, 5, 10],\n",
    "    'min_samples_leaf': [1, 2, 4]\n",
    "}\n",
    "\n",
    "# K-fold ile hiperparametre optimizasyonu yapma\n",
    "grid_search = GridSearchCV(model, param_grid, cv=5,\n",
    "                           scoring='neg_mean_squared_error')\n",
    "grid_search.fit(X_train, y_train)\n",
    "\n",
    "# En iyi modeli seçme\n",
    "best_model = grid_search.best_estimator_\n",
    "\n",
    "# Test seti üzerinde performans ölçütlerini hesaplama\n",
    "y_pred = best_model.predict(X_test)\n",
    "mae = mean_absolute_error(y_test, y_pred)\n",
    "rmse = mean_squared_error(y_test, y_pred, squared=False)\n",
    "explained_variance = explained_variance_score(y_test, y_pred)\n",
    "mape = mean_absolute_percentage_error(y_test, y_pred)\n",
    "r2 = r2_score(y_test, y_pred)\n",
    "\n",
    "# Performans ölçütlerini ekrana yazdırma\n",
    "print(\"Decision Tree Performans Ölçütleri:\")\n",
    "print(\"MAE:\", mae)\n",
    "print(\"RMSE:\", rmse)\n",
    "print(\"Açıklanabilirlik (Explained Variance):\", explained_variance)\n",
    "print(\"MAPE:\", mape)\n",
    "print(\"R-kare (R-squared):\", r2)\n",
    "\n",
    "# En iyi modelin hiperparametrelerini yazdırma\n",
    "print(\"En iyi modelin hiperparametreleri:\", grid_search.best_params_)\n"
   ]
  },
  {
   "attachments": {},
   "cell_type": "markdown",
   "metadata": {},
   "source": [
    "## Ridge Regresyon"
   ]
  },
  {
   "cell_type": "code",
   "execution_count": 63,
   "metadata": {},
   "outputs": [
    {
     "name": "stdout",
     "output_type": "stream",
     "text": [
      "Ridge Regresyon Performans Ölçütleri:\n",
      "MAE: 1.377171166910949\n",
      "RMSE: 1.9458812606649418\n",
      "Açıklanabilirlik (Explained Variance): 0.9636794941672415\n",
      "MAPE: 0.06260358002243974\n",
      "R-kare (R-squared): 0.9636729697922577\n",
      "En iyi modelin hiperparametreleri: {'alpha': 1, 'solver': 'lsqr'}\n"
     ]
    }
   ],
   "source": [
    "from sklearn.linear_model import Ridge\n",
    "\n",
    "# Ridge Regresyon modelini oluşturma\n",
    "model = Ridge()\n",
    "\n",
    "# Hiperparametrelerin olası değerleri\n",
    "param_grid = {\n",
    "    'alpha': [0.1, 1, 10],\n",
    "    'solver': ['auto', 'svd', 'cholesky', 'lsqr', 'sag', 'saga']\n",
    "}\n",
    "\n",
    "# K-fold ile hiperparametre optimizasyonu yapma\n",
    "grid_search = GridSearchCV(model, param_grid, cv=5,\n",
    "                           scoring='neg_mean_squared_error')\n",
    "grid_search.fit(X_train_scaled, y_train)\n",
    "\n",
    "# En iyi modeli seçme\n",
    "best_model = grid_search.best_estimator_\n",
    "\n",
    "# Test seti üzerinde performans ölçütlerini hesaplama\n",
    "y_pred = best_model.predict(X_test_scaled)\n",
    "mae = mean_absolute_error(y_test, y_pred)\n",
    "rmse = mean_squared_error(y_test, y_pred, squared=False)\n",
    "explained_variance = explained_variance_score(y_test, y_pred)\n",
    "mape = mean_absolute_percentage_error(y_test, y_pred)\n",
    "r2 = r2_score(y_test, y_pred)\n",
    "\n",
    "# Performans ölçütlerini ekrana yazdırma\n",
    "print(\"Ridge Regresyon Performans Ölçütleri:\")\n",
    "print(\"MAE:\", mae)\n",
    "print(\"RMSE:\", rmse)\n",
    "print(\"Açıklanabilirlik (Explained Variance):\", explained_variance)\n",
    "print(\"MAPE:\", mape)\n",
    "print(\"R-kare (R-squared):\", r2)\n",
    "\n",
    "# En iyi modelin hiperparametrelerini yazdırma\n",
    "print(\"En iyi modelin hiperparametreleri:\", grid_search.best_params_)\n"
   ]
  },
  {
   "attachments": {},
   "cell_type": "markdown",
   "metadata": {},
   "source": [
    "## Lasso Regresyon"
   ]
  },
  {
   "cell_type": "code",
   "execution_count": 64,
   "metadata": {},
   "outputs": [
    {
     "name": "stdout",
     "output_type": "stream",
     "text": [
      "Lasso Regresyon Performans Ölçütleri:\n",
      "MAE: 1.5226866404458408\n",
      "RMSE: 2.1079327732563273\n",
      "Açıklanabilirlik (Explained Variance): 0.9575509399618827\n",
      "MAPE: 0.06751664663958612\n",
      "R-kare (R-squared): 0.9573704512139443\n",
      "En iyi modelin hiperparametreleri: {'alpha': 0.1, 'max_iter': 1000}\n"
     ]
    }
   ],
   "source": [
    "from sklearn.linear_model import Lasso\n",
    "\n",
    "# Lasso Regresyon modelini oluşturma\n",
    "model = Lasso()\n",
    "\n",
    "# Hiperparametrelerin olası değerleri\n",
    "param_grid = {\n",
    "    'alpha': [0.1, 1, 10],\n",
    "    'max_iter': [1000, 5000, 10000]\n",
    "}\n",
    "\n",
    "# K-fold ile hiperparametre optimizasyonu yapma\n",
    "grid_search = GridSearchCV(model, param_grid, cv=5,\n",
    "                           scoring='neg_mean_squared_error')\n",
    "grid_search.fit(X_train, y_train)\n",
    "\n",
    "# En iyi modeli seçme\n",
    "best_model = grid_search.best_estimator_\n",
    "\n",
    "# Test seti üzerinde performans ölçütlerini hesaplama\n",
    "y_pred = best_model.predict(X_test)\n",
    "mae = mean_absolute_error(y_test, y_pred)\n",
    "rmse = mean_squared_error(y_test, y_pred, squared=False)\n",
    "explained_variance = explained_variance_score(y_test, y_pred)\n",
    "mape = mean_absolute_percentage_error(y_test, y_pred)\n",
    "r2 = r2_score(y_test, y_pred)\n",
    "\n",
    "# Performans ölçütlerini ekrana yazdırma\n",
    "print(\"Lasso Regresyon Performans Ölçütleri:\")\n",
    "print(\"MAE:\", mae)\n",
    "print(\"RMSE:\", rmse)\n",
    "print(\"Açıklanabilirlik (Explained Variance):\", explained_variance)\n",
    "print(\"MAPE:\", mape)\n",
    "print(\"R-kare (R-squared):\", r2)\n",
    "\n",
    "# En iyi modelin hiperparametrelerini yazdırma\n",
    "print(\"En iyi modelin hiperparametreleri:\", grid_search.best_params_)\n"
   ]
  },
  {
   "attachments": {},
   "cell_type": "markdown",
   "metadata": {},
   "source": [
    "## Elastic Net"
   ]
  },
  {
   "cell_type": "code",
   "execution_count": 65,
   "metadata": {},
   "outputs": [
    {
     "name": "stdout",
     "output_type": "stream",
     "text": [
      "Elastik Net Performans Ölçütleri:\n",
      "MAE: 1.5232259979815517\n",
      "RMSE: 2.100419072553016\n",
      "Açıklanabilirlik (Explained Variance): 0.9578392482484113\n",
      "MAPE: 0.0674743425534187\n",
      "R-kare (R-squared): 0.9576738145962311\n",
      "En iyi modelin hiperparametreleri: {'alpha': 0.1, 'l1_ratio': 0.1, 'max_iter': 1000}\n"
     ]
    }
   ],
   "source": [
    "from sklearn.linear_model import ElasticNet\n",
    "\n",
    "# ElasticNet Regresyon modelini oluşturma\n",
    "model = ElasticNet()\n",
    "\n",
    "# Hiperparametrelerin olası değerleri\n",
    "param_grid = {\n",
    "    'alpha': [0.1, 1, 10],\n",
    "    'l1_ratio': [0.1, 0.5, 0.9],\n",
    "    'max_iter': [1000, 5000, 10000]\n",
    "}\n",
    "\n",
    "# K-fold ile hiperparametre optimizasyonu yapma\n",
    "grid_search = GridSearchCV(model, param_grid, cv=5,\n",
    "                           scoring='neg_mean_squared_error')\n",
    "grid_search.fit(X_train, y_train)\n",
    "\n",
    "# En iyi modeli seçme\n",
    "best_model = grid_search.best_estimator_\n",
    "\n",
    "# Test seti üzerinde performans ölçütlerini hesaplama\n",
    "y_pred = best_model.predict(X_test)\n",
    "mae = mean_absolute_error(y_test, y_pred)\n",
    "rmse = mean_squared_error(y_test, y_pred, squared=False)\n",
    "explained_variance = explained_variance_score(y_test, y_pred)\n",
    "r2 = r2_score(y_test, y_pred)\n",
    "mape = mean_absolute_percentage_error(y_test, y_pred)\n",
    "\n",
    "# Performans ölçütlerini ekrana yazdırma\n",
    "print(\"Elastik Net Performans Ölçütleri:\")\n",
    "print(\"MAE:\", mae)\n",
    "print(\"RMSE:\", rmse)\n",
    "print(\"Açıklanabilirlik (Explained Variance):\", explained_variance)\n",
    "print(\"MAPE:\", mape)\n",
    "print(\"R-kare (R-squared):\", r2)\n",
    "\n",
    "# En iyi modelin hiperparametrelerini yazdırma\n",
    "print(\"En iyi modelin hiperparametreleri:\", grid_search.best_params_)\n"
   ]
  },
  {
   "attachments": {},
   "cell_type": "markdown",
   "metadata": {},
   "source": [
    "## Polynomial Regresyon"
   ]
  },
  {
   "cell_type": "code",
   "execution_count": 68,
   "metadata": {},
   "outputs": [
    {
     "name": "stdout",
     "output_type": "stream",
     "text": [
      "Polynomial Regresyon Performans Ölçütleri:\n",
      "MAE: 0.5367398417121801\n",
      "RMSE: 0.7341183493766745\n",
      "Açıklanabilirlik (Explained Variance): 0.9948296238009262\n",
      "MAPE: 2.7380765069600685\n",
      "R-kare (R-squared): 0.9948295376207383\n",
      "En iyi modelin hiperparametreleri: {'fit_intercept': False}\n"
     ]
    }
   ],
   "source": [
    "from sklearn.preprocessing import PolynomialFeatures\n",
    "from sklearn.linear_model import LinearRegression\n",
    "import numpy as np\n",
    "\n",
    "# Polynomial özelliklerini ekleyerek veriyi dönüştürme\n",
    "poly_transform = PolynomialFeatures(degree=2)\n",
    "X_poly = poly_transform.fit_transform(X_train)\n",
    "\n",
    "# Polynomial Regresyon modelini oluşturma\n",
    "model = LinearRegression()\n",
    "\n",
    "# Hiperparametrelerin olası değerleri\n",
    "param_grid = {\n",
    "    'fit_intercept': [True, False]\n",
    "}\n",
    "\n",
    "# K-fold ile hiperparametre optimizasyonu yapma\n",
    "grid_search = GridSearchCV(model, param_grid, cv=5,\n",
    "                           scoring='neg_mean_squared_error')\n",
    "grid_search.fit(X_poly, y_train)\n",
    "\n",
    "# En iyi modeli seçme\n",
    "best_model = grid_search.best_estimator_\n",
    "\n",
    "# Test setini polynomial özelliklerini ekleyerek dönüştürme\n",
    "X_test_poly = poly_transform.transform(X_test)\n",
    "\n",
    "# Test seti üzerinde performans ölçütlerini hesaplama\n",
    "y_pred = best_model.predict(X_test_poly)\n",
    "mae = mean_absolute_error(y_test, y_pred)\n",
    "rmse = mean_squared_error(y_test, y_pred, squared=False)\n",
    "explained_variance = explained_variance_score(y_test, y_pred)\n",
    "mape = np.mean(np.abs((y_test - y_pred) / y_test)) * 100\n",
    "r2 = r2_score(y_test, y_pred)\n",
    "\n",
    "# Performans ölçütlerini ekrana yazdırma\n",
    "print(\"Polynomial Regresyon Performans Ölçütleri:\")\n",
    "print(\"MAE:\", mae)\n",
    "print(\"RMSE:\", rmse)\n",
    "print(\"Açıklanabilirlik (Explained Variance):\", explained_variance)\n",
    "print(\"MAPE:\", mape)\n",
    "print(\"R-kare (R-squared):\", r2)\n",
    "\n",
    "# En iyi modelin hiperparametrelerini yazdırma\n",
    "print(\"En iyi modelin hiperparametreleri:\", grid_search.best_params_)\n"
   ]
  }
 ],
 "metadata": {
  "kernelspec": {
   "display_name": "work_env",
   "language": "python",
   "name": "python3"
  },
  "language_info": {
   "codemirror_mode": {
    "name": "ipython",
    "version": 3
   },
   "file_extension": ".py",
   "mimetype": "text/x-python",
   "name": "python",
   "nbconvert_exporter": "python",
   "pygments_lexer": "ipython3",
   "version": "3.10.8"
  },
  "orig_nbformat": 4
 },
 "nbformat": 4,
 "nbformat_minor": 2
}
