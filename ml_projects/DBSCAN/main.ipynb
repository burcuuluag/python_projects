{
 "cells": [
  {
   "cell_type": "code",
   "execution_count": 2,
   "metadata": {},
   "outputs": [],
   "source": [
    "import pandas as pd\n",
    "import numpy as np\n",
    "from sklearn.cluster import DBSCAN\n",
    "import matplotlib.pyplot as plt"
   ]
  },
  {
   "cell_type": "code",
   "execution_count": 8,
   "metadata": {},
   "outputs": [
    {
     "name": "stdout",
     "output_type": "stream",
     "text": [
      "    eps  min_samples  n_clusters cluster_sizes\n",
      "0   0.5            5           1           440\n",
      "1   0.5           10           1           440\n",
      "2   0.5           15           1           440\n",
      "3   0.5           20           1           440\n",
      "4   0.5           25           1           440\n",
      "5   1.0            5           1           440\n",
      "6   1.0           10           1           440\n",
      "7   1.0           15           1           440\n",
      "8   1.0           20           1           440\n",
      "9   1.0           25           1           440\n",
      "10  1.5            5           1           440\n",
      "11  1.5           10           1           440\n",
      "12  1.5           15           1           440\n",
      "13  1.5           20           1           440\n",
      "14  1.5           25           1           440\n",
      "15  2.0            5           1           440\n",
      "16  2.0           10           1           440\n",
      "17  2.0           15           1           440\n",
      "18  2.0           20           1           440\n",
      "19  2.0           25           1           440\n",
      "20  2.5            5           1           440\n",
      "21  2.5           10           1           440\n",
      "22  2.5           15           1           440\n",
      "23  2.5           20           1           440\n",
      "24  2.5           25           1           440\n"
     ]
    }
   ],
   "source": [
    "data = pd.read_csv(\n",
    "    'https://archive.ics.uci.edu/ml/machine-learning-databases/00292/Wholesale%20customers%20data.csv')\n",
    "\n",
    "eps_values = [0.5, 1, 1.5, 2, 2.5]\n",
    "min_samples_values = [5, 10, 15, 20, 25]\n",
    "\n",
    "results_list = []\n",
    "\n",
    "for eps in eps_values:\n",
    "    for min_samples in min_samples_values:\n",
    "        dbscan = DBSCAN(eps=eps, min_samples=min_samples)\n",
    "        clusters = dbscan.fit_predict(data)\n",
    "\n",
    "        unique_clusters, counts_clusters = np.unique(\n",
    "            clusters, return_counts=True)\n",
    "        n_clusters = len(unique_clusters)\n",
    "        cluster_sizes = \", \".join([str(count) for count in counts_clusters])\n",
    "\n",
    "        results_list.append({\n",
    "            'eps': eps,\n",
    "            'min_samples': min_samples,\n",
    "            'n_clusters': n_clusters,\n",
    "            'cluster_sizes': cluster_sizes\n",
    "        })\n",
    "\n",
    "results = pd.DataFrame(results_list)\n",
    "print(results)\n"
   ]
  },
  {
   "attachments": {},
   "cell_type": "markdown",
   "metadata": {},
   "source": [
    "bu sonuçlara göre anlamlı bir kümeleme olmamıştır. Tüm parametre kombinasyonları için yalnızca bir küme oluşmuştur ve her kümenin boyutu 440'dır."
   ]
  },
  {
   "cell_type": "code",
   "execution_count": 5,
   "metadata": {},
   "outputs": [
    {
     "name": "stdout",
     "output_type": "stream",
     "text": [
      "    eps  min_samples  n_clusters cluster_sizes\n",
      "0   0.5            5           1           440\n",
      "1   0.5           10           1           440\n",
      "2   0.5           15           1           440\n",
      "3   0.5           20           1           440\n",
      "4   0.5           25           1           440\n",
      "5   1.0            5           1           440\n",
      "6   1.0           10           1           440\n",
      "7   1.0           15           1           440\n",
      "8   1.0           20           1           440\n",
      "9   1.0           25           1           440\n",
      "10  1.5            5           1           440\n",
      "11  1.5           10           1           440\n",
      "12  1.5           15           1           440\n",
      "13  1.5           20           1           440\n",
      "14  1.5           25           1           440\n",
      "15  2.0            5           1           440\n",
      "16  2.0           10           1           440\n",
      "17  2.0           15           1           440\n",
      "18  2.0           20           1           440\n",
      "19  2.0           25           1           440\n",
      "20  2.5            5           1           440\n",
      "21  2.5           10           1           440\n",
      "22  2.5           15           1           440\n",
      "23  2.5           20           1           440\n",
      "24  2.5           25           1           440\n"
     ]
    }
   ],
   "source": [
    "data = pd.read_csv(\n",
    "    'https://archive.ics.uci.edu/ml/machine-learning-databases/00292/Wholesale%20customers%20data.csv')\n",
    "\n",
    "eps_values = [0.5, 1, 1.5, 2, 2.5]\n",
    "min_samples_values = [5, 10, 15, 20, 25]\n",
    "\n",
    "results_list = []\n",
    "\n",
    "for eps in eps_values:\n",
    "    for min_samples in min_samples_values:\n",
    "        dbscan = DBSCAN(eps=eps, min_samples=min_samples)\n",
    "        clusters = dbscan.fit_predict(data)\n",
    "\n",
    "        unique_clusters, counts_clusters = np.unique(\n",
    "            clusters, return_counts=True)\n",
    "        n_clusters = len(unique_clusters)\n",
    "        cluster_sizes = \", \".join([str(count) for count in counts_clusters])\n",
    "\n",
    "        results_list.append({\n",
    "            'eps': eps,\n",
    "            'min_samples': min_samples,\n",
    "            'n_clusters': n_clusters,\n",
    "            'cluster_sizes': cluster_sizes\n",
    "        })\n",
    "\n",
    "results = pd.DataFrame(results_list)\n",
    "print(results)\n"
   ]
  },
  {
   "attachments": {},
   "cell_type": "markdown",
   "metadata": {},
   "source": [
    "Bu sonuçlara göre de farklı epsilon ve min samples değerleri seçilmiş olmasına rağmen benzer sonuç çıkmıştırç kümeleme boyutu 440 olmuştur."
   ]
  }
 ],
 "metadata": {
  "kernelspec": {
   "display_name": "work_env",
   "language": "python",
   "name": "python3"
  },
  "language_info": {
   "codemirror_mode": {
    "name": "ipython",
    "version": 3
   },
   "file_extension": ".py",
   "mimetype": "text/x-python",
   "name": "python",
   "nbconvert_exporter": "python",
   "pygments_lexer": "ipython3",
   "version": "3.10.8"
  },
  "orig_nbformat": 4
 },
 "nbformat": 4,
 "nbformat_minor": 2
}
