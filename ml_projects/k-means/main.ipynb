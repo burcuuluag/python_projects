{
 "cells": [
  {
   "attachments": {},
   "cell_type": "markdown",
   "metadata": {},
   "source": [
    "K-means, denetimsiz öğrenme algoritmasıdır ve verileri belirli sayıda küme halinde kümelemek için kullanılır."
   ]
  },
  {
   "attachments": {},
   "cell_type": "markdown",
   "metadata": {},
   "source": [
    "Iris veri seti, 4 özellikten (çanak yaprağı uzunluğu, çanak yaprağı genişliği, taç yaprağı uzunluğu, taç yaprağı genişliği) oluşur ve 3 sınıf (Iris Setosa, Iris Versicolor, Iris Virginica) içerir."
   ]
  },
  {
   "cell_type": "code",
   "execution_count": 1,
   "metadata": {},
   "outputs": [],
   "source": [
    "from sklearn.datasets import load_iris\n",
    "from sklearn.preprocessing import StandardScaler\n",
    "from sklearn.cluster import KMeans\n",
    "from sklearn.metrics import silhouette_score\n",
    "import pandas as pd\n",
    "\n",
    "iris = load_iris()\n",
    "X = iris.data\n",
    "\n",
    "scaler = StandardScaler()\n",
    "X = scaler.fit_transform(X)"
   ]
  },
  {
   "cell_type": "code",
   "execution_count": 5,
   "metadata": {},
   "outputs": [
    {
     "name": "stdout",
     "output_type": "stream",
     "text": [
      "Üç küme için siluet puanı: 0.45994823920518635\n"
     ]
    }
   ],
   "source": [
    "kmeans = KMeans(n_clusters=3, n_init=10, random_state=42)\n",
    "y_kmeans = kmeans.fit_predict(X)\n",
    "\n",
    "silhouette_avg = silhouette_score(X, y_kmeans)\n",
    "print(\"Üç küme için siluet puanı:\", silhouette_avg)\n"
   ]
  },
  {
   "cell_type": "code",
   "execution_count": 7,
   "metadata": {},
   "outputs": [
    {
     "name": "stdout",
     "output_type": "stream",
     "text": [
      "   Küme Sayısı  Siluet Puanı\n",
      "0            2      0.581750\n",
      "1            3      0.459948\n",
      "2            4      0.386941\n",
      "3            5      0.341947\n",
      "4            6      0.326745\n",
      "5            7      0.324136\n",
      "6            8      0.332874\n",
      "7            9      0.356163\n",
      "8           10      0.359956\n"
     ]
    }
   ],
   "source": [
    "silhouette_scores = []\n",
    "for n_clusters in range(2, 11):\n",
    "    kmeans = KMeans(n_clusters=n_clusters, n_init=10, random_state=42)\n",
    "    y_kmeans = kmeans.fit_predict(X)\n",
    "    silhouette_avg = silhouette_score(X, y_kmeans)\n",
    "    silhouette_scores.append(silhouette_avg)\n",
    "\n",
    "results = pd.DataFrame({'Küme Sayısı': range(\n",
    "    2, 11), 'Siluet Puanı': silhouette_scores})\n",
    "print(results)\n"
   ]
  },
  {
   "attachments": {},
   "cell_type": "markdown",
   "metadata": {},
   "source": [
    "Silüet puanı 1 e yaklaştıkça daha iyi performans gösterir. Bu sonuçlara göre, en yüksek siluet puanı iki küme için elde edilirken, üç küme için biraz daha düşüktür. Küme sayısı arttıkça, siluet puanı azalmaya başlar ve altı kümeden sonra neredeyse sabit kalır. bu sonuçlar, küme sayısının arttıkça K-means algoritmasının performansının düştüğünü göstermektedir.\n",
    "\n",
    "Küme sayısının artması, her kümenin daha küçük olacağı anlamına gelir. Bu nedenle, kümeleme performansı genellikle küme sayısı arttıkça azalır."
   ]
  }
 ],
 "metadata": {
  "kernelspec": {
   "display_name": "work_env",
   "language": "python",
   "name": "python3"
  },
  "language_info": {
   "codemirror_mode": {
    "name": "ipython",
    "version": 3
   },
   "file_extension": ".py",
   "mimetype": "text/x-python",
   "name": "python",
   "nbconvert_exporter": "python",
   "pygments_lexer": "ipython3",
   "version": "3.10.8"
  },
  "orig_nbformat": 4
 },
 "nbformat": 4,
 "nbformat_minor": 2
}
