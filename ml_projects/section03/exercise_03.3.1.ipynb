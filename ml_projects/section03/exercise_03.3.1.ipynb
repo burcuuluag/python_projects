{
 "cells": [
  {
   "cell_type": "code",
   "execution_count": 4,
   "metadata": {},
   "outputs": [],
   "source": [
    "import numpy as np\n",
    "import time"
   ]
  },
  {
   "attachments": {},
   "cell_type": "markdown",
   "metadata": {},
   "source": [
    "Veri setleri oluşturulmuştur."
   ]
  },
  {
   "cell_type": "code",
   "execution_count": 5,
   "metadata": {},
   "outputs": [
    {
     "name": "stdout",
     "output_type": "stream",
     "text": [
      "X: \n",
      "[[ 1  5  9]\n",
      " [ 2  6 10]\n",
      " [ 3  7 11]\n",
      " [ 4  8 12]]\n",
      "Y: \n",
      "[[ 11  15  -9]\n",
      " [  2  -6   1]\n",
      " [ 13   7 -11]\n",
      " [  4  18  12]]\n"
     ]
    }
   ],
   "source": [
    "X = np.array([[1,5,9],[2,6,10],[3,7,11],[4,8,12]])\n",
    "Y = np.array([[11,15,-9],[2,-6,1],[13,7,-11],[4,18,12]])\n",
    "print(\"X: \\n{}\".format(X))\n",
    "print(\"Y: \\n{}\".format(Y))"
   ]
  },
  {
   "attachments": {},
   "cell_type": "markdown",
   "metadata": {},
   "source": [
    "(a) \n",
    "Her veri kümesinin ortalamasını hesaplanmıştır\n",
    "X veri kümesinin ortalaması alınmıştır"
   ]
  },
  {
   "cell_type": "code",
   "execution_count": 6,
   "metadata": {},
   "outputs": [
    {
     "name": "stdout",
     "output_type": "stream",
     "text": [
      "Xmean: \n",
      "[[5.]\n",
      " [6.]\n",
      " [7.]\n",
      " [8.]]\n"
     ]
    }
   ],
   "source": [
    "# mean of dataset X\n",
    "Xmean = np.mean(X,axis=1,keepdims=True)\n",
    "print(\"Xmean: \\n{}\".format(Xmean))"
   ]
  },
  {
   "attachments": {},
   "cell_type": "markdown",
   "metadata": {},
   "source": [
    "Y veri kümesinin ortalaması alınmıştır."
   ]
  },
  {
   "cell_type": "code",
   "execution_count": 7,
   "metadata": {},
   "outputs": [
    {
     "name": "stdout",
     "output_type": "stream",
     "text": [
      "Ymean: \n",
      "[[ 5.66666667]\n",
      " [-1.        ]\n",
      " [ 3.        ]\n",
      " [11.33333333]]\n"
     ]
    }
   ],
   "source": [
    "# mean of dataset Y\n",
    "Ymean = np.mean(Y,axis=1,keepdims=True)\n",
    "print(\"Ymean: \\n{}\".format(Ymean))"
   ]
  },
  {
   "attachments": {},
   "cell_type": "markdown",
   "metadata": {},
   "source": [
    "Küme ortalamaları arasındaki mesafe hesaplanmıştır."
   ]
  },
  {
   "cell_type": "code",
   "execution_count": 8,
   "metadata": {},
   "outputs": [
    {
     "name": "stdout",
     "output_type": "stream",
     "text": [
      "distance: [[8.74960317]]\n"
     ]
    }
   ],
   "source": [
    "distance = np.sqrt(np.sum(np.square(Xmean-Ymean),axis=0,keepdims=True))\n",
    "print(\"distance: {}\".format(distance))"
   ]
  }
 ],
 "metadata": {
  "kernelspec": {
   "display_name": "work_env",
   "language": "python",
   "name": "python3"
  },
  "language_info": {
   "codemirror_mode": {
    "name": "ipython",
    "version": 3
   },
   "file_extension": ".py",
   "mimetype": "text/x-python",
   "name": "python",
   "nbconvert_exporter": "python",
   "pygments_lexer": "ipython3",
   "version": "3.10.8"
  },
  "orig_nbformat": 4
 },
 "nbformat": 4,
 "nbformat_minor": 2
}
