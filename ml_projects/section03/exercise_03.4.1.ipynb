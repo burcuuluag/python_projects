{
 "cells": [
  {
   "cell_type": "code",
   "execution_count": 1,
   "metadata": {},
   "outputs": [],
   "source": [
    "import numpy as np"
   ]
  },
  {
   "cell_type": "code",
   "execution_count": 2,
   "metadata": {},
   "outputs": [
    {
     "data": {
      "text/plain": [
       "array([[ 11,  15,  -9],\n",
       "       [  2,  -6,   1],\n",
       "       [ 13,   7, -11],\n",
       "       [  4,  18,  12]])"
      ]
     },
     "execution_count": 2,
     "metadata": {},
     "output_type": "execute_result"
    }
   ],
   "source": [
    "X = np.array([[11,15,-9],[2,-6,1],[13,7,-11],[4,18,12]])\n",
    "X"
   ]
  },
  {
   "attachments": {},
   "cell_type": "markdown",
   "metadata": {},
   "source": [
    "bir matrisin tam SVD'sini (singular value decomposition) hesaplar. Matris, X olarak tanımlanır ve full_matrices=False parametresi kullanılarak kısaltılmış SVD hesaplanır.\n",
    "\n",
    "U, Sigma ve Vt olarak adlandırılan üç matris SVD'nin sonuçlarını temsil eder. U, orijinal matrisin satırlarının temel bileşenlerini içeren bir dik matrisdir. Sigma, matrisin singular değerlerinin sıralı bir vektörüdür. Vt, orijinal matrisin sütunlarının temel bileşenlerini içeren bir dik matristir.\n",
    "\n",
    "diff, X matrisi ile SVD sonucu elde edilen matrislerin çarpımı arasındaki farkı hesaplar. "
   ]
  },
  {
   "cell_type": "code",
   "execution_count": 3,
   "metadata": {},
   "outputs": [
    {
     "name": "stdout",
     "output_type": "stream",
     "text": [
      "U: \n",
      "[[-0.68901721 -0.22432441 -0.32008061]\n",
      " [ 0.13596717 -0.11254067  0.82112222]\n",
      " [-0.51954264 -0.50533112  0.39152793]\n",
      " [-0.48666586  0.82562317  0.26459892]]\n",
      "Sigma: [29.14354811 20.29457214  5.45746692]\n",
      "V transpose: \n",
      "[[-0.54928016 -0.80799514  0.21315527]\n",
      " [-0.29364806  0.4254476   0.85601703]\n",
      " [ 0.78234399 -0.40760054  0.47095613]]\n"
     ]
    }
   ],
   "source": [
    "U,Sigma,Vt = np.linalg.svd(X,full_matrices=False)\n",
    "print(\"U: \\n{}\".format(U))\n",
    "print(\"Sigma: {}\".format(Sigma))\n",
    "print(\"V transpose: \\n{}\".format(Vt))"
   ]
  },
  {
   "attachments": {},
   "cell_type": "markdown",
   "metadata": {},
   "source": [
    "bir matrisin SVD işlemini gerçekleştiriyor ve çıktı olarak U, Sigma ve Vt matrislerini veriyor. Daha sonra, U matrisinin bazı özelliklerini kontrol ediyor. U matrisinin sütunları birbirinden bağımsız ve birbirine dik olmalıdır, bu nedenle bu özellikleri kontrol ediyoruz. U matrisinin sütunlarının L2 normunu hesaplayarak sütunların uzunluğunu kontrol ediyoruz. Daha sonra, sütunlar arasındaki nokta çarpımlarını hesaplayarak sütunların birbirine dik olup olmadığını kontrol ediyoruz."
   ]
  },
  {
   "cell_type": "code",
   "execution_count": 4,
   "metadata": {},
   "outputs": [
    {
     "data": {
      "text/plain": [
       "array([[ 2.30926389e-14, -1.77635684e-15,  5.32907052e-15],\n",
       "       [ 7.10542736e-15, -6.21724894e-15,  4.77395901e-15],\n",
       "       [ 4.26325641e-14, -1.24344979e-14,  1.24344979e-14],\n",
       "       [-5.24025268e-14,  3.55271368e-14, -2.13162821e-14]])"
      ]
     },
     "execution_count": 4,
     "metadata": {},
     "output_type": "execute_result"
    }
   ],
   "source": [
    "# check\n",
    "diff = X - np.matmul(U,np.matmul(np.diag(Sigma),Vt))\n",
    "diff"
   ]
  },
  {
   "cell_type": "code",
   "execution_count": 5,
   "metadata": {},
   "outputs": [],
   "source": [
    "def lengthl2(X):\n",
    "    # compute l2 length of X\n",
    "    return np.sqrt(np.sum(np.square(X),axis=0))"
   ]
  },
  {
   "cell_type": "code",
   "execution_count": 6,
   "metadata": {},
   "outputs": [
    {
     "name": "stdout",
     "output_type": "stream",
     "text": [
      "L2 Length U0: 0.9999999999999998\n",
      "L2 length U1: 0.9999999999999996\n",
      "L2 length U2: 0.9999999999999999\n"
     ]
    }
   ],
   "source": [
    "# check lengths\n",
    "print(\"L2 Length U0: {}\".format(lengthl2(U[:,0])))\n",
    "print(\"L2 length U1: {}\".format(lengthl2(U[:,1])))\n",
    "print(\"L2 length U2: {}\".format(lengthl2(U[:,2])))"
   ]
  },
  {
   "cell_type": "code",
   "execution_count": 7,
   "metadata": {},
   "outputs": [
    {
     "name": "stdout",
     "output_type": "stream",
     "text": [
      "U0.T dot U1: 5.551115123125783e-17\n",
      "U0.T dot U2: 3.122502256758253e-17\n",
      "U1.T dot U2: 0.0\n"
     ]
    }
   ],
   "source": [
    "# check dot products:\n",
    "print(\"U0.T dot U1: {}\".format(np.dot(U[:,0].T,U[:,1])))\n",
    "print(\"U0.T dot U2: {}\".format(np.dot(U[:,0].T,U[:,2])))\n",
    "print(\"U1.T dot U2: {}\".format(np.dot(U[:,1].T,U[:,2])))"
   ]
  },
  {
   "cell_type": "code",
   "execution_count": 8,
   "metadata": {},
   "outputs": [
    {
     "name": "stdout",
     "output_type": "stream",
     "text": [
      "L2 Length V0: 0.9999999999999999\n",
      "L2 length V1: 0.9999999999999999\n",
      "L2 length V2: 1.0\n"
     ]
    }
   ],
   "source": [
    "V = Vt.T\n",
    "# check lengths\n",
    "print(\"L2 Length V0: {}\".format(lengthl2(V[:,0])))\n",
    "print(\"L2 length V1: {}\".format(lengthl2(V[:,1])))\n",
    "print(\"L2 length V2: {}\".format(lengthl2(V[:,2])))"
   ]
  },
  {
   "cell_type": "code",
   "execution_count": 9,
   "metadata": {},
   "outputs": [
    {
     "name": "stdout",
     "output_type": "stream",
     "text": [
      "V0.T dot V1: -1.0293120698731393e-16\n",
      "V0.T dot V2: 2.437230818347938e-16\n",
      "V1.T dot V2: 4.405452741293694e-17\n"
     ]
    }
   ],
   "source": [
    "# check dot products:\n",
    "print(\"V0.T dot V1: {}\".format(np.dot(V[:,0].T,V[:,1])))\n",
    "print(\"V0.T dot V2: {}\".format(np.dot(V[:,0].T,V[:,2])))\n",
    "print(\"V1.T dot V2: {}\".format(np.dot(V[:,1].T,V[:,2])))"
   ]
  }
 ],
 "metadata": {
  "kernelspec": {
   "display_name": "work_env",
   "language": "python",
   "name": "python3"
  },
  "language_info": {
   "codemirror_mode": {
    "name": "ipython",
    "version": 3
   },
   "file_extension": ".py",
   "mimetype": "text/x-python",
   "name": "python",
   "nbconvert_exporter": "python",
   "pygments_lexer": "ipython3",
   "version": "3.10.8"
  },
  "orig_nbformat": 4
 },
 "nbformat": 4,
 "nbformat_minor": 2
}
