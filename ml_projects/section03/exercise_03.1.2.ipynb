{
 "cells": [
  {
   "cell_type": "code",
   "execution_count": 1,
   "metadata": {},
   "outputs": [],
   "source": [
    "%matplotlib inline\n",
    "import matplotlib.pyplot as plt\n",
    "import numpy as np\n",
    "from sklearn.feature_extraction.text import CountVectorizer\n",
    "from sklearn.feature_extraction.text import TfidfVectorizer\n",
    "from wordcloud import WordCloud"
   ]
  },
  {
   "attachments": {},
   "cell_type": "markdown",
   "metadata": {},
   "source": [
    "list message listesi tanımlanmıştır. "
   ]
  },
  {
   "cell_type": "code",
   "execution_count": 2,
   "metadata": {},
   "outputs": [],
   "source": [
    "#dataset\n",
    "list_message = [\"A bird in the hand is worth two in the bush\", \"The early bird gets the worm\", \"Time is money\",\n",
    "               \"Honesty is the best policy\"]\n"
   ]
  },
  {
   "attachments": {},
   "cell_type": "markdown",
   "metadata": {},
   "source": [
    "Aşağıdaki kod metin belgeleri üzerinde kelime sayımı yapmaktadır ve sonucu matriste göstermektedir.\n",
    "\n",
    "**CountVectorizer** metin verilerinden özellik matrisleri oluşturmak için kullanılan bir sınıftır. Verilen metin belgelerinden her bir kelimenin frekansını sayar ve her kelimeyi bir özellik olarak ele alarak bir özellik matrisi oluşturur. Bu özellik matrisi, makine öğrenimi algoritmalarında kullanılabilecek sayısal bir formattadır. Özellikle, doğrusal olmayan modellerle kullanılmak üzere tasarlanmıştır.\n",
    "\n",
    "**max_features** 100 olarak ayarlanmıştır bu parametre en fazla kaç kelimenin alınacağını belirtmektedir.\n",
    "\n",
    "**fit_transform()** yöntemi kullanılarak, verilen belgeler üzerinde kelime sayımları yapılmaktadır.\n",
    "\n",
    "**toarray()** fonksiyonu ile oluşturulan matris numpy array'ine \n",
    "dönüştürülür.\n",
    "\n",
    "**get_feature_names_out()** fonksiyonu özelliklerin sıralı bir listesini döndürür."
   ]
  },
  {
   "cell_type": "code",
   "execution_count": 3,
   "metadata": {},
   "outputs": [
    {
     "name": "stdout",
     "output_type": "stream",
     "text": [
      "X: \n",
      "[[0 0 0 1]\n",
      " [1 1 0 0]\n",
      " [1 0 0 0]\n",
      " [0 1 0 0]\n",
      " [0 1 0 0]\n",
      " [1 0 0 0]\n",
      " [0 0 0 1]\n",
      " [2 0 0 0]\n",
      " [1 0 1 1]\n",
      " [0 0 1 0]\n",
      " [0 0 0 1]\n",
      " [2 2 0 1]\n",
      " [0 0 1 0]\n",
      " [1 0 0 0]\n",
      " [0 1 0 0]\n",
      " [1 0 0 0]]\n",
      "Words: ['best' 'bird' 'bush' 'early' 'gets' 'hand' 'honesty' 'in' 'is' 'money'\n",
      " 'policy' 'the' 'time' 'two' 'worm' 'worth']\n"
     ]
    }
   ],
   "source": [
    "from sklearn.feature_extraction.text import CountVectorizer\n",
    "import numpy as np\n",
    "\n",
    "# create instance of count vectorizer\n",
    "vectorizer = CountVectorizer(max_features=100)\n",
    "# perform word counts\n",
    "Xfit = vectorizer.fit_transform(list_message)\n",
    "# generate feature matrix (transform so sample axis is in column direction)\n",
    "X = Xfit.toarray().T\n",
    "print(\"X: \\n{}\".format(X))\n",
    "# list words in vocabulary (turn into numpy array)\n",
    "words = np.array(vectorizer.get_feature_names_out())\n",
    "print(\"Words: {}\".format(words))\n"
   ]
  },
  {
   "attachments": {},
   "cell_type": "markdown",
   "metadata": {},
   "source": [
    "Aşağıdaki kodda Tf-Idf özellik matrisini oluşturur ve oluşturulan matrisi ve kelime dağarcığını ekrana yazdırır.\n",
    "\n",
    "**TfidfVectorizer**, \"Term Frequency-Inverse Document Frequency\" (TF-IDF) yöntemi kullanarak belgelerdeki kelimelerin önem derecelerini hesaplamak için kullanılan bir vektörleştirici sınıfıdır. Bu sınıf, bir metin belgesindeki her kelimenin bir sayısal vektörle temsil edildiği bir dizi sayı döndürür. Bu sayılar, kelimenin belge içindeki görülme sıklığına ve tüm belgelerdeki görülme sıklığına bağlı olarak hesaplanır. TF-IDF, bir kelimenin önemini belirlemek için kelimenin sıklığına odaklanırken, aynı zamanda kelimenin nadir olup olmadığını da dikkate alır. Bu nedenle, bir belge içindeki sık kullanılan kelimelerin önemi düşükken, nadir kullanılan kelimelerin önemi yüksektir.\n",
    "\n",
    "**Xfit_tfidf**'in T (transpozu alınarak) öznitelik matrisi oluşturulur.\n",
    "\n",
    "**get_feature_names_out()** fonksiyonu özelliklerin sıralı bir listesini döndürür.\n",
    "\n",
    "Tüm bu işlemlerin sonunda, **Tf-Idf** matrisi (X_tfidf) ve kelime dağarcığı (words_tfidf) yazdırılır."
   ]
  },
  {
   "cell_type": "code",
   "execution_count": 4,
   "metadata": {},
   "outputs": [
    {
     "name": "stdout",
     "output_type": "stream",
     "text": [
      "X_tfidf: \n",
      "[[0.         0.         0.         0.51199172]\n",
      " [0.24149156 0.34405055 0.         0.        ]\n",
      " [0.30630142 0.         0.         0.        ]\n",
      " [0.         0.43638449 0.         0.        ]\n",
      " [0.         0.43638449 0.         0.        ]\n",
      " [0.30630142 0.         0.         0.        ]\n",
      " [0.         0.         0.         0.51199172]\n",
      " [0.61260284 0.         0.         0.        ]\n",
      " [0.19550823 0.         0.41137791 0.32679768]\n",
      " [0.         0.         0.64450299 0.        ]\n",
      " [0.         0.         0.         0.51199172]\n",
      " [0.39101646 0.55707714 0.         0.32679768]\n",
      " [0.         0.         0.64450299 0.        ]\n",
      " [0.30630142 0.         0.         0.        ]\n",
      " [0.         0.43638449 0.         0.        ]\n",
      " [0.30630142 0.         0.         0.        ]]\n",
      "Words: ['best' 'bird' 'bush' 'early' 'gets' 'hand' 'honesty' 'in' 'is' 'money'\n",
      " 'policy' 'the' 'time' 'two' 'worm' 'worth']\n"
     ]
    }
   ],
   "source": [
    "# Create instance of vectorizer\n",
    "vectorizer_tfidf = TfidfVectorizer()\n",
    "# Perform word counts\n",
    "Xfit_tfidf = vectorizer_tfidf.fit_transform(list_message)\n",
    "# Generate feature matrix (transpose so sample axis is in column direction)\n",
    "X_tfidf = Xfit_tfidf.toarray().T\n",
    "print(\"X_tfidf: \\n{}\".format(X_tfidf))\n",
    "# list words in vocabulary (turn into numpy array)\n",
    "words_tfidf = np.array(vectorizer_tfidf.get_feature_names_out())\n",
    "print(\"Words: {}\".format(words_tfidf))"
   ]
  },
  {
   "attachments": {},
   "cell_type": "markdown",
   "metadata": {},
   "source": [
    "(a)\n",
    "\n",
    "df = (X>0), bir kelimenin belirli bir belgede bulunup bulunmadığını belirlemek için kullanılır. Eğer X matrisindeki \n",
    "tüm elemanlar 0'dan büyük ise **True** döndürülür, diğer durumlarda **False** döndürülür."
   ]
  },
  {
   "cell_type": "code",
   "execution_count": 5,
   "metadata": {},
   "outputs": [
    {
     "data": {
      "text/plain": [
       "array([[False, False, False,  True],\n",
       "       [ True,  True, False, False],\n",
       "       [ True, False, False, False],\n",
       "       [False,  True, False, False],\n",
       "       [False,  True, False, False],\n",
       "       [ True, False, False, False],\n",
       "       [False, False, False,  True],\n",
       "       [ True, False, False, False],\n",
       "       [ True, False,  True,  True],\n",
       "       [False, False,  True, False],\n",
       "       [False, False, False,  True],\n",
       "       [ True,  True, False,  True],\n",
       "       [False, False,  True, False],\n",
       "       [ True, False, False, False],\n",
       "       [False,  True, False, False],\n",
       "       [ True, False, False, False]])"
      ]
     },
     "execution_count": 5,
     "metadata": {},
     "output_type": "execute_result"
    }
   ],
   "source": [
    "# Create matrix of True False if word i appears in document j\n",
    "df = (X>0)\n",
    "df"
   ]
  },
  {
   "attachments": {},
   "cell_type": "markdown",
   "metadata": {},
   "source": [
    "Aşağıdaki kodda, df numpy array'indeki tüm itemlar toplanır."
   ]
  },
  {
   "cell_type": "code",
   "execution_count": 6,
   "metadata": {},
   "outputs": [
    {
     "data": {
      "text/plain": [
       "array([[1],\n",
       "       [2],\n",
       "       [1],\n",
       "       [1],\n",
       "       [1],\n",
       "       [1],\n",
       "       [1],\n",
       "       [1],\n",
       "       [3],\n",
       "       [1],\n",
       "       [1],\n",
       "       [3],\n",
       "       [1],\n",
       "       [1],\n",
       "       [1],\n",
       "       [1]])"
      ]
     },
     "execution_count": 6,
     "metadata": {},
     "output_type": "execute_result"
    }
   ],
   "source": [
    "### sum in column direction to get document frequency vector\n",
    "df = np.sum(df,axis=1,keepdims=True)\n",
    "df"
   ]
  },
  {
   "attachments": {},
   "cell_type": "markdown",
   "metadata": {},
   "source": [
    "(b)\n",
    "\n",
    "Bir kelimenin tüm belgelerde kaç kez yazıldığını bulmak için aşağıdaki kod yazılmıştır.\n",
    "\n",
    "list_message listesinin uzunluğu bulunur.\n",
    "\n",
    "**n** = belge sayısıdır.\n",
    "**df_i** = kelimenin görüldüğü belge sayısıdır.\n",
    "\n",
    "**log((1+ndoc)/(1+df))+1** hesaplandıktan sonra *idf* değişkenine atanır."
   ]
  },
  {
   "cell_type": "code",
   "execution_count": 7,
   "metadata": {},
   "outputs": [
    {
     "data": {
      "text/plain": [
       "array([[1.91629073],\n",
       "       [1.51082562],\n",
       "       [1.91629073],\n",
       "       [1.91629073],\n",
       "       [1.91629073],\n",
       "       [1.91629073],\n",
       "       [1.91629073],\n",
       "       [1.91629073],\n",
       "       [1.22314355],\n",
       "       [1.91629073],\n",
       "       [1.91629073],\n",
       "       [1.22314355],\n",
       "       [1.91629073],\n",
       "       [1.91629073],\n",
       "       [1.91629073],\n",
       "       [1.91629073]])"
      ]
     },
     "execution_count": 7,
     "metadata": {},
     "output_type": "execute_result"
    }
   ],
   "source": [
    "ndoc = len(list_message)\n",
    "idf = np.log((1+ndoc)/(1+df))+1\n",
    "idf"
   ]
  },
  {
   "attachments": {},
   "cell_type": "markdown",
   "metadata": {},
   "source": [
    "(c)\n",
    "\n",
    "X matrisi ile idf matrisi çarpılır."
   ]
  },
  {
   "cell_type": "code",
   "execution_count": 8,
   "metadata": {},
   "outputs": [
    {
     "data": {
      "text/plain": [
       "array([[0.        , 0.        , 0.        , 1.91629073],\n",
       "       [1.51082562, 1.51082562, 0.        , 0.        ],\n",
       "       [1.91629073, 0.        , 0.        , 0.        ],\n",
       "       [0.        , 1.91629073, 0.        , 0.        ],\n",
       "       [0.        , 1.91629073, 0.        , 0.        ],\n",
       "       [1.91629073, 0.        , 0.        , 0.        ],\n",
       "       [0.        , 0.        , 0.        , 1.91629073],\n",
       "       [3.83258146, 0.        , 0.        , 0.        ],\n",
       "       [1.22314355, 0.        , 1.22314355, 1.22314355],\n",
       "       [0.        , 0.        , 1.91629073, 0.        ],\n",
       "       [0.        , 0.        , 0.        , 1.91629073],\n",
       "       [2.4462871 , 2.4462871 , 0.        , 1.22314355],\n",
       "       [0.        , 0.        , 1.91629073, 0.        ],\n",
       "       [1.91629073, 0.        , 0.        , 0.        ],\n",
       "       [0.        , 1.91629073, 0.        , 0.        ],\n",
       "       [1.91629073, 0.        , 0.        , 0.        ]])"
      ]
     },
     "execution_count": 8,
     "metadata": {},
     "output_type": "execute_result"
    }
   ],
   "source": [
    "tfidf = X*idf\n",
    "tfidf"
   ]
  },
  {
   "attachments": {},
   "cell_type": "markdown",
   "metadata": {},
   "source": [
    "(d)\n",
    "\n",
    "Bu kodda ise axis=0 olduğundan sütun bazında işlemler yapılır.\n",
    "tfidf matrisinin karesi alınır.keepdims=True olduğu için sonucun boyutu korunacaktır. Bu işlemlerin toplamı alınır. Ve en sonunda bu toplamın karekökü hesaplanmıştır."
   ]
  },
  {
   "cell_type": "code",
   "execution_count": 9,
   "metadata": {},
   "outputs": [
    {
     "data": {
      "text/plain": [
       "array([[6.25622539, 4.39128969, 2.97328446, 3.74281589]])"
      ]
     },
     "execution_count": 9,
     "metadata": {},
     "output_type": "execute_result"
    }
   ],
   "source": [
    "lencoltfidf = np.sqrt(np.sum(np.square(tfidf),axis=0,keepdims=True))\n",
    "lencoltfidf"
   ]
  },
  {
   "attachments": {},
   "cell_type": "markdown",
   "metadata": {},
   "source": [
    "(e)\n",
    "\n",
    "tfidf matrisi, lencoltfidf matrisine bölünerek tfidf matrisi adı verilmiştir.\n"
   ]
  },
  {
   "cell_type": "code",
   "execution_count": 10,
   "metadata": {},
   "outputs": [
    {
     "data": {
      "text/plain": [
       "array([[0.        , 0.        , 0.        , 0.51199172],\n",
       "       [0.24149156, 0.34405055, 0.        , 0.        ],\n",
       "       [0.30630142, 0.        , 0.        , 0.        ],\n",
       "       [0.        , 0.43638449, 0.        , 0.        ],\n",
       "       [0.        , 0.43638449, 0.        , 0.        ],\n",
       "       [0.30630142, 0.        , 0.        , 0.        ],\n",
       "       [0.        , 0.        , 0.        , 0.51199172],\n",
       "       [0.61260284, 0.        , 0.        , 0.        ],\n",
       "       [0.19550823, 0.        , 0.41137791, 0.32679768],\n",
       "       [0.        , 0.        , 0.64450299, 0.        ],\n",
       "       [0.        , 0.        , 0.        , 0.51199172],\n",
       "       [0.39101646, 0.55707714, 0.        , 0.32679768],\n",
       "       [0.        , 0.        , 0.64450299, 0.        ],\n",
       "       [0.30630142, 0.        , 0.        , 0.        ],\n",
       "       [0.        , 0.43638449, 0.        , 0.        ],\n",
       "       [0.30630142, 0.        , 0.        , 0.        ]])"
      ]
     },
     "execution_count": 10,
     "metadata": {},
     "output_type": "execute_result"
    }
   ],
   "source": [
    "tfidf = tfidf/lencoltfidf\n",
    "tfidf"
   ]
  },
  {
   "cell_type": "code",
   "execution_count": 11,
   "metadata": {},
   "outputs": [
    {
     "data": {
      "text/plain": [
       "array([[0.        , 0.        , 0.        , 0.51199172],\n",
       "       [0.24149156, 0.34405055, 0.        , 0.        ],\n",
       "       [0.30630142, 0.        , 0.        , 0.        ],\n",
       "       [0.        , 0.43638449, 0.        , 0.        ],\n",
       "       [0.        , 0.43638449, 0.        , 0.        ],\n",
       "       [0.30630142, 0.        , 0.        , 0.        ],\n",
       "       [0.        , 0.        , 0.        , 0.51199172],\n",
       "       [0.61260284, 0.        , 0.        , 0.        ],\n",
       "       [0.19550823, 0.        , 0.41137791, 0.32679768],\n",
       "       [0.        , 0.        , 0.64450299, 0.        ],\n",
       "       [0.        , 0.        , 0.        , 0.51199172],\n",
       "       [0.39101646, 0.55707714, 0.        , 0.32679768],\n",
       "       [0.        , 0.        , 0.64450299, 0.        ],\n",
       "       [0.30630142, 0.        , 0.        , 0.        ],\n",
       "       [0.        , 0.43638449, 0.        , 0.        ],\n",
       "       [0.30630142, 0.        , 0.        , 0.        ]])"
      ]
     },
     "execution_count": 11,
     "metadata": {},
     "output_type": "execute_result"
    }
   ],
   "source": [
    "X_tfidf"
   ]
  }
 ],
 "metadata": {
  "kernelspec": {
   "display_name": "work_env",
   "language": "python",
   "name": "python3"
  },
  "language_info": {
   "codemirror_mode": {
    "name": "ipython",
    "version": 3
   },
   "file_extension": ".py",
   "mimetype": "text/x-python",
   "name": "python",
   "nbconvert_exporter": "python",
   "pygments_lexer": "ipython3",
   "version": "3.10.8"
  },
  "orig_nbformat": 4
 },
 "nbformat": 4,
 "nbformat_minor": 2
}
